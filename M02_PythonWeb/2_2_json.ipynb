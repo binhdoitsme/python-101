{
 "cells": [
  {
   "attachments": {},
   "cell_type": "markdown",
   "metadata": {},
   "source": [
    "# Working with JSON & XML"
   ]
  },
  {
   "attachments": {},
   "cell_type": "markdown",
   "metadata": {},
   "source": [
    "## XML syntax\n",
    "\n",
    "```\n",
    "<?xml version=\"1.0\" encoding=\"UTF-8\"?>  --> XML header\n",
    "<!DOCTYPE beans PUBLIC \"-//SPRING//DTD BEAN 2.0//EN\"\n",
    "    \"http://www.springframework.org/dtd/spring-beans-2.0.dtd\">  --> Data type definition import\n",
    "\n",
    "<beans xmlns=\"http://www.springframework.org/schema/beans\"  --> namespace definition\n",
    "    xmlns:xsi=\"http://www.w3.org/2001/XMLSchema-instance\"\n",
    "    xsi:schemaLocation=\"http://www.springframework.org/schema/beans http://www.springframework.org/schema/beans/spring-beans.xsd\">\n",
    "\n",
    "    <Tag>  --> Opening tag\n",
    "    </Tag> --> Closing tag\n",
    "\n",
    "    <SelfClosingTag />\n",
    "\n",
    "    <StringValue>value</StringValue>   --> corresponding to: `StringValue: \"value\"`\n",
    "    <IntValue>1</IntValue>             --> corresponding to: `IntValue: 1`\n",
    "    <FloatValue>1.02</FloatValue>      --> corresponding to: `FloatValue: 1.02`\n",
    "    <ListValues>                       --> corresponding to: `ListValue:[{ListItem:1}, {ListItem:2}, {ListItem:3}]`\n",
    "        <ListItem>1</ListItem>\n",
    "        <ListItem>2</ListItem>\n",
    "        <ListItem>3</ListItem>\n",
    "    </ListValues>\n",
    "\n",
    "    <!-- this is a comment -->\n",
    "    <!-- Using attributes -->\n",
    "    <DictValues a=\"1\" b=\"1.23\" />      --> `DictValues: {a: \"1\", b: \"1.23\"}`\n",
    "</beans>\n",
    "```"
   ]
  },
  {
   "attachments": {},
   "cell_type": "markdown",
   "metadata": {},
   "source": [
    "## JSON syntax\n",
    "\n",
    "```\n",
    "{\"key\":<value>}\n",
    "```\n",
    "or\n",
    "```\n",
    "[<value>, <value>]\n",
    "```\n",
    "\n",
    "Each key always appears at most once per object literal (`{}`).\n"
   ]
  },
  {
   "attachments": {},
   "cell_type": "markdown",
   "metadata": {},
   "source": [
    "## JSON data types\n",
    "\n",
    "* String: `\"this is a string\"`\n",
    "* Number: Int (`12345`), Floating-point (`1.2345`)\n",
    "* Array: list of JSON elements: `[1, 2, 3, 4]`, `[{}, {}, {}]`, `[1, \"2\", \"4444\"]`, often of the same type.\n",
    "* Null: `null`\n",
    "* Boolean: `true` or `false`\n",
    "\n",
    "A complete example of JSON:\n",
    "```\n",
    "{\n",
    "    \"name\": \"BinhDo\",\n",
    "    \"age\": 23,\n",
    "    \"education\": [\n",
    "        {\"type\": \"university\", \"place\": \"Hanoi University\", \"start\": 2018, \"end\": 2021}\n",
    "    ],\n",
    "    \"marriage\": null\n",
    "}\n",
    "```"
   ]
  },
  {
   "attachments": {},
   "cell_type": "markdown",
   "metadata": {},
   "source": [
    "**Challenge**: Create a JSON storing basic information about you. Store in `aboutme.json`."
   ]
  },
  {
   "attachments": {},
   "cell_type": "markdown",
   "metadata": {},
   "source": [
    "## Parsing JSON using Python"
   ]
  },
  {
   "cell_type": "code",
   "execution_count": 1,
   "metadata": {},
   "outputs": [
    {
     "data": {
      "text/plain": [
       "True"
      ]
     },
     "execution_count": 1,
     "metadata": {},
     "output_type": "execute_result"
    }
   ],
   "source": [
    "# ISO Date\n",
    "s1 = \"2022-08-01 19:00:00.000\"\n",
    "s2 = \"2022-08-02 19:00:00.000\"\n",
    "\n",
    "s1 < s2"
   ]
  },
  {
   "cell_type": "code",
   "execution_count": 5,
   "metadata": {},
   "outputs": [
    {
     "name": "stdout",
     "output_type": "stream",
     "text": [
      "package name: my_package\n"
     ]
    },
    {
     "data": {
      "text/plain": [
       "{'name': 'my_package',\n",
       " 'description': '',\n",
       " 'version': '1.0.0',\n",
       " 'scripts': {'test': 'echo \"Error: no test specified\" && exit 1'},\n",
       " 'repository': {'type': 'git',\n",
       "  'url': 'https://github.com/monatheoctocat/my_package.git'},\n",
       " 'keywords': [],\n",
       " 'author': '',\n",
       " 'license': 'ISC',\n",
       " 'bugs': {'url': 'https://github.com/monatheoctocat/my_package/issues'},\n",
       " 'homepage': 'https://github.com/monatheoctocat/my_package'}"
      ]
     },
     "execution_count": 5,
     "metadata": {},
     "output_type": "execute_result"
    }
   ],
   "source": [
    "import json\n",
    "\n",
    "# work with strings\n",
    "with open(\"package.json\", \"r\") as reader:\n",
    "    content = reader.read() # read file content as string\n",
    "    # parse string content of JSON format (`JSON string --> dict`)\n",
    "    content_dict = json.loads(content)\n",
    "print(\"package name:\", content_dict[\"name\"])\n",
    "content_dict"
   ]
  },
  {
   "cell_type": "code",
   "execution_count": 6,
   "metadata": {},
   "outputs": [
    {
     "ename": "JSONDecodeError",
     "evalue": "Expecting value: line 1 column 1 (char 0)",
     "output_type": "error",
     "traceback": [
      "\u001b[0;31m---------------------------------------------------------------------------\u001b[0m",
      "\u001b[0;31mJSONDecodeError\u001b[0m                           Traceback (most recent call last)",
      "Cell \u001b[0;32mIn[6], line 3\u001b[0m\n\u001b[1;32m      1\u001b[0m \u001b[39m# exceptional case\u001b[39;00m\n\u001b[1;32m      2\u001b[0m not_json_content \u001b[39m=\u001b[39m \u001b[39m\"\u001b[39m\u001b[39mthis is not JSON!\u001b[39m\u001b[39m\"\u001b[39m\n\u001b[0;32m----> 3\u001b[0m json\u001b[39m.\u001b[39;49mloads(not_json_content)\n",
      "File \u001b[0;32m~/.pyenv/versions/3.9.7/lib/python3.9/json/__init__.py:346\u001b[0m, in \u001b[0;36mloads\u001b[0;34m(s, cls, object_hook, parse_float, parse_int, parse_constant, object_pairs_hook, **kw)\u001b[0m\n\u001b[1;32m    341\u001b[0m     s \u001b[39m=\u001b[39m s\u001b[39m.\u001b[39mdecode(detect_encoding(s), \u001b[39m'\u001b[39m\u001b[39msurrogatepass\u001b[39m\u001b[39m'\u001b[39m)\n\u001b[1;32m    343\u001b[0m \u001b[39mif\u001b[39;00m (\u001b[39mcls\u001b[39m \u001b[39mis\u001b[39;00m \u001b[39mNone\u001b[39;00m \u001b[39mand\u001b[39;00m object_hook \u001b[39mis\u001b[39;00m \u001b[39mNone\u001b[39;00m \u001b[39mand\u001b[39;00m\n\u001b[1;32m    344\u001b[0m         parse_int \u001b[39mis\u001b[39;00m \u001b[39mNone\u001b[39;00m \u001b[39mand\u001b[39;00m parse_float \u001b[39mis\u001b[39;00m \u001b[39mNone\u001b[39;00m \u001b[39mand\u001b[39;00m\n\u001b[1;32m    345\u001b[0m         parse_constant \u001b[39mis\u001b[39;00m \u001b[39mNone\u001b[39;00m \u001b[39mand\u001b[39;00m object_pairs_hook \u001b[39mis\u001b[39;00m \u001b[39mNone\u001b[39;00m \u001b[39mand\u001b[39;00m \u001b[39mnot\u001b[39;00m kw):\n\u001b[0;32m--> 346\u001b[0m     \u001b[39mreturn\u001b[39;00m _default_decoder\u001b[39m.\u001b[39;49mdecode(s)\n\u001b[1;32m    347\u001b[0m \u001b[39mif\u001b[39;00m \u001b[39mcls\u001b[39m \u001b[39mis\u001b[39;00m \u001b[39mNone\u001b[39;00m:\n\u001b[1;32m    348\u001b[0m     \u001b[39mcls\u001b[39m \u001b[39m=\u001b[39m JSONDecoder\n",
      "File \u001b[0;32m~/.pyenv/versions/3.9.7/lib/python3.9/json/decoder.py:337\u001b[0m, in \u001b[0;36mJSONDecoder.decode\u001b[0;34m(self, s, _w)\u001b[0m\n\u001b[1;32m    332\u001b[0m \u001b[39mdef\u001b[39;00m \u001b[39mdecode\u001b[39m(\u001b[39mself\u001b[39m, s, _w\u001b[39m=\u001b[39mWHITESPACE\u001b[39m.\u001b[39mmatch):\n\u001b[1;32m    333\u001b[0m     \u001b[39m\"\"\"Return the Python representation of ``s`` (a ``str`` instance\u001b[39;00m\n\u001b[1;32m    334\u001b[0m \u001b[39m    containing a JSON document).\u001b[39;00m\n\u001b[1;32m    335\u001b[0m \n\u001b[1;32m    336\u001b[0m \u001b[39m    \"\"\"\u001b[39;00m\n\u001b[0;32m--> 337\u001b[0m     obj, end \u001b[39m=\u001b[39m \u001b[39mself\u001b[39;49m\u001b[39m.\u001b[39;49mraw_decode(s, idx\u001b[39m=\u001b[39;49m_w(s, \u001b[39m0\u001b[39;49m)\u001b[39m.\u001b[39;49mend())\n\u001b[1;32m    338\u001b[0m     end \u001b[39m=\u001b[39m _w(s, end)\u001b[39m.\u001b[39mend()\n\u001b[1;32m    339\u001b[0m     \u001b[39mif\u001b[39;00m end \u001b[39m!=\u001b[39m \u001b[39mlen\u001b[39m(s):\n",
      "File \u001b[0;32m~/.pyenv/versions/3.9.7/lib/python3.9/json/decoder.py:355\u001b[0m, in \u001b[0;36mJSONDecoder.raw_decode\u001b[0;34m(self, s, idx)\u001b[0m\n\u001b[1;32m    353\u001b[0m     obj, end \u001b[39m=\u001b[39m \u001b[39mself\u001b[39m\u001b[39m.\u001b[39mscan_once(s, idx)\n\u001b[1;32m    354\u001b[0m \u001b[39mexcept\u001b[39;00m \u001b[39mStopIteration\u001b[39;00m \u001b[39mas\u001b[39;00m err:\n\u001b[0;32m--> 355\u001b[0m     \u001b[39mraise\u001b[39;00m JSONDecodeError(\u001b[39m\"\u001b[39m\u001b[39mExpecting value\u001b[39m\u001b[39m\"\u001b[39m, s, err\u001b[39m.\u001b[39mvalue) \u001b[39mfrom\u001b[39;00m \u001b[39mNone\u001b[39m\n\u001b[1;32m    356\u001b[0m \u001b[39mreturn\u001b[39;00m obj, end\n",
      "\u001b[0;31mJSONDecodeError\u001b[0m: Expecting value: line 1 column 1 (char 0)"
     ]
    }
   ],
   "source": [
    "# exceptional case\n",
    "not_json_content = \"this is not JSON!\"\n",
    "json.loads(not_json_content)"
   ]
  },
  {
   "cell_type": "code",
   "execution_count": 8,
   "metadata": {},
   "outputs": [],
   "source": [
    "# convert dictionary to JSON string\n",
    "mydict = {\n",
    "    \"title\": \"2022-2023 UEFA Champions League\",\n",
    "    \"winner\": \"Manchester City FC\",\n",
    "    \"finalDate\": \"2023-06-10\",\n",
    "}\n",
    "\n",
    "mydict_json_str = json.dumps(mydict)\n",
    "with open(\"ucl.json\", \"w\") as writer:\n",
    "    writer.write(mydict_json_str)"
   ]
  },
  {
   "cell_type": "code",
   "execution_count": 10,
   "metadata": {},
   "outputs": [
    {
     "name": "stdout",
     "output_type": "stream",
     "text": [
      "{'Location': 'Nguyen Trai'}\n"
     ]
    },
    {
     "data": {
      "text/plain": [
       "{'AboutMe': {'Location': 'Nguyen Trai'},\n",
       " 'Info': {'Name': 'Gia minh', 'Age': 17, 'Height': '6ft'}}"
      ]
     },
     "execution_count": 10,
     "metadata": {},
     "output_type": "execute_result"
    }
   ],
   "source": [
    "filename = \"minh.json\"\n",
    "\n",
    "with open(filename, \"r\") as reader:\n",
    "    content = reader.read()\n",
    "\n",
    "# parse string content of JSON format (`JSON string --> dict`)\n",
    "content_dict = json.loads(content)\n",
    "# go down 1 level at a time using their keys\n",
    "print(content_dict[\"AboutMe\"]) \n",
    "print(content_dict[\"AboutMe\"][\"Location\"]) # full property path\n",
    "\n",
    "content_dict"
   ]
  },
  {
   "attachments": {},
   "cell_type": "markdown",
   "metadata": {},
   "source": [
    "Steps to `extract` a specific value from JSON:\n",
    "\n",
    "1. Identify the desired value\n",
    "2. Identify its corresponding key (if in an array, go up a level)\n",
    "3. If the enclosing object `{}` is not outermost, repeat 1-2 from the enclosing object\n",
    "\n",
    "Example: Need to get Location value in the above JSON\n",
    "1. Need to get value from `Location` key                       <----- keep this key\n",
    "2. Enclosing `Location` key is an object which is not outermost -> go out a level\n",
    "3. Corresponding to `{\"Location\":...}` object is `AboutMe`     <----- keep this key\n",
    "4. Enclosing `AboutMe` key is the outermost object -> stop\n",
    "\n",
    "=> Property path (from outer to inner): `AboutMe -> Location`\n",
    "\n",
    "=> code: `content_dict[\"AboutMe\"][\"Location\"]`"
   ]
  },
  {
   "attachments": {},
   "cell_type": "markdown",
   "metadata": {},
   "source": [
    "## Homework\n",
    "\n",
    "* Get all product names & discounted price in the cart with id = 1 using this endpoint: https://dummyjson.com/carts\n",
    "* From the to-do endpoint: https://dummyjson.com/todos:\n",
    "  * Get all to-dos created by user with ID = 15\n",
    "  * Get all completed to-dos (having `completed = true`)"
   ]
  },
  {
   "cell_type": "code",
   "execution_count": null,
   "metadata": {},
   "outputs": [],
   "source": []
  }
 ],
 "metadata": {
  "kernelspec": {
   "display_name": "Python 3",
   "language": "python",
   "name": "python3"
  },
  "language_info": {
   "codemirror_mode": {
    "name": "ipython",
    "version": 3
   },
   "file_extension": ".py",
   "mimetype": "text/x-python",
   "name": "python",
   "nbconvert_exporter": "python",
   "pygments_lexer": "ipython3",
   "version": "3.9.7"
  },
  "orig_nbformat": 4
 },
 "nbformat": 4,
 "nbformat_minor": 2
}
