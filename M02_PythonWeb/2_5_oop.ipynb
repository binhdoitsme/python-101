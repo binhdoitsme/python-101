{
 "cells": [
  {
   "cell_type": "markdown",
   "metadata": {},
   "source": [
    "# Object oriented programming"
   ]
  },
  {
   "cell_type": "markdown",
   "metadata": {},
   "source": [
    "## Class & Object\n",
    "\n",
    "* Object: any entity that has:\n",
    "  * Properties/Attributes: name, age\n",
    "  * Behaviours: walk, swim, bark\n",
    "* Class: objects that share properties and behaviours are said to be in the same class\n",
    "\n",
    "=> Why call it \"Object oriented programming\"? "
   ]
  },
  {
   "cell_type": "code",
   "execution_count": null,
   "metadata": {},
   "outputs": [],
   "source": [
    "len([])\n",
    "[].__len__()\n",
    "print(__name__)\n",
    "def __mypackageversion__():\n",
    "    return \"1.0.0\""
   ]
  },
  {
   "cell_type": "code",
   "execution_count": 4,
   "metadata": {},
   "outputs": [
    {
     "name": "stdout",
     "output_type": "stream",
     "text": [
      "ID of p1 is 0123456789\n",
      "Name of p1 is P1\n",
      "My ID is 0123456789\n",
      "I am walking!\n"
     ]
    }
   ],
   "source": [
    "# Defining a simple class\n",
    "class Person:  # class name definition\n",
    "    # Step 1: initialize an object\n",
    "    # constructor\n",
    "    def __init__(self, id: str, name: str):\n",
    "        # init = initialize object attributes\n",
    "        # self = current object (here: object being initialized)\n",
    "\n",
    "        # create a property named `id` on `self`\n",
    "        # and gives it initial value of the passed `id`\n",
    "        self.id = id\n",
    "        self.name = name\n",
    "\n",
    "        # all properties have to be initialized HERE\n",
    "\n",
    "    # Step 2: create behaviours a.k.a `methods`\n",
    "    def walk(self):\n",
    "        print(f\"My ID is {self.id}\")\n",
    "        print(\"I am walking!\")\n",
    "\n",
    "\n",
    "# create objects of class Person\n",
    "# sometimes objects are called `instances`\n",
    "p1 = Person(id=\"0123456789\", name=\"P1\")  # equal to calling __init__() of Person class\n",
    "# self is implicitly passed as parameter so never pass `self` directly\n",
    "print(\"ID of p1 is\", p1.id)  # get value of property `id` of `p1`\n",
    "print(\"Name of p1 is\", p1.name)  # get value of property `id` of `p1`\n",
    "\n",
    "# calling behaviour\n",
    "# self is implicitly passed as parameter so never pass `self` directly\n",
    "p1.walk()\n"
   ]
  },
  {
   "cell_type": "markdown",
   "metadata": {},
   "source": [
    "Practice: Write a class CPU which has the following properties:\n",
    "* `release_year`: int\n",
    "* `name`: str\n",
    "* `brand`: str\\\n",
    "and following behaviours:\n",
    "* `info()`: Show information about the current CPU\n",
    "\n",
    "Then create 5 different instances of CPU class."
   ]
  },
  {
   "cell_type": "markdown",
   "metadata": {},
   "source": [
    "Read more about Dataclasses: https://realpython.com/python-data-classes/"
   ]
  },
  {
   "cell_type": "code",
   "execution_count": null,
   "metadata": {},
   "outputs": [],
   "source": []
  }
 ],
 "metadata": {
  "kernelspec": {
   "display_name": "Python 3",
   "language": "python",
   "name": "python3"
  },
  "language_info": {
   "codemirror_mode": {
    "name": "ipython",
    "version": 3
   },
   "file_extension": ".py",
   "mimetype": "text/x-python",
   "name": "python",
   "nbconvert_exporter": "python",
   "pygments_lexer": "ipython3",
   "version": "3.9.7"
  },
  "orig_nbformat": 4
 },
 "nbformat": 4,
 "nbformat_minor": 2
}
