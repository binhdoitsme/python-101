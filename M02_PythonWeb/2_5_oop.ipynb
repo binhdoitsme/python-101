{
 "cells": [
  {
   "cell_type": "markdown",
   "metadata": {},
   "source": [
    "# Object oriented programming"
   ]
  },
  {
   "cell_type": "markdown",
   "metadata": {},
   "source": [
    "## Class & Object\n",
    "\n",
    "* Object: any entity that has:\n",
    "  * Properties/Attributes: name, age\n",
    "  * Behaviours: walk, swim, bark\n",
    "* Class: objects that share properties and behaviours are said to be in the same class\n",
    "\n",
    "=> Why call it \"Object oriented programming\"? "
   ]
  },
  {
   "cell_type": "code",
   "execution_count": null,
   "metadata": {},
   "outputs": [],
   "source": [
    "len([])\n",
    "[].__len__()\n",
    "print(__name__)\n",
    "def __mypackageversion__():\n",
    "    return \"1.0.0\""
   ]
  },
  {
   "cell_type": "code",
   "execution_count": 4,
   "metadata": {},
   "outputs": [
    {
     "name": "stdout",
     "output_type": "stream",
     "text": [
      "ID of p1 is 0123456789\n",
      "Name of p1 is P1\n",
      "My ID is 0123456789\n",
      "I am walking!\n"
     ]
    }
   ],
   "source": [
    "# Defining a simple class\n",
    "class Person:  # class name definition\n",
    "    # Step 1: initialize an object\n",
    "    # constructor\n",
    "    def __init__(self, id: str, name: str):\n",
    "        # init = initialize object attributes\n",
    "        # self = current object (here: object being initialized)\n",
    "\n",
    "        # create a property named `id` on `self`\n",
    "        # and gives it initial value of the passed `id`\n",
    "        self.id = id\n",
    "        self.name = name\n",
    "\n",
    "        # all properties have to be initialized HERE\n",
    "\n",
    "    # Step 2: create behaviours a.k.a `methods`\n",
    "    def walk(self):\n",
    "        print(f\"My ID is {self.id}\")\n",
    "        print(\"I am walking!\")\n",
    "\n",
    "\n",
    "# create objects of class Person\n",
    "# sometimes objects are called `instances`\n",
    "p1 = Person(id=\"0123456789\", name=\"P1\")  # equal to calling __init__() of Person class\n",
    "# self is implicitly passed as parameter so never pass `self` directly\n",
    "print(\"ID of p1 is\", p1.id)  # get value of property `id` of `p1`\n",
    "print(\"Name of p1 is\", p1.name)  # get value of property `id` of `p1`\n",
    "\n",
    "# calling behaviour\n",
    "# self is implicitly passed as parameter so never pass `self` directly\n",
    "p1.walk()\n"
   ]
  },
  {
   "cell_type": "markdown",
   "metadata": {},
   "source": [
    "Practice: Write a class CPU which has the following properties:\n",
    "* `release_year`: int\n",
    "* `name`: str\n",
    "* `brand`: str\\\n",
    "and following behaviours:\n",
    "* `info()`: Show information about the current CPU\n",
    "\n",
    "Then create 5 different instances of CPU class."
   ]
  },
  {
   "cell_type": "markdown",
   "metadata": {},
   "source": [
    "Read more about Dataclasses: https://realpython.com/python-data-classes/"
   ]
  },
  {
   "cell_type": "markdown",
   "metadata": {},
   "source": [
    "## Data classes\n",
    "\n",
    "* Classes specialize in holding data (a.k.a properties)"
   ]
  },
  {
   "cell_type": "markdown",
   "metadata": {},
   "source": [
    "Higher-order function:"
   ]
  },
  {
   "cell_type": "code",
   "execution_count": 2,
   "metadata": {},
   "outputs": [
    {
     "name": "stdout",
     "output_type": "stream",
     "text": [
      "[2, 2, 3, 4, 6, 9, 14, 22]\n"
     ]
    }
   ],
   "source": [
    "from typing import Callable\n",
    "\n",
    "# f(x), g(x)\n",
    "# f(x) = x + 1\n",
    "# g(x) = x ** 2\n",
    "# f(g(x)) -> higher order function\n",
    "# f(x) = x ** 2 + 1\n",
    "\n",
    "\n",
    "def apply(items: list[int], transformer: Callable):\n",
    "    results = []\n",
    "    for item in items:\n",
    "        new_item = transformer(item)\n",
    "        results.append(new_item)\n",
    "    return results\n",
    "\n",
    "\n",
    "def plus_one(item: int):\n",
    "    return item + 1\n",
    "\n",
    "list_items = [1, 1, 2, 3, 5, 8, 13, 21]\n",
    "results = apply(list_items, plus_one)\n",
    "print(results)"
   ]
  },
  {
   "cell_type": "markdown",
   "metadata": {},
   "source": [
    "Decorator:"
   ]
  },
  {
   "cell_type": "code",
   "execution_count": 8,
   "metadata": {},
   "outputs": [
    {
     "name": "stdout",
     "output_type": "stream",
     "text": [
      "I am  a callback function\n",
      "----\n",
      "I am higher order function\n",
      "I am  a callback function\n"
     ]
    }
   ],
   "source": [
    "def callback_function():\n",
    "    print(\"I am  a callback function\")\n",
    "\n",
    "\n",
    "# higher order function\n",
    "def higher_order_function(func: Callable):\n",
    "    print(\"I am higher order function\")\n",
    "    return func\n",
    "\n",
    "callback_function()\n",
    "print(\"----\")\n",
    "callback_function = higher_order_function(callback_function)  # callback_function is not called here\n",
    "callback_function()\n"
   ]
  },
  {
   "cell_type": "code",
   "execution_count": 6,
   "metadata": {},
   "outputs": [
    {
     "name": "stdout",
     "output_type": "stream",
     "text": [
      "I am higher order function\n",
      "I am  a callback function\n"
     ]
    }
   ],
   "source": [
    "# higher order function\n",
    "def higher_order_function(func: Callable):\n",
    "    print('I am higher order function')\n",
    "    return func\n",
    "\n",
    "\n",
    "@higher_order_function\n",
    "def callback_function():\n",
    "    print('I am  a callback function')\n",
    "\n",
    "# @higher_order_function is the shorthand for:\n",
    "# callback_function = higher_order_function(callback_function)\n",
    "\n",
    "callback_function()\n",
    "\n",
    "# --------------------------------------------\n",
    "# Decorator: A function (f) that wraps another function (g)\n",
    "# and returns a new function under the name `g`\n",
    "# Syntax: \n",
    "# @f\n",
    "# def g(x):\n",
    "#   ..."
   ]
  },
  {
   "cell_type": "markdown",
   "metadata": {},
   "source": [
    "Using `@dataclass` decorator:"
   ]
  },
  {
   "cell_type": "code",
   "execution_count": 9,
   "metadata": {},
   "outputs": [
    {
     "name": "stdout",
     "output_type": "stream",
     "text": [
      "ID of p1 is 0123456789\n",
      "Name of p1 is P1\n",
      "My ID is 0123456789\n",
      "I am walking!\n"
     ]
    }
   ],
   "source": [
    "from dataclasses import dataclass\n",
    "\n",
    "\n",
    "# Defining a simple data class\n",
    "@dataclass  # Step 0: add decorator @dataclass\n",
    "class Person:  # class name definition\n",
    "    # Step 1: define properties\n",
    "    id: str\n",
    "    name: str\n",
    "\n",
    "    # Step 2: create behaviours a.k.a `methods`\n",
    "    def walk(self):\n",
    "        print(f\"My ID is {self.id}\")\n",
    "        print(\"I am walking!\")\n",
    "\n",
    "\n",
    "# create objects of class Person\n",
    "# sometimes objects are called `instances`\n",
    "p1 = Person(id=\"0123456789\", name=\"P1\")  # equal to calling __init__() of Person class\n",
    "# self is implicitly passed as parameter so never pass `self` directly\n",
    "print(\"ID of p1 is\", p1.id)  # get value of property `id` of `p1`\n",
    "print(\"Name of p1 is\", p1.name)  # get value of property `id` of `p1`\n",
    "\n",
    "# calling behaviour\n",
    "# self is implicitly passed as parameter so never pass `self` directly\n",
    "p1.walk()"
   ]
  },
  {
   "cell_type": "markdown",
   "metadata": {},
   "source": [
    "### Pydantic as a more powerful alternative to `@dataclass`"
   ]
  },
  {
   "cell_type": "markdown",
   "metadata": {},
   "source": [
    "Read more about Inheritance in Python: https://realpython.com/inheritance-composition-python/"
   ]
  },
  {
   "cell_type": "code",
   "execution_count": 10,
   "metadata": {},
   "outputs": [
    {
     "name": "stdout",
     "output_type": "stream",
     "text": [
      "ID of p1 is 0123456789\n",
      "Name of p1 is P1\n",
      "My ID is 0123456789\n",
      "I am walking!\n"
     ]
    }
   ],
   "source": [
    "from pydantic import BaseModel\n",
    "\n",
    "class Person(BaseModel):  # extending Person from BaseModel\n",
    "    # A Person is a BaseModel\n",
    "    # Person is a sub-class of BaseModel a.k.a Person is a specific BaseModel\n",
    "\n",
    "    # Step 1: define properties\n",
    "    id: str\n",
    "    name: str\n",
    "\n",
    "    # Step 2: create behaviours a.k.a `methods`\n",
    "    def walk(self):\n",
    "        print(f\"My ID is {self.id}\")\n",
    "        print(\"I am walking!\")\n",
    "\n",
    "# create objects of class Person\n",
    "# sometimes objects are called `instances`\n",
    "p1 = Person(id=\"0123456789\", name=\"P1\")  # equal to calling __init__() of Person class\n",
    "# self is implicitly passed as parameter so never pass `self` directly\n",
    "print(\"ID of p1 is\", p1.id)  # get value of property `id` of `p1`\n",
    "print(\"Name of p1 is\", p1.name)  # get value of property `id` of `p1`\n",
    "\n",
    "# calling behaviour\n",
    "# self is implicitly passed as parameter so never pass `self` directly\n",
    "p1.walk()"
   ]
  },
  {
   "cell_type": "code",
   "execution_count": 12,
   "metadata": {},
   "outputs": [
    {
     "name": "stdout",
     "output_type": "stream",
     "text": [
      "123\n",
      "id=123 name='John Doe' signup_ts=datetime.datetime(2019, 6, 1, 12, 22) tastes={'wine': 9, 'cheese': 7, 'cabbage': 1}\n"
     ]
    }
   ],
   "source": [
    "# trying Pydantic's validation example\n",
    "\n",
    "from datetime import datetime\n",
    "from typing import Optional\n",
    "\n",
    "from pydantic import BaseModel, PositiveInt\n",
    "\n",
    "\n",
    "class User(BaseModel):\n",
    "    id: int\n",
    "    name: str = \"John Doe\"  # default value\n",
    "    signup_ts: Optional[datetime]\n",
    "    tastes: dict[str, PositiveInt]\n",
    "\n",
    "\n",
    "# consider we have a piece of JSON data\n",
    "external_data = {\n",
    "    \"id\": 123,\n",
    "    \"signup_ts\": \"2019-06-01 12:22\",\n",
    "    \"tastes\": {\n",
    "        \"wine\": 9,\n",
    "        b\"cheese\": 7,\n",
    "        \"cabbage\": \"1\",\n",
    "    },\n",
    "    \"age\": 14\n",
    "}\n",
    "\n",
    "# convert dict to object of class User\n",
    "user = User(**external_data)\n",
    "# equals to: User(id=123, signup_ts=\"2019...\", tastes={...}, age=14)\n",
    "\n",
    "print(user.id)\n",
    "print(user)\n"
   ]
  },
  {
   "cell_type": "markdown",
   "metadata": {},
   "source": [
    "Practice:\n",
    "1. List necessary fields/attributes/properties from Steam Market API\n",
    "2. Create a class with these fields\n",
    "3. Try to create some instances of the new class from API responses"
   ]
  },
  {
   "cell_type": "code",
   "execution_count": null,
   "metadata": {},
   "outputs": [],
   "source": []
  }
 ],
 "metadata": {
  "kernelspec": {
   "display_name": "Python 3",
   "language": "python",
   "name": "python3"
  },
  "language_info": {
   "codemirror_mode": {
    "name": "ipython",
    "version": 3
   },
   "file_extension": ".py",
   "mimetype": "text/x-python",
   "name": "python",
   "nbconvert_exporter": "python",
   "pygments_lexer": "ipython3",
   "version": "3.9.7"
  },
  "orig_nbformat": 4
 },
 "nbformat": 4,
 "nbformat_minor": 2
}
