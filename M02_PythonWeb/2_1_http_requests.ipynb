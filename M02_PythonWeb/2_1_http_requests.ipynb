{
 "cells": [
  {
   "attachments": {},
   "cell_type": "markdown",
   "metadata": {},
   "source": [
    "# HTTP requests\n",
    "\n",
    "* Keywords: HTTP, TCP, UDP, MQTT (for IoT), WebSocket (2-way data transfer)"
   ]
  },
  {
   "attachments": {},
   "cell_type": "markdown",
   "metadata": {},
   "source": [
    "HTTP libs for Python: https://www.scrapingbee.com/blog/best-python-http-clients/#3-aiohttphttpsdocsaiohttporg"
   ]
  },
  {
   "attachments": {},
   "cell_type": "markdown",
   "metadata": {},
   "source": [
    "## Inspecting an HTTP request\n",
    "\n",
    "Example: \n",
    "```\n",
    "POST /login HTTP/1.1           <---  start line: Method (GET/POST/PUT/PATCH/DELETE/HEAD/OPTION) -- path/URL -- HTTP version\n",
    "Content-Type: application/json <---  header lines starting here\n",
    "Accept: */*\n",
    "                               <---  blank line\n",
    "{                              <---  request body\n",
    "    \"username\": \"binh.dh\",\n",
    "    \"password\": \"123asd\"\n",
    "}\n",
    "```\n"
   ]
  },
  {
   "attachments": {},
   "cell_type": "markdown",
   "metadata": {},
   "source": [
    "## Inspecting an HTTP response\n",
    "\n",
    "Example: \n",
    "```\n",
    "HTTP/1.1 200 OK\n",
    "Date: Mon, 19 Jul 2004 16:18:20 GMT\n",
    "Server: Apache\n",
    "Last-Modified: Sat, 10 Jul 2004 17:29:19 GMT\n",
    "ETag: \"1d0325-2470-40f0276f\"\n",
    "Accept-Ranges: bytes\n",
    "Content-Length: 9328\n",
    "Connection: close\n",
    "Content-Type: text/html\n",
    "\n",
    "<HTML>\n",
    "<HEAD>\n",
    "... the rest of the home page...\n",
    "```\n",
    "\n",
    "We have those components:\n",
    "* HTTP version + HTTP Status Code + HTTP status code message (https://developer.mozilla.org/en-US/docs/Web/HTTP/Status)\n",
    "* Headers: `key: value` pairs, where keys and values are always strings. Some well-known headers: Content-Type, Authorization, etc.\n",
    "* Body: text representation of the body"
   ]
  },
  {
   "attachments": {},
   "cell_type": "markdown",
   "metadata": {},
   "source": [
    "## Making HTTP requests with `requests`"
   ]
  },
  {
   "attachments": {},
   "cell_type": "markdown",
   "metadata": {},
   "source": [
    "Installation:\n",
    "```\n",
    "python -m pip install requests\n",
    "```"
   ]
  },
  {
   "cell_type": "code",
   "execution_count": null,
   "metadata": {},
   "outputs": [],
   "source": []
  }
 ],
 "metadata": {
  "language_info": {
   "name": "python"
  },
  "orig_nbformat": 4
 },
 "nbformat": 4,
 "nbformat_minor": 2
}
