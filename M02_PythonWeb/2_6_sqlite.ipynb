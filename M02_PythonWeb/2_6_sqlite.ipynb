{
 "cells": [
  {
   "cell_type": "markdown",
   "metadata": {},
   "source": [
    "# SQLite & SQL Implementation"
   ]
  },
  {
   "cell_type": "markdown",
   "metadata": {},
   "source": [
    "## First steps"
   ]
  },
  {
   "cell_type": "markdown",
   "metadata": {},
   "source": [
    "1. Create database: Create a text file `<db_name>.db`"
   ]
  },
  {
   "cell_type": "markdown",
   "metadata": {},
   "source": [
    "2. Connect to database:"
   ]
  },
  {
   "cell_type": "code",
   "execution_count": 2,
   "metadata": {},
   "outputs": [
    {
     "data": {
      "text/plain": [
       "<sqlite3.Connection at 0x1046bb030>"
      ]
     },
     "execution_count": 2,
     "metadata": {},
     "output_type": "execute_result"
    }
   ],
   "source": [
    "import sqlite3\n",
    "\n",
    "# create database file if not exists\n",
    "connection = sqlite3.connect(\"test_db.db\")\n",
    "connection"
   ]
  },
  {
   "cell_type": "markdown",
   "metadata": {},
   "source": [
    "## Table operations\n",
    "* Create table\n",
    "* Alter table\n",
    "* Drop table"
   ]
  },
  {
   "cell_type": "markdown",
   "metadata": {},
   "source": [
    "### Create table\n"
   ]
  },
  {
   "cell_type": "markdown",
   "metadata": {},
   "source": [
    "1. Determine entities and their respective attributes\n",
    "* Entity: `Skin`\n",
    "  * `name`: `TEXT`\n",
    "  * `sell_price`: `REAL`\n",
    "  * `sell_listings`: `INTEGER` (how many people are selling this)"
   ]
  },
  {
   "cell_type": "markdown",
   "metadata": {},
   "source": [
    "2. Create table using SQL command"
   ]
  },
  {
   "cell_type": "code",
   "execution_count": 75,
   "metadata": {},
   "outputs": [
    {
     "data": {
      "text/plain": [
       "<sqlite3.Cursor at 0x10aaca1f0>"
      ]
     },
     "execution_count": 75,
     "metadata": {},
     "output_type": "execute_result"
    }
   ],
   "source": [
    "# SQL command\n",
    "command = \"\"\"\n",
    "CREATE TABLE skins ( -- Table name should be in snake_case\n",
    "    -- list attributes here\n",
    "    name TEXT,\n",
    "    sell_price REAL,\n",
    "    sell_listings INTEGER\n",
    ")\n",
    "\"\"\"\n",
    "\n",
    "cursor = connection.cursor()\n",
    "cursor.execute(command)"
   ]
  },
  {
   "cell_type": "markdown",
   "metadata": {},
   "source": [
    "### Alter table\n",
    "Modify the table's structure without changing existing data. Refer to: https://sqlite.org/lang_altertable.html"
   ]
  },
  {
   "cell_type": "markdown",
   "metadata": {},
   "source": [
    "### Drop table"
   ]
  },
  {
   "cell_type": "code",
   "execution_count": 5,
   "metadata": {},
   "outputs": [
    {
     "data": {
      "text/plain": [
       "<sqlite3.Cursor at 0x10aaedea0>"
      ]
     },
     "execution_count": 5,
     "metadata": {},
     "output_type": "execute_result"
    }
   ],
   "source": [
    "command = \"\"\"\n",
    "DROP TABLE skins\n",
    "\"\"\"\n",
    "\n",
    "cursor.execute(command)"
   ]
  },
  {
   "cell_type": "markdown",
   "metadata": {},
   "source": [
    "## Data operations\n",
    "* Insert\n",
    "* Select\n",
    "* Update\n",
    "* Delete"
   ]
  },
  {
   "cell_type": "markdown",
   "metadata": {},
   "source": [
    "### Select data"
   ]
  },
  {
   "cell_type": "code",
   "execution_count": 11,
   "metadata": {},
   "outputs": [
    {
     "name": "stdout",
     "output_type": "stream",
     "text": [
      "[('skin 1', 0.99, 100), ('skin 2', 0.98, 100)]\n"
     ]
    }
   ],
   "source": [
    "command = \"\"\"\n",
    "SELECT\n",
    "  name, sell_price, sell_listings\n",
    "FROM\n",
    "  skins\n",
    "\"\"\"\n",
    "\n",
    "# execute query\n",
    "skins = cursor.execute(command).fetchall()\n",
    "print(skins)"
   ]
  },
  {
   "cell_type": "markdown",
   "metadata": {},
   "source": [
    "### Insert data"
   ]
  },
  {
   "cell_type": "code",
   "execution_count": 65,
   "metadata": {},
   "outputs": [
    {
     "data": {
      "text/plain": [
       "<sqlite3.Cursor at 0x10aaca260>"
      ]
     },
     "execution_count": 65,
     "metadata": {},
     "output_type": "execute_result"
    }
   ],
   "source": [
    "command = \"\"\"\n",
    "INSERT INTO skins (name, sell_price, sell_listings)\n",
    "VALUES\n",
    "(\"skin 1\", 0.99, 100),\n",
    "(\"skin 2\", 0.98, 100),\n",
    "(\"skinaqua\", 0.95, 101)\n",
    "\"\"\"\n",
    "\n",
    "cursor.execute(command)"
   ]
  },
  {
   "cell_type": "code",
   "execution_count": 76,
   "metadata": {},
   "outputs": [
    {
     "name": "stdout",
     "output_type": "stream",
     "text": [
      "--- Finished insertion ---\n",
      "[('skin 1', 0.99, 100), ('skin 2', 0.98, 100), ('skinaqua', 0.95, 101)]\n"
     ]
    }
   ],
   "source": [
    "data = [\n",
    "    (\"skin 1\", 0.99, 100),\n",
    "    (\"skin 2\", 0.98, 100),\n",
    "    (\"skinaqua\", 0.95, 101)\n",
    "]\n",
    "\n",
    "for item in data:\n",
    "    name, sell_price, sell_listings = item\n",
    "    command = f\"\"\"\n",
    "    INSERT INTO skins (name, sell_price, sell_listings)\n",
    "    VALUES (\"{name}\", {sell_price}, {sell_listings})\n",
    "    \"\"\"\n",
    "    cursor.execute(command)\n",
    "\n",
    "print(\"--- Finished insertion ---\")\n",
    "\n",
    "command = \"\"\"\n",
    "SELECT\n",
    "  name, sell_price, sell_listings\n",
    "FROM\n",
    "  skins\n",
    "\"\"\"\n",
    "\n",
    "# execute query\n",
    "skins = cursor.execute(command).fetchall()\n",
    "print(skins)"
   ]
  },
  {
   "cell_type": "markdown",
   "metadata": {},
   "source": [
    "### Update data\n",
    "Refer to this guide: https://sqlite.org/lang_update.html"
   ]
  },
  {
   "cell_type": "code",
   "execution_count": 63,
   "metadata": {},
   "outputs": [
    {
     "name": "stdout",
     "output_type": "stream",
     "text": [
      "--- Updated ---\n",
      "[('skin 2', 1.3300000000000003, 200), ('skinaqua', 1.3000000000000003, 200)]\n"
     ]
    }
   ],
   "source": [
    "increment = 0.01\n",
    "command = f\"\"\"\n",
    "UPDATE skins\n",
    "SET\n",
    "  sell_price = sell_price + {increment},\n",
    "  sell_listings = 200\n",
    "-- WHERE name = \"skin 1\"\n",
    "\"\"\"\n",
    "\n",
    "cursor.execute(command)\n",
    "print(\"--- Updated ---\")\n",
    "\n",
    "command = \"\"\"\n",
    "SELECT\n",
    "  name, sell_price, sell_listings\n",
    "FROM\n",
    "  skins\n",
    "\"\"\"\n",
    "\n",
    "# execute query\n",
    "skins = cursor.execute(command).fetchall()\n",
    "print(skins)"
   ]
  },
  {
   "cell_type": "markdown",
   "metadata": {},
   "source": [
    "### Delete data"
   ]
  },
  {
   "cell_type": "code",
   "execution_count": 29,
   "metadata": {},
   "outputs": [
    {
     "name": "stdout",
     "output_type": "stream",
     "text": [
      "--- Deleted ---\n",
      "[('skin 2', 0.99, 200), ('skinaqua', 0.96, 200)]\n"
     ]
    }
   ],
   "source": [
    "# delete with condition\n",
    "command = \"\"\"\n",
    "DELETE FROM skins\n",
    "WHERE name = \"skin 1\"\n",
    "\"\"\"\n",
    "\n",
    "cursor.execute(command)\n",
    "print(\"--- Deleted ---\")\n",
    "\n",
    "command = \"\"\"\n",
    "SELECT\n",
    "  name, sell_price, sell_listings\n",
    "FROM\n",
    "  skins\n",
    "\"\"\"\n",
    "\n",
    "# execute query\n",
    "skins = cursor.execute(command).fetchall()\n",
    "print(skins)"
   ]
  },
  {
   "cell_type": "code",
   "execution_count": 66,
   "metadata": {},
   "outputs": [
    {
     "name": "stdout",
     "output_type": "stream",
     "text": [
      "--- Deleted ---\n",
      "[]\n"
     ]
    }
   ],
   "source": [
    "# delete with NO condition\n",
    "command = \"\"\"\n",
    "DELETE FROM skins\n",
    "\"\"\"\n",
    "\n",
    "cursor.execute(command)\n",
    "print(\"--- Deleted ---\")\n",
    "\n",
    "command = \"\"\"\n",
    "SELECT\n",
    "  name, sell_price, sell_listings\n",
    "FROM\n",
    "  skins\n",
    "\"\"\"\n",
    "\n",
    "# execute query\n",
    "skins = cursor.execute(command).fetchall()\n",
    "print(skins)"
   ]
  },
  {
   "cell_type": "markdown",
   "metadata": {},
   "source": [
    "### Select with filtering"
   ]
  },
  {
   "cell_type": "code",
   "execution_count": 24,
   "metadata": {},
   "outputs": [
    {
     "name": "stdout",
     "output_type": "stream",
     "text": [
      "[('skin 2', 0.98, 100), ('skinaqua', 0.95, 101)]\n"
     ]
    }
   ],
   "source": [
    "# some operations supported by SQLITE WHERE: =, <, >, <>, <=, >=, LIKE\n",
    "command = \"\"\"\n",
    "SELECT name, sell_price, sell_listings\n",
    "FROM skins\n",
    "WHERE sell_price < 0.99\n",
    "\"\"\"\n",
    "\n",
    "skins = cursor.execute(command).fetchall()\n",
    "print(skins)"
   ]
  },
  {
   "cell_type": "code",
   "execution_count": 26,
   "metadata": {},
   "outputs": [
    {
     "name": "stdout",
     "output_type": "stream",
     "text": [
      "[('skin 1', 0.99, 100), ('skin 2', 0.98, 100)]\n"
     ]
    }
   ],
   "source": [
    "command = \"\"\"\n",
    "SELECT name, sell_price, sell_listings\n",
    "FROM skins\n",
    "WHERE name LIKE \"%Skin %\"\n",
    "\"\"\"\n",
    "# % = any character at any quantity\n",
    "# LIKE = broad match + case INSENSITIVE\n",
    "\n",
    "skins = cursor.execute(command).fetchall()\n",
    "print(skins)"
   ]
  },
  {
   "cell_type": "code",
   "execution_count": 73,
   "metadata": {},
   "outputs": [
    {
     "ename": "OperationalError",
     "evalue": "no such table: skins",
     "output_type": "error",
     "traceback": [
      "\u001b[0;31m---------------------------------------------------------------------------\u001b[0m",
      "\u001b[0;31mOperationalError\u001b[0m                          Traceback (most recent call last)",
      "Cell \u001b[0;32mIn[73], line 8\u001b[0m\n\u001b[1;32m      1\u001b[0m threshold \u001b[39m=\u001b[39m \u001b[39m\"\u001b[39m\u001b[39m0 AND 1 = 1; DROP TABLE skins;\u001b[39m\u001b[39m\"\u001b[39m\n\u001b[1;32m      2\u001b[0m command \u001b[39m=\u001b[39m \u001b[39mf\u001b[39m\u001b[39m\"\"\"\u001b[39m\n\u001b[1;32m      3\u001b[0m \u001b[39mSELECT name, sell_price, sell_listings\u001b[39m\n\u001b[1;32m      4\u001b[0m \u001b[39mFROM skins\u001b[39m\n\u001b[1;32m      5\u001b[0m \u001b[39mWHERE sell_price > \u001b[39m\u001b[39m{\u001b[39;00mthreshold\u001b[39m}\u001b[39;00m\n\u001b[1;32m      6\u001b[0m \u001b[39m\"\"\"\u001b[39m\n\u001b[0;32m----> 8\u001b[0m skins \u001b[39m=\u001b[39m cursor\u001b[39m.\u001b[39;49mexecutescript(command)\u001b[39m.\u001b[39mfetchall()\n\u001b[1;32m      9\u001b[0m \u001b[39mprint\u001b[39m(skins)\n",
      "\u001b[0;31mOperationalError\u001b[0m: no such table: skins"
     ]
    }
   ],
   "source": [
    "# Susceptible to SQL INJECTION\n",
    "# threshold = \"0 AND 1 = 1; DROP TABLE skins;\" => use SQL PARAMETER\n",
    "threshold = 0.99\n",
    "command = f\"\"\"\n",
    "SELECT name, sell_price, sell_listings\n",
    "FROM skins\n",
    "WHERE sell_price > {threshold}\n",
    "\"\"\"\n",
    "\n",
    "skins = cursor.executescript(command).fetchall()\n",
    "print(skins)"
   ]
  },
  {
   "cell_type": "code",
   "execution_count": 83,
   "metadata": {},
   "outputs": [
    {
     "name": "stdout",
     "output_type": "stream",
     "text": [
      "[]\n"
     ]
    }
   ],
   "source": [
    "threshold = \"0 AND 1 = 1; DROP TABLE skins;\" # => use SQL PARAMETER\n",
    "command = f\"\"\"\n",
    "SELECT name, sell_price, sell_listings\n",
    "FROM skins\n",
    "WHERE sell_price > ?\n",
    "\"\"\"\n",
    "# => resolved SQL INJECTION\n",
    "skins = cursor.execute(command, (threshold, )).fetchall()\n",
    "print(skins)"
   ]
  },
  {
   "cell_type": "markdown",
   "metadata": {},
   "source": [
    "Homework:\n",
    "1. Update your project to use `SQLite` for data store"
   ]
  },
  {
   "cell_type": "code",
   "execution_count": null,
   "metadata": {},
   "outputs": [],
   "source": []
  }
 ],
 "metadata": {
  "kernelspec": {
   "display_name": "Python 3",
   "language": "python",
   "name": "python3"
  },
  "language_info": {
   "codemirror_mode": {
    "name": "ipython",
    "version": 3
   },
   "file_extension": ".py",
   "mimetype": "text/x-python",
   "name": "python",
   "nbconvert_exporter": "python",
   "pygments_lexer": "ipython3",
   "version": "3.9.7"
  },
  "orig_nbformat": 4
 },
 "nbformat": 4,
 "nbformat_minor": 2
}
