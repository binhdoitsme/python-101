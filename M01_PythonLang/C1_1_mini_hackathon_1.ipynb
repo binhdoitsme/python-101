{
 "cells": [
  {
   "attachments": {},
   "cell_type": "markdown",
   "metadata": {},
   "source": [
    "## Mini hackathon (1)\n",
    "\n",
    "***Direction:** In this challenge, you will be given several exercises which you have to solve by applying your knowledge of Python up to topic 1.5. It is expected that you spend up to **60 minutes** for all the exercises in this notebook. Happy hacking!* "
   ]
  },
  {
   "attachments": {},
   "cell_type": "markdown",
   "metadata": {},
   "source": [
    "#### Challenge 1: Yes or No?"
   ]
  },
  {
   "attachments": {},
   "cell_type": "markdown",
   "metadata": {},
   "source": [
    "*This challenge's result will be used in the next challenge.*\n",
    "\n",
    "In programming, we usually have to prompt the user to enter exactly one of our expected options. However, our program always supports only a subset of the combinations that can be input via keyboard, leading to the fact that it is hard to get users to enter the right thing on first go. In this challenge, we will force our user to re-enter **until** the user input matches one of our supported actions which are `Y` and `N` (case insensitive). The input and output of this challenge looks like the following:\n",
    "\n",
    "```(python)\n",
    ">>> Enter your option (Y/N):\n",
    "<<< Yes\n",
    ">>> Unsupported operation, please try again.\n",
    "    Enter your option (Y/N):\n",
    "<<< y\n",
    ">>> You chose \"Y\" as the option.\n",
    "```"
   ]
  },
  {
   "attachments": {},
   "cell_type": "markdown",
   "metadata": {},
   "source": [
    "#### Challenge 2: Who is the GOAT?"
   ]
  },
  {
   "attachments": {},
   "cell_type": "markdown",
   "metadata": {},
   "source": [
    "In football, GOAT (Greatest of All Times) is a unofficial title given to the greatest player of all times by fans. There are several criteria to determine a GOAT, but we are only interested in a few:\n",
    "\n",
    "* Number of World Cup trophies won $(I)$\n",
    "* Number of all time goals $(II)$\n",
    "* Number of Ballon d'Or won $(III)$\n",
    "\n",
    "Given that the weight of $(I)$ in the GOAT score is `5`, the weight of $(II)$ is `0.7`, the weight of $(III)$ is `0.5`. Write a program that gets from input a list of players along with their achievements, then output the GOAT and the calculated score."
   ]
  },
  {
   "attachments": {},
   "cell_type": "markdown",
   "metadata": {},
   "source": [
    "Example input/output (`>>>` denotes console output and `<<<` denotes console input):\n",
    "```\n",
    ">>> Enter a player name: \n",
    "<<< Lionel Messi\n",
    ">>> How many World Cup trophies has he won?\n",
    "<<< 1\n",
    ">>> How many goals has he scored in his pro career?\n",
    "<<< 792\n",
    ">>> How many Ballon d'Or did he win?\n",
    "<<< 7\n",
    ">>> Do you want to enter another player? (Y/N)\n",
    "<<< Y\n",
    ">>> Enter a player name: \n",
    "<<< Cristiano Ronaldo\n",
    ">>> How many World Cup trophies has he won?\n",
    "<<< 0\n",
    ">>> How many goals has he scored in his pro career?\n",
    "<<< 800\n",
    ">>> How many Ballon d'Or did he win?\n",
    "<<< 5\n",
    ">>> Do you want to enter another player? (Y/N)\n",
    "<<< N\n",
    ">>> The GOAT is Lionel Messi with score = 562.9\n",
    "```"
   ]
  },
  {
   "cell_type": "markdown",
   "metadata": {},
   "source": []
  }
 ],
 "metadata": {
  "language_info": {
   "name": "python"
  },
  "orig_nbformat": 4
 },
 "nbformat": 4,
 "nbformat_minor": 2
}
