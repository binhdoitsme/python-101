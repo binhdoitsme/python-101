{
 "cells": [
  {
   "attachments": {},
   "cell_type": "markdown",
   "metadata": {},
   "source": [
    "## Topic 1.4. Conditional, While-loop"
   ]
  },
  {
   "attachments": {},
   "cell_type": "markdown",
   "metadata": {},
   "source": [
    "### 1. Conditional\n",
    "* Model if-else in programming languages.\n",
    "* Syntax: \n",
    "    ```\n",
    "    if bool_value:\n",
    "        # do_something\n",
    "    else:\n",
    "        # do something else\n",
    "    ```"
   ]
  },
  {
   "cell_type": "code",
   "execution_count": 2,
   "metadata": {},
   "outputs": [
    {
     "name": "stdout",
     "output_type": "stream",
     "text": [
      "Not Right Triangle\n"
     ]
    }
   ],
   "source": [
    "# if a, b, c belong to a right triangle, print \"Right Triangle\", else print \"Not Right Triangle\"\n",
    "a = 3\n",
    "b = 4\n",
    "c = 6\n",
    "is_right_triangle = c ** 2 == a ** 2 + b ** 2\n",
    "# if c ** 2 == a ** 2 + b ** 2: \n",
    "if is_right_triangle: # either a boolean value or a expression returning a boolean\n",
    "    print(\"Right Triangle\")\n",
    "elif ...: # else -> if\n",
    "    ...\n",
    "else:\n",
    "    ...\n",
    "    print(\"Not Right Triangle\")"
   ]
  },
  {
   "attachments": {},
   "cell_type": "markdown",
   "metadata": {},
   "source": [
    "### 2. While loop\n",
    "* Do something until a condition is no longer True\n",
    "* Syntax\n",
    "  ```\n",
    "  while bool_value:\n",
    "      # do something\n",
    "  # do something after finishing loop\n",
    "  ```"
   ]
  },
  {
   "cell_type": "code",
   "execution_count": 4,
   "metadata": {},
   "outputs": [
    {
     "name": "stdout",
     "output_type": "stream",
     "text": [
      "in while-loop 1\n",
      "in while-loop 2\n",
      "in while-loop 3\n",
      "in while-loop 4\n",
      "in while-loop 5\n",
      "5\n"
     ]
    }
   ],
   "source": [
    "# Just a simple while loop\n",
    "# Initialize x = 0\n",
    "x = 0\n",
    "# Increase x by 1 until reaches 5\n",
    "while x < 5:\n",
    "    x += 1\n",
    "    print(\"in while-loop\", x)\n",
    "\n",
    "print(x)"
   ]
  },
  {
   "cell_type": "code",
   "execution_count": 5,
   "metadata": {},
   "outputs": [
    {
     "name": "stdout",
     "output_type": "stream",
     "text": [
      "in while-loop 1\n",
      "in while-loop 2\n",
      "in while-loop 3\n",
      "in while-loop 4\n",
      "4\n"
     ]
    }
   ],
   "source": [
    "# interrupting a loop\n",
    "# Just a simple while loop\n",
    "# Initialize x = 0\n",
    "x = 0\n",
    "# Increase x by 1 until reaches 5. Stop when x is divisible by 4 and x > 0\n",
    "while x < 5:\n",
    "    if x % 4 == 0 and x > 0:\n",
    "        break\n",
    "\n",
    "    x += 1\n",
    "    print(\"in while-loop\", x)\n",
    "\n",
    "print(x)"
   ]
  },
  {
   "cell_type": "code",
   "execution_count": 6,
   "metadata": {},
   "outputs": [
    {
     "name": "stdout",
     "output_type": "stream",
     "text": [
      "in while-loop 1\n",
      "in while-loop 2\n",
      "in while-loop 3\n",
      "in while-loop 5\n",
      "5\n"
     ]
    }
   ],
   "source": [
    "# skipping an iteration\n",
    "# Just a simple while loop\n",
    "# Initialize x = 0\n",
    "x = 0\n",
    "# Increase x by 1 until reaches 5. Don't print x when x is divisible by 4 and x > 0\n",
    "while x < 5: # while x >= 0 will loop infinitely\n",
    "    x += 1\n",
    "    if x % 4 == 0 and x > 0:\n",
    "        continue # skip everything after this line\n",
    "    print(\"in while-loop\", x)\n",
    "\n",
    "print(x)"
   ]
  },
  {
   "cell_type": "code",
   "execution_count": null,
   "metadata": {},
   "outputs": [],
   "source": []
  }
 ],
 "metadata": {
  "kernelspec": {
   "display_name": "Python 3",
   "language": "python",
   "name": "python3"
  },
  "language_info": {
   "codemirror_mode": {
    "name": "ipython",
    "version": 3
   },
   "file_extension": ".py",
   "mimetype": "text/x-python",
   "name": "python",
   "nbconvert_exporter": "python",
   "pygments_lexer": "ipython3",
   "version": "3.9.7"
  },
  "orig_nbformat": 4
 },
 "nbformat": 4,
 "nbformat_minor": 2
}
