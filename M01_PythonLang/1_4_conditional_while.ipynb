{
 "cells": [
  {
   "attachments": {},
   "cell_type": "markdown",
   "metadata": {},
   "source": [
    "## Topic 1.4. Conditional, While-loop\n",
    "\n",
    "Conditional statements model how our system work under certain conditions. For instance, in an automatic streetlight controller system, we will set the light state to ON if our light sensors see that the light levels are low, and set the light state to OFF otherwise.\n",
    "\n",
    "While loops take conditional statements further by telling our system to perform the same thing over and over again, as long as the repeat condition remains satisfied. One example might be the case of a robot drag racing to the finish line: its command might be to repeatedly accelerate **until** it senses the finish line, after which it no longer accelerates."
   ]
  },
  {
   "attachments": {},
   "cell_type": "markdown",
   "metadata": {},
   "source": [
    "### 1. Conditional Statements\n",
    "Model if-else conditions in programming languages.\n",
    "\n",
    "Syntax: \n",
    "```\n",
    "    if bool_value:\n",
    "        # do_something\n",
    "    elif other_bool_value: # optional\n",
    "        # do something\n",
    "    else:\n",
    "        # do something else\n",
    "```"
   ]
  },
  {
   "cell_type": "code",
   "execution_count": 2,
   "metadata": {},
   "outputs": [
    {
     "name": "stdout",
     "output_type": "stream",
     "text": [
      "Not Right Triangle\n"
     ]
    }
   ],
   "source": [
    "# if a, b, c belong to a right triangle, print \"Right Triangle\", else print \"Not Right Triangle\"\n",
    "a = 3\n",
    "b = 4\n",
    "c = 6\n",
    "is_right_triangle = c ** 2 == a ** 2 + b ** 2\n",
    "# if c ** 2 == a ** 2 + b ** 2: \n",
    "if is_right_triangle: # either a boolean value or a expression returning a boolean\n",
    "    print(\"Right Triangle\")\n",
    "else:\n",
    "    print(\"Not Right Triangle\")"
   ]
  },
  {
   "attachments": {},
   "cell_type": "markdown",
   "metadata": {},
   "source": [
    "In addition to `if` and `else`, Python provides another keyword, `elif`. This keyword basically means the chaining of an `if` inside an `else`. For instance, the following code snippet basically tells us that, for under 16 kids and the elders (greater than 60), our movie is not appropriate:"
   ]
  },
  {
   "cell_type": "code",
   "execution_count": null,
   "metadata": {},
   "outputs": [],
   "source": [
    "age = 20 # arbitrary initialized\n",
    "\n",
    "if age < 16:\n",
    "    print(\"inappropriate movie for kids\")\n",
    "else:\n",
    "    if age > 60:\n",
    "        print(\"inappropriate movie for the elders\")\n",
    "    else:\n",
    "        print(\"appropriate movie for you!\")"
   ]
  },
  {
   "attachments": {},
   "cell_type": "markdown",
   "metadata": {},
   "source": [
    "Looks a little bit nested and messy. Luckily, Python's `elif` comes to the rescue!!\n",
    "\n",
    "Just replace `else: if ...: ...` with `elif`, then our `else: else: ...` becomes just `else`. Magical! We have just save ourselves from 1 level of indentations, which means 2 or 4 spaces depending on your configuration. Who cares -- less indentation, more readability!"
   ]
  },
  {
   "cell_type": "code",
   "execution_count": null,
   "metadata": {},
   "outputs": [],
   "source": [
    "age = 20 # arbitrary initialized\n",
    "\n",
    "if age < 16:\n",
    "    print(\"inappropriate movie for kids\")\n",
    "elif age > 60:\n",
    "    print(\"inappropriate movie for the elders\")\n",
    "else:\n",
    "    print(\"appropriate movie for you!\")"
   ]
  },
  {
   "attachments": {},
   "cell_type": "markdown",
   "metadata": {},
   "source": [
    "### 2. While loop\n",
    "The `while` loop tells Python to do something until the given condition is no longer True.\n",
    "\n",
    "Syntax:\n",
    "```\n",
    "    while bool_value:\n",
    "        # do something\n",
    "    # do something after finishing loop\n",
    "```"
   ]
  },
  {
   "cell_type": "code",
   "execution_count": 7,
   "metadata": {},
   "outputs": [
    {
     "name": "stdout",
     "output_type": "stream",
     "text": [
      "in while-loop 1\n",
      "in while-loop 2\n",
      "in while-loop 3\n",
      "in while-loop 4\n",
      "in while-loop 5\n",
      "5\n"
     ]
    }
   ],
   "source": [
    "# Just a simple while loop\n",
    "# Initialize x = 0\n",
    "x = 0\n",
    "# Increase x by 1 until reaches 5\n",
    "while x < 5:\n",
    "    x += 1\n",
    "    print(\"in while-loop\", x)\n",
    "\n",
    "print(x)"
   ]
  },
  {
   "attachments": {},
   "cell_type": "markdown",
   "metadata": {},
   "source": [
    "Sometimes, you may need to end a loop prematurely. The `break` statement is born for that. See the following cell for the usage:"
   ]
  },
  {
   "cell_type": "code",
   "execution_count": 5,
   "metadata": {},
   "outputs": [
    {
     "name": "stdout",
     "output_type": "stream",
     "text": [
      "in while-loop 1\n",
      "in while-loop 2\n",
      "in while-loop 3\n",
      "in while-loop 4\n",
      "4\n"
     ]
    }
   ],
   "source": [
    "# interrupting a loop\n",
    "# Just a simple while loop\n",
    "# Initialize x = 0\n",
    "x = 0\n",
    "# Increase x by 1 until reaches 5. Stop when x is divisible by 4 and x > 0\n",
    "while x < 5:\n",
    "    if x % 4 == 0 and x > 0:\n",
    "        break\n",
    "\n",
    "    x += 1\n",
    "    print(\"in while-loop\", x)\n",
    "\n",
    "print(x)"
   ]
  },
  {
   "attachments": {},
   "cell_type": "markdown",
   "metadata": {},
   "source": [
    "Some other times, you find yourself wanting to skip to the next iteration when a specific condition is met. Luckily, Python also offers `continue` statement, which does just that."
   ]
  },
  {
   "cell_type": "code",
   "execution_count": 6,
   "metadata": {},
   "outputs": [
    {
     "name": "stdout",
     "output_type": "stream",
     "text": [
      "in while-loop 1\n",
      "in while-loop 2\n",
      "in while-loop 3\n",
      "in while-loop 5\n",
      "5\n"
     ]
    }
   ],
   "source": [
    "# skipping an iteration\n",
    "# Just a simple while loop\n",
    "# Initialize x = 0\n",
    "x = 0\n",
    "# Increase x by 1 until reaches 5. Don't print x when x is divisible by 4 and x > 0\n",
    "while x < 5: # while x >= 0 will loop infinitely\n",
    "    x += 1\n",
    "    if x % 4 == 0 and x > 0:\n",
    "        continue # skip everything after this line\n",
    "    print(\"in while-loop\", x)\n",
    "\n",
    "print(x)"
   ]
  },
  {
   "attachments": {},
   "cell_type": "markdown",
   "metadata": {},
   "source": [
    "**Note**: Be **_extra cautious_** when creating loop to avoid `infinite` loops. When you *accidentally* infinitely looped, use Task Manager to kill the Python process.\n",
    "\n",
    "An infinite loop looks like the following:\n",
    "```\n",
    "    while something_is_always_True:\n",
    "        # do sth that does not change something_is_always_True\n",
    "```\n",
    "\n",
    "That said, sometimes you might need a `while True` loop. At that point, don't forget to `break` out of the loop, or you might need to use Task Manager ~~"
   ]
  },
  {
   "attachments": {},
   "cell_type": "markdown",
   "metadata": {},
   "source": [
    "### 4. Challenges"
   ]
  },
  {
   "attachments": {},
   "cell_type": "markdown",
   "metadata": {},
   "source": [
    "1. Create a script to record multiline string input. \n",
    "\n",
    "    _**Hint**: use an **infinite `while`** loop to append new lines to the input variable. You can use a **terminator** string (for instance if an input line is `\\` then we `break` the loop) to signal the end of the `while` loop._\n"
   ]
  },
  {
   "attachments": {},
   "cell_type": "markdown",
   "metadata": {},
   "source": [
    "2. Write a program to keep asking for a number until you enter a negative number. At the end, print the sum of all entered numbers.\n",
    "\n",
    "    Example: (`>>>` is what you print on the screen, `<<<` is what you input)\n",
    "    ```\n",
    "    >>> Enter a negative number: \n",
    "    <<< 10\n",
    "    >>> Not a negative number!\n",
    "        Enter a negative number:\n",
    "    <<< 20\n",
    "    >>> Not a negative number!\n",
    "        Enter a negative number:\n",
    "    <<< -10\n",
    "    >>> Finally a negative number, the sum of all numbers that you input is 20.\n",
    "    ```\n",
    "\n",
    "    *__Hint__: use a single variable to keep track of the sum of all input numbers.*"
   ]
  }
 ],
 "metadata": {
  "kernelspec": {
   "display_name": "Python 3",
   "language": "python",
   "name": "python3"
  },
  "language_info": {
   "codemirror_mode": {
    "name": "ipython",
    "version": 3
   },
   "file_extension": ".py",
   "mimetype": "text/x-python",
   "name": "python",
   "nbconvert_exporter": "python",
   "pygments_lexer": "ipython3",
   "version": "3.9.7"
  },
  "orig_nbformat": 4
 },
 "nbformat": 4,
 "nbformat_minor": 2
}
