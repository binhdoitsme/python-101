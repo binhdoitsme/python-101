{
 "cells": [
  {
   "attachments": {},
   "cell_type": "markdown",
   "metadata": {},
   "source": [
    "## Functions (I)\n",
    "\n",
    "You come across a script that works for your use case. You are very tempted to copy the code to your source. You build another script that uses the same logic and you also paste the same snippet. One day, you realize that the copied snippet no longer works and you have to update every instance of that snippet, which is time-consuming and error-prone. Using functions, we can get rid of these awkward situations. "
   ]
  },
  {
   "attachments": {},
   "cell_type": "markdown",
   "metadata": {},
   "source": [
    "A function is a reusable piece of code."
   ]
  },
  {
   "cell_type": "code",
   "execution_count": null,
   "metadata": {},
   "outputs": [],
   "source": [
    "# Syntax of a function:\n",
    "def function_name(param1: type1, param2: type2, ...) -> return_type:\n",
    "    # function body here\n",
    "    return (...)\n",
    "    ..."
   ]
  },
  {
   "cell_type": "code",
   "execution_count": 1,
   "metadata": {},
   "outputs": [
    {
     "name": "stdout",
     "output_type": "stream",
     "text": [
      "True\n"
     ]
    }
   ],
   "source": [
    "# is_prime but in global scope\n",
    "number = 7\n",
    "is_prime = True\n",
    "for i in range(2, number):\n",
    "    if number % i == 0:\n",
    "        is_prime = False\n",
    "        break\n",
    "print(is_prime)"
   ]
  },
  {
   "cell_type": "code",
   "execution_count": 2,
   "metadata": {},
   "outputs": [
    {
     "name": "stdout",
     "output_type": "stream",
     "text": [
      "True\n"
     ]
    }
   ],
   "source": [
    "# determine whether a number is a prime number\n",
    "def is_prime(number: int) -> bool:\n",
    "    is_prime = True\n",
    "    for i in range(2, number):\n",
    "        if number % i == 0:\n",
    "            is_prime = False\n",
    "            break\n",
    "    return is_prime\n",
    "\n",
    "# usage:\n",
    "is_7_prime = is_prime(7)\n",
    "print(is_7_prime)"
   ]
  },
  {
   "attachments": {},
   "cell_type": "markdown",
   "metadata": {},
   "source": [
    "Based on returning value, there are two types of functions:"
   ]
  },
  {
   "cell_type": "code",
   "execution_count": 1,
   "metadata": {},
   "outputs": [
    {
     "name": "stdout",
     "output_type": "stream",
     "text": [
      "f(0) = 0\n",
      "f(1) = 1\n",
      "f(2) = 4\n",
      "f(3) = 9\n",
      "f(4) = 16\n",
      "f(5) = 25\n",
      "f(6) = 36\n",
      "f(7) = 49\n",
      "f(8) = 64\n",
      "f(9) = 81\n"
     ]
    }
   ],
   "source": [
    "# A function that has a return value\n",
    "# a function in Math terms\n",
    "def f(x: int) -> int:\n",
    "    return x ** 2\n",
    "\n",
    "for x in range(10):\n",
    "    print(f\"f({x}) = {f(x)}\")"
   ]
  },
  {
   "cell_type": "code",
   "execution_count": 3,
   "metadata": {},
   "outputs": [
    {
     "name": "stdout",
     "output_type": "stream",
     "text": [
      "My name is Binh.\n",
      "I am 23 years old.\n",
      "I am a student of class MSE at FSB school.\n",
      "My name is Binh.\n",
      "I am 23 years old.\n",
      "I am a student of class MSE at FSB school.\n",
      "My name is Binh.\n",
      "I am 23 years old.\n",
      "I am a student of class MSE at FSB school.\n",
      "My name is Binh.\n",
      "I am 23 years old.\n",
      "I am a student of class MSE at FSB school.\n"
     ]
    }
   ],
   "source": [
    "# A function that has NO return value\n",
    "# introduce yourself using your data\n",
    "def introduce(information: dict):\n",
    "    print(f\"\"\"My name is {information[\"name\"]}.\"\"\")\n",
    "    print(f\"\"\"I am {information[\"age\"]} years old.\"\"\")\n",
    "    print(f\"\"\"I am a student of class {information[\"class\"]} at {information[\"school\"]} school.\"\"\")\n",
    "\n",
    "students = [\n",
    "    {\n",
    "        \"name\": \"Binh\",\n",
    "        \"age\": 23, \n",
    "        \"class\": \"MSE\",\n",
    "        \"school\": \"FSB\",\n",
    "    },\n",
    "    {\n",
    "        \"name\": \"Binh\",\n",
    "        \"age\": 23, \n",
    "        \"class\": \"MSE\",\n",
    "        \"school\": \"FSB\",\n",
    "    },\n",
    "    {\n",
    "        \"name\": \"Binh\",\n",
    "        \"age\": 23, \n",
    "        \"class\": \"MSE\",\n",
    "        \"school\": \"FSB\",\n",
    "    },\n",
    "    {\n",
    "        \"name\": \"Binh\",\n",
    "        \"age\": 23, \n",
    "        \"class\": \"MSE\",\n",
    "        \"school\": \"FSB\",\n",
    "    },\n",
    "]\n",
    "for student in students:\n",
    "    introduce(student)"
   ]
  },
  {
   "cell_type": "code",
   "execution_count": null,
   "metadata": {},
   "outputs": [],
   "source": []
  }
 ],
 "metadata": {
  "kernelspec": {
   "display_name": "Python 3",
   "language": "python",
   "name": "python3"
  },
  "language_info": {
   "codemirror_mode": {
    "name": "ipython",
    "version": 3
   },
   "file_extension": ".py",
   "mimetype": "text/x-python",
   "name": "python",
   "nbconvert_exporter": "python",
   "pygments_lexer": "ipython3",
   "version": "3.9.7"
  },
  "orig_nbformat": 4
 },
 "nbformat": 4,
 "nbformat_minor": 2
}
