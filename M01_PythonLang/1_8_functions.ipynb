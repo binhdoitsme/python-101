{
 "cells": [
  {
   "attachments": {},
   "cell_type": "markdown",
   "metadata": {},
   "source": [
    "## Functions (I)\n",
    "\n",
    "You come across a script that works for your use case. You are very tempted to copy the code to your source. You build another script that uses the same logic and you also paste the same snippet. One day, you realize that the copied snippet no longer works and you have to update every instance of that snippet, which is time-consuming and error-prone. Using functions, we can get rid of these awkward situations. "
   ]
  },
  {
   "attachments": {},
   "cell_type": "markdown",
   "metadata": {},
   "source": [
    "A function is a reusable piece of code."
   ]
  },
  {
   "cell_type": "code",
   "execution_count": null,
   "metadata": {},
   "outputs": [],
   "source": [
    "# Syntax of a function:\n",
    "def function_name(param1: type1, param2: type2, ...) -> return_type:\n",
    "    # function body here\n",
    "    return (...)\n",
    "    ..."
   ]
  },
  {
   "cell_type": "code",
   "execution_count": 1,
   "metadata": {},
   "outputs": [
    {
     "name": "stdout",
     "output_type": "stream",
     "text": [
      "True\n"
     ]
    }
   ],
   "source": [
    "# is_prime but in global scope\n",
    "number = 7\n",
    "is_prime = True\n",
    "for i in range(2, number):\n",
    "    if number % i == 0:\n",
    "        is_prime = False\n",
    "        break\n",
    "print(is_prime)"
   ]
  },
  {
   "cell_type": "code",
   "execution_count": 2,
   "metadata": {},
   "outputs": [
    {
     "name": "stdout",
     "output_type": "stream",
     "text": [
      "True\n"
     ]
    }
   ],
   "source": [
    "# determine whether a number is a prime number\n",
    "def is_prime(number: int) -> bool:\n",
    "    is_prime = True\n",
    "    for i in range(2, number):\n",
    "        if number % i == 0:\n",
    "            is_prime = False\n",
    "            break\n",
    "    return is_prime\n",
    "\n",
    "# usage:\n",
    "is_7_prime = is_prime(7)\n",
    "print(is_7_prime)"
   ]
  },
  {
   "attachments": {},
   "cell_type": "markdown",
   "metadata": {},
   "source": [
    "Based on returning value, there are two types of functions:"
   ]
  },
  {
   "cell_type": "code",
   "execution_count": 1,
   "metadata": {},
   "outputs": [
    {
     "name": "stdout",
     "output_type": "stream",
     "text": [
      "f(0) = 0\n",
      "f(1) = 1\n",
      "f(2) = 4\n",
      "f(3) = 9\n",
      "f(4) = 16\n",
      "f(5) = 25\n",
      "f(6) = 36\n",
      "f(7) = 49\n",
      "f(8) = 64\n",
      "f(9) = 81\n"
     ]
    }
   ],
   "source": [
    "# A function that has a return value\n",
    "# a function in Math terms\n",
    "def f(x: int) -> int:\n",
    "    return x ** 2\n",
    "\n",
    "for x in range(10):\n",
    "    print(f\"f({x}) = {f(x)}\")"
   ]
  },
  {
   "cell_type": "code",
   "execution_count": 3,
   "metadata": {},
   "outputs": [
    {
     "name": "stdout",
     "output_type": "stream",
     "text": [
      "My name is Binh.\n",
      "I am 23 years old.\n",
      "I am a student of class MSE at FSB school.\n",
      "My name is Binh.\n",
      "I am 23 years old.\n",
      "I am a student of class MSE at FSB school.\n",
      "My name is Binh.\n",
      "I am 23 years old.\n",
      "I am a student of class MSE at FSB school.\n",
      "My name is Binh.\n",
      "I am 23 years old.\n",
      "I am a student of class MSE at FSB school.\n"
     ]
    }
   ],
   "source": [
    "# A function that has NO return value\n",
    "# introduce yourself using your data\n",
    "def introduce(information: dict):\n",
    "    print(f\"\"\"My name is {information[\"name\"]}.\"\"\")\n",
    "    print(f\"\"\"I am {information[\"age\"]} years old.\"\"\")\n",
    "    print(f\"\"\"I am a student of class {information[\"class\"]} at {information[\"school\"]} school.\"\"\")\n",
    "\n",
    "students = [\n",
    "    {\n",
    "        \"name\": \"Binh\",\n",
    "        \"age\": 23, \n",
    "        \"class\": \"MSE\",\n",
    "        \"school\": \"FSB\",\n",
    "    },\n",
    "    {\n",
    "        \"name\": \"Binh\",\n",
    "        \"age\": 23, \n",
    "        \"class\": \"MSE\",\n",
    "        \"school\": \"FSB\",\n",
    "    },\n",
    "    {\n",
    "        \"name\": \"Binh\",\n",
    "        \"age\": 23, \n",
    "        \"class\": \"MSE\",\n",
    "        \"school\": \"FSB\",\n",
    "    },\n",
    "    {\n",
    "        \"name\": \"Binh\",\n",
    "        \"age\": 23, \n",
    "        \"class\": \"MSE\",\n",
    "        \"school\": \"FSB\",\n",
    "    },\n",
    "]\n",
    "for student in students:\n",
    "    introduce(student)"
   ]
  },
  {
   "cell_type": "code",
   "execution_count": null,
   "metadata": {},
   "outputs": [],
   "source": [
    "# brew using a coffeemaker\n",
    "def brew(ground_coffee: ...) -> CupOfCoffee:\n",
    "    ...\n",
    "\n",
    "# water boiler\n",
    "def measure_temp(water: ...):\n",
    "    return 10\n",
    "\n",
    "def heat(water: ...):\n",
    "    ...\n",
    "\n",
    "def boil(water: ..., temp: int):\n",
    "    while measure_temp(water) <= temp:\n",
    "        heat(water)"
   ]
  },
  {
   "cell_type": "code",
   "execution_count": 1,
   "metadata": {},
   "outputs": [
    {
     "name": "stdout",
     "output_type": "stream",
     "text": [
      "0.1\n"
     ]
    }
   ],
   "source": [
    "# generate a random number\n",
    "def random_number() -> float:\n",
    "    return 0.1\n",
    "\n",
    "number = random_number()\n",
    "print(number)"
   ]
  },
  {
   "cell_type": "code",
   "execution_count": 2,
   "metadata": {},
   "outputs": [
    {
     "name": "stdout",
     "output_type": "stream",
     "text": [
      "What do you call a fake noodle?\n",
      "A. A spoodle\n",
      "B. An impasta\n",
      "C. A fakaroni\n",
      "D. A shameti\n",
      "What do you call a fake noodle?\n",
      "A. A spoodle\n",
      "B. An impasta\n",
      "C. A fakaroni\n",
      "D. A shameti\n",
      "Congratulations! You've got every question right!\n"
     ]
    }
   ],
   "source": [
    "# SHOULD NOT use function like this\n",
    "def quiz_game():\n",
    "    # --- init question bank ---\n",
    "    question_1 = {\n",
    "        \"text\": \"What do you call a fake noodle?\",\n",
    "        \"answers\": (\"A spoodle\", \"An impasta\", \"A fakaroni\", \"A shameti\"),\n",
    "        \"correct_answer\": 1,\n",
    "        \"explanation\": \"\"\"It's a pun on the word \"imposter\" and \"pasta\" which makes it a funny play on words.\"\"\"\n",
    "    }\n",
    "    question_2 = {\n",
    "        \"text\": \"What do you call a fake noodle?\",\n",
    "        \"answers\": (\"A spoodle\", \"An impasta\", \"A fakaroni\", \"A shameti\"),\n",
    "        \"correct_answer\": 1,\n",
    "    }\n",
    "    question_bank = [question_1, question_2]\n",
    "\n",
    "    # counting score\n",
    "    score = 0\n",
    "\n",
    "    abcd = (\"A\", \"B\", \"C\", \"D\")\n",
    "\n",
    "    for question in question_bank:\n",
    "        # --- print a question\n",
    "        print(question[\"text\"])\n",
    "        answers = question[\"answers\"]\n",
    "        for index, answer in enumerate(answers):\n",
    "            label = abcd[index]\n",
    "            print(f\"{label}. {answer}\")\n",
    "        \n",
    "        # --- convert 0/1/2/3 to A/B/C/D ---\n",
    "        user_answer = input(\"Your answer (A/B/C/D): \")\n",
    "        answer = abcd.index(user_answer)\n",
    "\n",
    "        # counting score (cont'd)\n",
    "        correct_answer = question[\"correct_answer\"]\n",
    "        if answer == correct_answer:\n",
    "            score += 1\n",
    "\n",
    "    # --- celebrate ---\n",
    "    if score == len(question_bank):\n",
    "        print(f\"Congratulations! You've got every question right!\")\n",
    "    else:\n",
    "        print(f\"your score is: {score}/{len(question_bank)}\")\n",
    "    \n",
    "quiz_game()"
   ]
  },
  {
   "cell_type": "code",
   "execution_count": null,
   "metadata": {},
   "outputs": [],
   "source": [
    "def init_question_bank():\n",
    "    # --- init question bank ---\n",
    "    question_1 = {\n",
    "        \"text\": \"What do you call a fake noodle?\",\n",
    "        \"answers\": (\"A spoodle\", \"An impasta\", \"A fakaroni\", \"A shameti\"),\n",
    "        \"correct_answer\": 1,\n",
    "        \"explanation\": \"\"\"It's a pun on the word \"imposter\" and \"pasta\" which makes it a funny play on words.\"\"\"\n",
    "    }\n",
    "    question_2 = {\n",
    "        \"text\": \"What do you call a fake noodle?\",\n",
    "        \"answers\": (\"A spoodle\", \"An impasta\", \"A fakaroni\", \"A shameti\"),\n",
    "        \"correct_answer\": 1,\n",
    "    }\n",
    "    question_bank = [question_1, question_2]\n",
    "    return question_bank\n",
    "\n",
    "def show_question(question: dict):\n",
    "    abcd = (\"A\", \"B\", \"C\", \"D\")\n",
    "    print(question[\"text\"])\n",
    "    answers = question[\"answers\"]\n",
    "    for index, answer in enumerate(answers):\n",
    "        label = abcd[index]\n",
    "        print(f\"{label}. {answer}\")\n",
    "\n",
    "def get_answer() -> int:\n",
    "    abcd = (\"A\", \"B\", \"C\", \"D\")\n",
    "    # --- convert 0/1/2/3 to A/B/C/D ---\n",
    "    user_answer = input(\"Your answer (A/B/C/D): \")\n",
    "    answer = abcd.index(user_answer)\n",
    "    return answer\n",
    "\n",
    "def celebrate(score: int, question_count: int):\n",
    "    # --- celebrate ---\n",
    "    if score == question_count:\n",
    "        print(f\"Congratulations! You've got every question right!\")\n",
    "    else:\n",
    "        print(f\"your score is: {score}/{question_count}\")\n",
    "\n",
    "def quiz_game():\n",
    "    question_bank = init_question_bank()\n",
    "    score = 0\n",
    "    for question in question_bank:\n",
    "        show_question(question)\n",
    "        answer = get_answer() # answer in 0/1/2/3 form\n",
    "        correct_answer = question[\"correct_answer\"]\n",
    "        if answer == correct_answer:\n",
    "            score += 1\n",
    "    question_count = len(question_bank)\n",
    "    celebrate(score, question_count)"
   ]
  },
  {
   "attachments": {},
   "cell_type": "markdown",
   "metadata": {},
   "source": [
    "**Challenge:** You have `n` dollars and you wish to open a saving account. Given that the interest is compound and is `x`%/year, calculate the amount of money you will receive after `m` years."
   ]
  },
  {
   "cell_type": "code",
   "execution_count": 9,
   "metadata": {},
   "outputs": [
    {
     "name": "stdout",
     "output_type": "stream",
     "text": [
      "After 7 years, you will receive $100578.68436913258 for interest = 10.5%\n"
     ]
    }
   ],
   "source": [
    "def savings(balance: float, interest_percent: float, years: int) -> float:\n",
    "    new_balance = balance * ((1 + interest_percent / 100) ** years)\n",
    "    return new_balance\n",
    "\n",
    "balance = 50_000\n",
    "years = 7\n",
    "interest_percent = 10.5\n",
    "new_balance = savings(balance, interest_percent, years)\n",
    "print(f\"After {years} years, you will receive ${new_balance} for interest = {interest_percent}%\")"
   ]
  },
  {
   "attachments": {},
   "cell_type": "markdown",
   "metadata": {},
   "source": [
    "**Variable Scope:**\n",
    "* Variables that have 0 indentation => `global` variables\n",
    "* Variables that are defined within a function or belong to function parameters => `local` variables"
   ]
  },
  {
   "attachments": {},
   "cell_type": "markdown",
   "metadata": {},
   "source": [
    "**Challenge:** Given that the bank allows us to select either to use simple or compound interest, implement a similar savings calculation."
   ]
  },
  {
   "cell_type": "code",
   "execution_count": null,
   "metadata": {},
   "outputs": [],
   "source": [
    "def simple_savings(balance: float, interest_percent: float, years: int) -> float:\n",
    "    new_balance = balance + (balance * interest_percent / 100) * years\n",
    "    return new_balance\n",
    "\n",
    "def compound_savings(balance: float, interest_percent: float, years: int) -> float:\n",
    "    new_balance = balance * ((1 + interest_percent / 100) ** years)\n",
    "    return new_balance\n",
    "\n",
    "def savings(\n",
    "    balance: float, interest_percent: float, years: int, interest_type: str\n",
    ") -> float:\n",
    "    if interest_type == \"simple\":\n",
    "        return simple_savings(balance, interest_percent, years)\n",
    "    else:\n",
    "        return compound_savings(balance, interest_percent, years)"
   ]
  },
  {
   "attachments": {},
   "cell_type": "markdown",
   "metadata": {},
   "source": [
    "**Challenge:** Given a `question_bank` as a global variable, write a function to add a new question to the `question_bank`."
   ]
  },
  {
   "cell_type": "markdown",
   "metadata": {},
   "source": []
  }
 ],
 "metadata": {
  "kernelspec": {
   "display_name": "Python 3",
   "language": "python",
   "name": "python3"
  },
  "language_info": {
   "codemirror_mode": {
    "name": "ipython",
    "version": 3
   },
   "file_extension": ".py",
   "mimetype": "text/x-python",
   "name": "python",
   "nbconvert_exporter": "python",
   "pygments_lexer": "ipython3",
   "version": "3.9.7"
  },
  "orig_nbformat": 4
 },
 "nbformat": 4,
 "nbformat_minor": 2
}
