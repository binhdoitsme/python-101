{
 "cells": [
  {
   "attachments": {},
   "cell_type": "markdown",
   "metadata": {},
   "source": [
    "## Topic 1.1: Python basic data types\n",
    "\n",
    "There are 5 basic data types in Python, namely: Integers, Floating-Point Numbers, Complex Numbers, Strings, Boolean."
   ]
  },
  {
   "attachments": {},
   "cell_type": "markdown",
   "metadata": {},
   "source": [
    "### 1. Integers"
   ]
  },
  {
   "cell_type": "code",
   "execution_count": 4,
   "metadata": {},
   "outputs": [
    {
     "name": "stdout",
     "output_type": "stream",
     "text": [
      "2\n",
      "3\n",
      "4\n",
      "3\n",
      "6\n",
      "1\n",
      "1\n",
      "1\n"
     ]
    }
   ],
   "source": [
    "# create an integer variable\n",
    "x: int = 2\n",
    "print(x)\n",
    "# change a variable's value\n",
    "x = 3 # every Python variable is mutable\n",
    "print(x)\n",
    "x = x + 1 # increment x by 1\n",
    "print(x)\n",
    "x = x - 1 # decrement x by 1\n",
    "print(x)\n",
    "x = x * 2 # multiply itself by 2\n",
    "print(x)\n",
    "x = x // 2 # divide itself by 2 -> result is an integer\n",
    "print(x)\n",
    "x = x % 2 # remainder of x when divided by 2\n",
    "print(x)\n",
    "x = x ** 2 # x to the 2nd power\n",
    "print(x)"
   ]
  },
  {
   "cell_type": "code",
   "execution_count": 9,
   "metadata": {},
   "outputs": [
    {
     "data": {
      "text/plain": [
       "1.5"
      ]
     },
     "execution_count": 9,
     "metadata": {},
     "output_type": "execute_result"
    }
   ],
   "source": [
    "3 / 2"
   ]
  },
  {
   "attachments": {},
   "cell_type": "markdown",
   "metadata": {},
   "source": [
    "### 2. Floating-point numbers"
   ]
  },
  {
   "cell_type": "code",
   "execution_count": 8,
   "metadata": {},
   "outputs": [
    {
     "name": "stdout",
     "output_type": "stream",
     "text": [
      "1.0\n",
      "1.5\n"
     ]
    }
   ],
   "source": [
    "x: float = 3.0\n",
    "# a float can perform every operator that an int can\n",
    "x = x // 2 # floor of x / 2\n",
    "print(x)\n",
    "\n",
    "x = 3.0\n",
    "x = x / 2\n",
    "print(x)"
   ]
  },
  {
   "attachments": {},
   "cell_type": "markdown",
   "metadata": {},
   "source": [
    "### 3. Complex numbers"
   ]
  },
  {
   "cell_type": "code",
   "execution_count": 13,
   "metadata": {},
   "outputs": [
    {
     "name": "stdout",
     "output_type": "stream",
     "text": [
      "(2+1j)\n",
      "(0.8-0.6j)\n",
      "2.0 1.0\n",
      "(2-1j)\n"
     ]
    }
   ],
   "source": [
    "x: complex = 2 + 1j\n",
    "print(x)\n",
    "\n",
    "# addition, subtraction, multiplication, division are also possible\n",
    "y: complex = 1 + 2j # (2+i)/(1+2i)\n",
    "print(x / y)\n",
    "\n",
    "print(x.real, x.imag)\n",
    "print(x.conjugate())"
   ]
  },
  {
   "attachments": {},
   "cell_type": "markdown",
   "metadata": {},
   "source": [
    "### 4. Booleans"
   ]
  },
  {
   "cell_type": "code",
   "execution_count": 14,
   "metadata": {},
   "outputs": [
    {
     "name": "stdout",
     "output_type": "stream",
     "text": [
      "False\n"
     ]
    }
   ],
   "source": [
    "# initialize boolean\n",
    "x: bool = True # assign value directly\n",
    "y = 2.0\n",
    "x = y > 2 # assign using a comparison (>, >=, <, <=, ==, !=)\n",
    "print(x)"
   ]
  },
  {
   "cell_type": "code",
   "execution_count": null,
   "metadata": {},
   "outputs": [],
   "source": [
    "# combine booleans: and, or, not, xor\n",
    "# a, b; a xor b == True <=> a is True & b is False or a is False & b is True\n",
    "x = y > 1 and y < 3\n",
    "x = y < 1 or y > 3\n",
    "x = (y > 5) or (y > 1 and y < 3)\n",
    "x = not (y > 5) # y <= 5\n",
    "# paid => not paid"
   ]
  },
  {
   "attachments": {},
   "cell_type": "markdown",
   "metadata": {},
   "source": [
    "### 5. Strings"
   ]
  },
  {
   "attachments": {},
   "cell_type": "markdown",
   "metadata": {},
   "source": [
    "#### 5.1. String initialization"
   ]
  },
  {
   "cell_type": "code",
   "execution_count": 19,
   "metadata": {},
   "outputs": [
    {
     "name": "stdout",
     "output_type": "stream",
     "text": [
      "True\n",
      "A wise man once said: \"An apple a day keeps the doctor away.\"\n",
      "this\n",
      "string\n",
      "spans\n",
      "multiple\n",
      "lines\n",
      "\n"
     ]
    }
   ],
   "source": [
    "# single-line strings\n",
    "s1 = \"this is my string\"\n",
    "s2 = 'this is my string'\n",
    "print(s1 == s2)\n",
    "\n",
    "# quotes within a string\n",
    "s3 = 'A wise man once said: \"An apple a day keeps the doctor away.\"'\n",
    "s3 = \"A wise man once said: \\\"An apple a day keeps the doctor away.\\\"\" # escape character\n",
    "print(s3)\n",
    "\n",
    "# Multiline string\n",
    "s4 = \"\"\"this\n",
    "string\n",
    "spans\n",
    "multiple\n",
    "lines\n",
    "\"\"\"\n",
    "s4 = '''this\n",
    "string\n",
    "spans\n",
    "multiple\n",
    "lines\n",
    "'''\n",
    "print(s4)"
   ]
  },
  {
   "attachments": {},
   "cell_type": "markdown",
   "metadata": {},
   "source": [
    "#### 5.2. String concatenation\n",
    "- Concatenation is done using `+` operator. Can we \"concatenate\" a string and a number?"
   ]
  },
  {
   "cell_type": "code",
   "execution_count": 22,
   "metadata": {},
   "outputs": [
    {
     "name": "stdout",
     "output_type": "stream",
     "text": [
      "this is the first string.And this is the second\n",
      "this is the first string.And this is the second\n"
     ]
    }
   ],
   "source": [
    "s_concat = \"this is the first string.\" + \"And this is the second\"\n",
    "print(s_concat)\n",
    "s_concat = \"this is the first string.\"\"And this is the second\"\n",
    "print(s_concat)"
   ]
  },
  {
   "cell_type": "code",
   "execution_count": 27,
   "metadata": {},
   "outputs": [
    {
     "ename": "TypeError",
     "evalue": "can only concatenate str (not \"int\") to str",
     "output_type": "error",
     "traceback": [
      "\u001b[0;31m---------------------------------------------------------------------------\u001b[0m",
      "\u001b[0;31mTypeError\u001b[0m                                 Traceback (most recent call last)",
      "Cell \u001b[0;32mIn[27], line 1\u001b[0m\n\u001b[0;32m----> 1\u001b[0m s_concat \u001b[39m=\u001b[39m \u001b[39m\"\u001b[39;49m\u001b[39mthis is my\u001b[39;49m\u001b[39m\"\u001b[39;49m \u001b[39m+\u001b[39;49m \u001b[39m1\u001b[39;49m \u001b[39m+\u001b[39m \u001b[39m\"\u001b[39m\u001b[39mst attempt\u001b[39m\u001b[39m\"\u001b[39m \u001b[39m# this ain't gonna work\u001b[39;00m\n\u001b[1;32m      2\u001b[0m \u001b[39mprint\u001b[39m(s_concat)\n\u001b[1;32m      4\u001b[0m \u001b[39m# how to fix? -> convert 1 to string\u001b[39;00m\n",
      "\u001b[0;31mTypeError\u001b[0m: can only concatenate str (not \"int\") to str"
     ]
    }
   ],
   "source": [
    "s_concat = \"this is my\" + 1 + \"st attempt\" # this ain't gonna work\n",
    "print(s_concat)\n",
    "\n",
    "# how to fix? -> convert 1 to string\n",
    "s_concat = \"this is my\" + str(1) + \"st attempt\" # this works\n",
    "print(s_concat)"
   ]
  },
  {
   "attachments": {},
   "cell_type": "markdown",
   "metadata": {},
   "source": [
    "#### 5.3. String manipulation\n",
    "Basic string manipulation includes:\n",
    "- Removing trailing/leading whitespaces;\n",
    "- Change string casing;\n",
    "- Determine whether a string is within, at the start or at the end of another string."
   ]
  },
  {
   "cell_type": "code",
   "execution_count": 30,
   "metadata": {},
   "outputs": [
    {
     "data": {
      "text/plain": [
       "(\"This is my message. Please don't tell anyone else about this!       \",\n",
       " \"         This is my message. Please don't tell anyone else about this!\",\n",
       " \"This is my message. Please don't tell anyone else about this!\")"
      ]
     },
     "execution_count": 30,
     "metadata": {},
     "output_type": "execute_result"
    }
   ],
   "source": [
    "# remove trailing/leading spaces\n",
    "s = \"         This is my message. Please don't tell anyone else about this!       \"\n",
    "s.lstrip(), s.rstrip(), s.strip()"
   ]
  },
  {
   "cell_type": "code",
   "execution_count": 34,
   "metadata": {},
   "outputs": [
    {
     "name": "stdout",
     "output_type": "stream",
     "text": [
      "this is khá bảnh\n",
      "THIS IS KHÁ BẢNH\n",
      "This is khá bảnh\n"
     ]
    }
   ],
   "source": [
    "# change string casing\n",
    "s = \"thIs iS KhÁ BảNh\"\n",
    "print(s.lower())\n",
    "print(s.upper())\n",
    "print(s.capitalize())"
   ]
  },
  {
   "attachments": {},
   "cell_type": "markdown",
   "metadata": {},
   "source": [
    "#### 5.4. Convert number to string"
   ]
  },
  {
   "cell_type": "code",
   "execution_count": 24,
   "metadata": {},
   "outputs": [
    {
     "name": "stdout",
     "output_type": "stream",
     "text": [
      "2.0 <class 'str'>\n"
     ]
    }
   ],
   "source": [
    "x = 2.0\n",
    "x_str = str(x)\n",
    "print(x_str, type(x_str))"
   ]
  },
  {
   "attachments": {},
   "cell_type": "markdown",
   "metadata": {},
   "source": [
    "#### 5.5. Use placeholders in string"
   ]
  },
  {
   "cell_type": "code",
   "execution_count": 35,
   "metadata": {},
   "outputs": [
    {
     "name": "stdout",
     "output_type": "stream",
     "text": [
      "My name is Binh. I am from Haiphong. Nice to meet you!\n"
     ]
    }
   ],
   "source": [
    "# placeholders\n",
    "introduction = \"My name is {name}. I am from {my_hometown}. Nice to meet you!\"\n",
    "\n",
    "name = \"Binh\"\n",
    "my_hometown = \"Haiphong\"\n",
    "\n",
    "my_introduction = introduction.format(name=name, my_hometown=my_hometown)\n",
    "print(my_introduction)"
   ]
  },
  {
   "cell_type": "code",
   "execution_count": 38,
   "metadata": {},
   "outputs": [
    {
     "name": "stdout",
     "output_type": "stream",
     "text": [
      "My name is Binh. I am from Haiphong. Nice to meet you!\n"
     ]
    }
   ],
   "source": [
    "# f-string\n",
    "name = \"Binh\"\n",
    "my_hometown = \"Haiphong\"\n",
    "introduction = f\"My name is {name}. I am from {my_hometown}. Nice to meet you!\"\n",
    "print(introduction)"
   ]
  },
  {
   "attachments": {},
   "cell_type": "markdown",
   "metadata": {},
   "source": [
    "#### 5.4. Replace a string in another string"
   ]
  },
  {
   "cell_type": "code",
   "execution_count": 39,
   "metadata": {},
   "outputs": [
    {
     "name": "stdout",
     "output_type": "stream",
     "text": [
      "this is my xyz and I would like to make it xyz.\n",
      "this is my abc and I would like to make it xyz.\n"
     ]
    }
   ],
   "source": [
    "s = \"this is my abc and I would like to make it xyz.\"\n",
    "s_xyz = s.replace(\"abc\", \"xyz\")\n",
    "print(s_xyz)\n",
    "print(s)"
   ]
  },
  {
   "attachments": {},
   "cell_type": "markdown",
   "metadata": {},
   "source": [
    "### 6. Challenges"
   ]
  },
  {
   "attachments": {},
   "cell_type": "markdown",
   "metadata": {},
   "source": [
    "1. Write a script to calculate the delta value of the following equation: $ax^2 + bx + c = 0  (a \\ne 0)$\n",
    "\n",
    "   First, initialize a, b, c to be arbitrary values. Then calculate $\\Delta = b^2 - 4ac$"
   ]
  },
  {
   "attachments": {},
   "cell_type": "markdown",
   "metadata": {},
   "source": [
    "2. Write a script that asks the user for some input with the following prompt: `Enter some text:`. Then use the .replace() method to convert the text entered by the user into \"leetspeak\" (similar to T33nCod3) by making the following changes to lower-case letters:\n",
    "* The letter a becomes 4\n",
    "* The letter b becomes 8\n",
    "* The letter e becomes 3\n",
    "* The letter l becomes 1\n",
    "* The letter o becomes 0\n",
    "* The letter s becomes 5\n",
    "* The letter t becomes 7\n",
    "\n",
    "Your program should then display the resulting string as output. Below is a sample run of the program:\n",
    "```\n",
    "Enter some text: I like to eat eggs and spam.\n",
    "I 1ik3 70 347 3gg5 4nd 5p4m.\n",
    "```\n",
    "\n",
    "Hint: to get input from user, use `input(prompt)`.\n"
   ]
  },
  {
   "attachments": {},
   "cell_type": "markdown",
   "metadata": {},
   "source": [
    "3. Perform the following tasks:\n",
    "   1. Write a Python script to determine whether 3 sides `a`, `b`, `c` of a triangle (arbitrary initialized) belong to a right triangle. You should use the Pythagoras theorem for it: $c^2 = a^2 + b^2$\n",
    "   2. Write a Python script to calculate the circumference and area of a circle given its radius."
   ]
  },
  {
   "cell_type": "code",
   "execution_count": null,
   "metadata": {},
   "outputs": [],
   "source": []
  }
 ],
 "metadata": {
  "kernelspec": {
   "display_name": "Python 3",
   "language": "python",
   "name": "python3"
  },
  "language_info": {
   "codemirror_mode": {
    "name": "ipython",
    "version": 3
   },
   "file_extension": ".py",
   "mimetype": "text/x-python",
   "name": "python",
   "nbconvert_exporter": "python",
   "pygments_lexer": "ipython3",
   "version": "3.9.7"
  },
  "orig_nbformat": 4
 },
 "nbformat": 4,
 "nbformat_minor": 2
}
