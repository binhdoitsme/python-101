{
 "cells": [
  {
   "attachments": {},
   "cell_type": "markdown",
   "metadata": {},
   "source": [
    "## For loop & List comprehension\n",
    "\n",
    "We have studied the creation and modification of some built-in sequences (list, tuple, range). In reality, when we have a sequence of items, it is likely that we will need to perform some operation on every element, or apply a filter to find a subset of elements that matches our needs. Using `while`-loop can be a way, but it is not very good-looking. Luckily, Python has us covered with the beautiful-syntax `for` loop. Based on `for`-loop, Python offers List comprehension to further reduce the lines of code needed to be read while maintaining reasonable readability."
   ]
  },
  {
   "attachments": {},
   "cell_type": "markdown",
   "metadata": {},
   "source": [
    "### Prelude\n",
    "\n",
    "Before diving into `for` loops, let's start with a problem that requires us to work with every element within a sequence: Word counting. To perform word counting, we need to split the words by the word separator, which is usually a single space `\" \"`. In Python, the `str` class offers us the `.split()` method which we can use for spliting a string by a given delimiter. In this case, the delimiter is a single space `\" \"` so we came up with the following snippet:"
   ]
  },
  {
   "cell_type": "code",
   "execution_count": 17,
   "metadata": {},
   "outputs": [
    {
     "data": {
      "text/plain": [
       "9"
      ]
     },
     "execution_count": 17,
     "metadata": {},
     "output_type": "execute_result"
    }
   ],
   "source": [
    "s = \"\"\"\n",
    "This is an example paragraph. This is another sentence.\n",
    "\"\"\"\n",
    "\n",
    "words = s.split(\" \")\n",
    "word_count = len(words)\n",
    "word_count"
   ]
  },
  {
   "attachments": {},
   "cell_type": "markdown",
   "metadata": {},
   "source": [
    "Does it work properly when we have a jammed Spacebar that registers the space character multiple times?"
   ]
  },
  {
   "cell_type": "code",
   "execution_count": 19,
   "metadata": {},
   "outputs": [
    {
     "data": {
      "text/plain": [
       "12"
      ]
     },
     "execution_count": 19,
     "metadata": {},
     "output_type": "execute_result"
    }
   ],
   "source": [
    "s = \"\"\"\n",
    "This is an example paragraph. This is    another sentence.\n",
    "\"\"\"\n",
    "\n",
    "words = s.split(\" \")\n",
    "word_count = len(words)\n",
    "word_count"
   ]
  },
  {
   "cell_type": "code",
   "execution_count": 21,
   "metadata": {},
   "outputs": [
    {
     "data": {
      "text/plain": [
       "['is', '', '', '', 'another']"
      ]
     },
     "execution_count": 21,
     "metadata": {},
     "output_type": "execute_result"
    }
   ],
   "source": [
    "\"is    another\".split(\" \")"
   ]
  },
  {
   "attachments": {},
   "cell_type": "markdown",
   "metadata": {},
   "source": [
    "Apparantly not. This is due to the fact that `\"is    another\"` when split by `\" \"` yields the list: `['is', '', '', '', 'another']`. There are 3 redundant empty strings yielded as the result and we need to discard them all. Fortunately, Python offers a rather neat way to clean them up -- using `.split()` without any argument. Take a look at the updated code:"
   ]
  },
  {
   "cell_type": "code",
   "execution_count": 3,
   "metadata": {},
   "outputs": [
    {
     "data": {
      "text/plain": [
       "9"
      ]
     },
     "execution_count": 3,
     "metadata": {},
     "output_type": "execute_result"
    }
   ],
   "source": [
    "s = \"\"\"\n",
    "This is an example paragraph. This is    another sentence.\n",
    "\"\"\"\n",
    "\n",
    "words = s.split()\n",
    "word_count = len(words)\n",
    "word_count"
   ]
  },
  {
   "attachments": {},
   "cell_type": "markdown",
   "metadata": {},
   "source": [
    "Recall that a string is actually a tuple of characters, so similarly to tuples, we can also get `len()` of a string and perform indexing and slicing."
   ]
  },
  {
   "cell_type": "code",
   "execution_count": 5,
   "metadata": {},
   "outputs": [
    {
     "data": {
      "text/plain": [
       "4"
      ]
     },
     "execution_count": 5,
     "metadata": {},
     "output_type": "execute_result"
    }
   ],
   "source": [
    "# word length\n",
    "word = \"Mine\"\n",
    "len(word)"
   ]
  },
  {
   "attachments": {},
   "cell_type": "markdown",
   "metadata": {},
   "source": [
    "### The for-loop\n",
    "\n",
    "Let's update our problem a little bit. Assume that every word that is less than 2 characters in length is **stop-word** which does not contribute much to the overall meaning of our text. Our job now is to get rid of every word that is less than 2 characters in length. \n",
    "\n",
    "A naive approach would be to:\n",
    "- Iterate over every word in the list of words\n",
    "  - If a word has more than 2 characters: note it down\n",
    "\n",
    "Syntax of the `for` loop in Python does just the same. Have a look at the syntax:\n",
    "```\n",
    "for <element> in <collection>:\n",
    "    # ... do sth with element\n",
    "```\n",
    "\n",
    "Now let's reproduce our procedure using Python:"
   ]
  },
  {
   "cell_type": "code",
   "execution_count": 9,
   "metadata": {},
   "outputs": [
    {
     "name": "stdout",
     "output_type": "stream",
     "text": [
      "sentence.\n",
      "['This', 'example', 'paragraph.', 'This', 'another', 'sentence.']\n",
      "sentence.\n"
     ]
    }
   ],
   "source": [
    "# need to get only words that are more than 2 characters\n",
    "s = \"\"\"\n",
    "This is an example paragraph. This is    another sentence.\n",
    "\"\"\"\n",
    "\n",
    "words = s.split()\n",
    "non_stopwords = []\n",
    "print(word) # cannot use `word` here\n",
    "\n",
    "for word in words: # each element in `words` is iterated and stored in `word`\n",
    "    if len(word) > 2:\n",
    "        non_stopwords.append(word)\n",
    "\n",
    "print(non_stopwords)\n",
    "print(word)"
   ]
  },
  {
   "attachments": {},
   "cell_type": "markdown",
   "metadata": {},
   "source": [
    "One thing Python does differently is that it allows the looping variable to be available even after the for-loop concluded. So we always get the last element as the value of the looping variable."
   ]
  },
  {
   "attachments": {},
   "cell_type": "markdown",
   "metadata": {},
   "source": [
    "A humourous comparison of Python loops with the route to success in real-life:\n",
    "\n",
    "While - Measure of success => Used when only a condition to break the loop is known\n",
    "\n",
    "For - Steps to success => Used when you go through a collection"
   ]
  },
  {
   "attachments": {},
   "cell_type": "markdown",
   "metadata": {},
   "source": [
    "**Challenge**: Given a list of integers, find the maximum value."
   ]
  },
  {
   "cell_type": "code",
   "execution_count": 10,
   "metadata": {},
   "outputs": [
    {
     "name": "stdout",
     "output_type": "stream",
     "text": [
      "max_value: 150\n"
     ]
    }
   ],
   "source": [
    "numbers = [20, 1, 4, 8, 100, 150, 24, 18]\n",
    "# tuple: (20, 1, 4, 8, 100, 150, 24, 18)\n",
    "\n",
    "# find the max value of `numbers`\n",
    "# use the first element as the pivot\n",
    "max_value = numbers[0] \n",
    "# for each `number` in `numbers`\n",
    "# if `number` > `max_value`: max_value = number\n",
    "for number in numbers:\n",
    "    if number > max_value:\n",
    "        max_value = number\n",
    "\n",
    "print(\"max_value:\", max_value)"
   ]
  },
  {
   "attachments": {},
   "cell_type": "markdown",
   "metadata": {},
   "source": [
    "### `enumerate`\n",
    "\n",
    "Sometimes we need to work also with the indices of elements in the sequence. Python provides `enumerate()` to do just that. The usage is like the following:"
   ]
  },
  {
   "cell_type": "code",
   "execution_count": 22,
   "metadata": {},
   "outputs": [
    {
     "name": "stdout",
     "output_type": "stream",
     "text": [
      "[(0, 20), (1, 1), (2, 4), (3, 8), (4, 100), (5, 150), (6, 24), (7, 18)]\n"
     ]
    }
   ],
   "source": [
    "# An enumerate() always return a list of tuples in the form of (index, element)\n",
    "numbers = [20, 1, 4, 8, 100, 150, 24, 18]\n",
    "\n",
    "print(list(enumerate(numbers)))"
   ]
  },
  {
   "attachments": {},
   "cell_type": "markdown",
   "metadata": {},
   "source": [
    "**Challenge**: Given a list of integers, find the maximum value and its index."
   ]
  },
  {
   "cell_type": "code",
   "execution_count": 4,
   "metadata": {},
   "outputs": [
    {
     "name": "stdout",
     "output_type": "stream",
     "text": [
      "max_value: 150\n",
      "max_value found at index: 5\n"
     ]
    }
   ],
   "source": [
    "numbers = [20, 1, 4, 8, 100, 150, 24, 18]\n",
    "\n",
    "# find max value & index of max value of `numbers`\n",
    "# introducing `enumerate`\n",
    "max_value = numbers[0]\n",
    "max_value_index = 0\n",
    "for index_and_number in enumerate(numbers):\n",
    "    index = index_and_number[0]\n",
    "    number = index_and_number[1]\n",
    "    if number > max_value:\n",
    "        max_value = number\n",
    "        max_value_index = index\n",
    "\n",
    "print(\"max_value:\", max_value)\n",
    "print(\"max_value found at index:\", max_value_index)\n"
   ]
  },
  {
   "attachments": {},
   "cell_type": "markdown",
   "metadata": {},
   "source": [
    "***Destructuring:***  Python provides a neat way to quickly assign list and tuple elements to variables that is called tuple/list destructuring. The usage looks like the following:"
   ]
  },
  {
   "cell_type": "code",
   "execution_count": 6,
   "metadata": {},
   "outputs": [
    {
     "name": "stdout",
     "output_type": "stream",
     "text": [
      "1\n",
      "2\n",
      "1\n",
      "2\n"
     ]
    }
   ],
   "source": [
    "# tuple destructuring\n",
    "t = (1, 2)\n",
    "t1, t2 = t\n",
    "print(t1)\n",
    "print(t2)\n",
    "# list destructuring\n",
    "l = [1, 2]\n",
    "l1, l2 = l\n",
    "print(l1)\n",
    "print(l2)\n",
    "\n",
    "# tuple assignment\n",
    "t1, t2 = 1, 2"
   ]
  },
  {
   "attachments": {},
   "cell_type": "markdown",
   "metadata": {},
   "source": [
    "Applying the destructuring syntax yields an even shorter version of the above snippet:"
   ]
  },
  {
   "cell_type": "code",
   "execution_count": 8,
   "metadata": {},
   "outputs": [
    {
     "name": "stdout",
     "output_type": "stream",
     "text": [
      "max_value: 150\n",
      "max_value found at index: 5\n",
      "max value by max() function: 150\n"
     ]
    }
   ],
   "source": [
    "numbers = [20, 1, 4, 8, 100, 150, 24, 18]\n",
    "\n",
    "# find max value & index of max value of `numbers`\n",
    "# introducing `enumerate`\n",
    "max_value = numbers[0]\n",
    "max_value_index = 0\n",
    "for index, number in enumerate(numbers):\n",
    "    # index, number = index_and_number\n",
    "    if number > max_value:\n",
    "        max_value = number\n",
    "        max_value_index = index\n",
    "\n",
    "print(\"max_value:\", max_value)\n",
    "print(\"max_value found at index:\", max_value_index)\n",
    "\n",
    "# bonus: max() in Python\n",
    "max_value = max(numbers)\n",
    "print(\"max value by max() function:\", max_value)"
   ]
  },
  {
   "attachments": {},
   "cell_type": "markdown",
   "metadata": {},
   "source": [
    "***Bear in mind:*** Whenever you need to work with index and elements, you always need to use `enumerate`."
   ]
  },
  {
   "attachments": {},
   "cell_type": "markdown",
   "metadata": {},
   "source": [
    "### List comprehension\n",
    "\n",
    "When you need to create a list as the result after working with elements of a collection, you can think of List comprehension as a shorter syntax to the original `for` loop.\n",
    "\n",
    "Syntax: `[<do sth with element> for <element> in <collection> if <condition>]`\n",
    "\n",
    "Or: `list(<do sth with element> for <element> in <collection> if <condition>)`\n",
    "\n",
    "Output: a new list containing matched items in the original collection."
   ]
  },
  {
   "cell_type": "code",
   "execution_count": 14,
   "metadata": {},
   "outputs": [
    {
     "name": "stdout",
     "output_type": "stream",
     "text": [
      "['This', 'is', 'an', 'example', 'paragraph.', 'This', 'is', 'another', 'sentence.']\n",
      "['This', 'example', 'paragraph.', 'This', 'another', 'sentence.']\n",
      "['This', 'example', 'paragraph.', 'This', 'another', 'sentence.']\n"
     ]
    }
   ],
   "source": [
    "s = \"\"\"\n",
    "This is an example paragraph. This is    another sentence.\n",
    "\"\"\"\n",
    "\n",
    "words = s.split()\n",
    "\n",
    "# non_stopwords = []\n",
    "# for word in words: # each element in `words` is iterated and stored in `word`\n",
    "#     if len(word) > 2:\n",
    "#         non_stopwords.append(word)\n",
    "words_copy = [word for word in words if len(word) > 2]\n",
    "words_copy = list(word for word in words if len(word) > 2)\n",
    "print(words)\n",
    "print(words_copy)\n",
    "\n",
    "# equivalence:\n",
    "words_copy = []\n",
    "for word in words:\n",
    "    if len(word) > 2:\n",
    "        words_copy.append(word)\n",
    "print(words_copy)\n"
   ]
  },
  {
   "attachments": {},
   "cell_type": "markdown",
   "metadata": {},
   "source": [
    "**Challenge:** Get all square of all numbers in the given list."
   ]
  },
  {
   "cell_type": "code",
   "execution_count": 15,
   "metadata": {},
   "outputs": [
    {
     "name": "stdout",
     "output_type": "stream",
     "text": [
      "[400, 1, 16, 64, 10000, 22500, 576, 324]\n"
     ]
    }
   ],
   "source": [
    "numbers = [20, 1, 4, 8, 100, 150, 24, 18]\n",
    "\n",
    "# using plain for-loop\n",
    "squared_numbers = []\n",
    "for number in numbers:\n",
    "    squared = number ** 2\n",
    "    squared_numbers.append(squared)\n",
    "print(squared_numbers)"
   ]
  },
  {
   "cell_type": "code",
   "execution_count": 16,
   "metadata": {},
   "outputs": [
    {
     "name": "stdout",
     "output_type": "stream",
     "text": [
      "[400, 1, 16, 64, 10000, 22500, 576, 324]\n"
     ]
    }
   ],
   "source": [
    "numbers = [20, 1, 4, 8, 100, 150, 24, 18]\n",
    "# using list-comprehension\n",
    "squared_numbers = [number ** 2 for number in numbers]\n",
    "print(squared_numbers)"
   ]
  },
  {
   "attachments": {},
   "cell_type": "markdown",
   "metadata": {},
   "source": [
    "### Challenge\n",
    "\n",
    "We have worked with `list` extensively in the lecture session, so for the homework we can also apply the `for` loop to `tuple` and `range`. Good luck!\n",
    "\n",
    "1. Using `for` loop, print the first 20 natural numbers (1 ~ 20). Hint: use `range()`\n",
    "2. Using `for` loop, create a list of n (arbitrary int value, n > 2) first numbers of the Fibonacci sequence.\n",
    "   ***Hint:** You may use the following snippet to get started with:*\n",
    "   ```\n",
    "    fibonacci_numbers = [1, 1]\n",
    "    for index in range(2, n): \n",
    "        # index - 1 and index - 2 are 2 previous indices\n",
    "        ...\n",
    "   ```\n",
    "3. Using `for` loop, find the factorial of n (arbitrary int value, n > 2). Hint: also use `range()`"
   ]
  },
  {
   "cell_type": "markdown",
   "metadata": {},
   "source": []
  }
 ],
 "metadata": {
  "kernelspec": {
   "display_name": "Python 3",
   "language": "python",
   "name": "python3"
  },
  "language_info": {
   "codemirror_mode": {
    "name": "ipython",
    "version": 3
   },
   "file_extension": ".py",
   "mimetype": "text/x-python",
   "name": "python",
   "nbconvert_exporter": "python",
   "pygments_lexer": "ipython3",
   "version": "3.9.7"
  },
  "orig_nbformat": 4
 },
 "nbformat": 4,
 "nbformat_minor": 2
}
