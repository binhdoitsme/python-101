{
 "cells": [
  {
   "attachments": {},
   "cell_type": "markdown",
   "metadata": {},
   "source": [
    "## Set & Dictionary\n",
    "\n",
    "Other than `list`, `range`, `tuple`, there are other built-in collection types that are also supported in `for` loops, namely `set`s, `dict`. Sets are used to remove duplicate items, whereas dictionaries are used to represent mappings of a set of non-duplicate keys to their respective values."
   ]
  },
  {
   "attachments": {},
   "cell_type": "markdown",
   "metadata": {},
   "source": [
    "### 1. Set & Frozen Set\n",
    "\n",
    "There are 2 built-in types of `set`: `set` and `frozenset`. `set` represents a mutable set of items with support for addition and removal, whereas `frozenset` represents an immutable set."
   ]
  },
  {
   "attachments": {},
   "cell_type": "markdown",
   "metadata": {},
   "source": [
    "#### 1.1. Set\n",
    "\n",
    "A set is either declared as empty using `set()` syntax, or from an existing collection using `set(collection)` syntax."
   ]
  },
  {
   "cell_type": "code",
   "execution_count": 1,
   "metadata": {},
   "outputs": [
    {
     "name": "stdout",
     "output_type": "stream",
     "text": [
      "set()\n"
     ]
    }
   ],
   "source": [
    "# define an empty set\n",
    "s = set()\n",
    "print(s)"
   ]
  },
  {
   "cell_type": "code",
   "execution_count": 3,
   "metadata": {},
   "outputs": [
    {
     "name": "stdout",
     "output_type": "stream",
     "text": [
      "{1, 2, 3}\n",
      "{1, 2, 3}\n"
     ]
    }
   ],
   "source": [
    "# define a set with some elements (from list or tuple)\n",
    "l = [1, 2, 3, 1, 2, 1, 1]\n",
    "s = set(l)\n",
    "print(s)\n",
    "\n",
    "# define a set with some elements directly (bonus, hardly used)\n",
    "s = {1, 2, 3, 1, 2, 1, 1}\n",
    "print(s)"
   ]
  },
  {
   "attachments": {},
   "cell_type": "markdown",
   "metadata": {},
   "source": [
    "`set` supports addition, removal and `pop` operations:"
   ]
  },
  {
   "cell_type": "code",
   "execution_count": 6,
   "metadata": {},
   "outputs": [
    {
     "name": "stdout",
     "output_type": "stream",
     "text": [
      "{1, 2}\n",
      "{2}\n",
      "set()\n"
     ]
    },
    {
     "ename": "TypeError",
     "evalue": "'set' object is not subscriptable",
     "output_type": "error",
     "traceback": [
      "\u001b[0;31m---------------------------------------------------------------------------\u001b[0m",
      "\u001b[0;31mTypeError\u001b[0m                                 Traceback (most recent call last)",
      "Cell \u001b[0;32mIn[6], line 16\u001b[0m\n\u001b[1;32m     13\u001b[0m s\u001b[39m.\u001b[39mpop()\n\u001b[1;32m     14\u001b[0m \u001b[39mprint\u001b[39m(s)\n\u001b[0;32m---> 16\u001b[0m \u001b[39mprint\u001b[39m(s[:])\n\u001b[1;32m     17\u001b[0m \u001b[39m# indexing is not supported\u001b[39;00m\n\u001b[1;32m     18\u001b[0m \u001b[39mprint\u001b[39m(s[\u001b[39m1\u001b[39m])\n",
      "\u001b[0;31mTypeError\u001b[0m: 'set' object is not subscriptable"
     ]
    }
   ],
   "source": [
    "s = set()\n",
    "# Set is mutable\n",
    "# Add item to set\n",
    "s.add(1)\n",
    "s.add(2)\n",
    "s.add(1)\n",
    "s.add(2)\n",
    "print(s)\n",
    "\n",
    "# Remove item from set\n",
    "s.remove(1)\n",
    "print(s)\n",
    "s.pop()\n",
    "print(s)\n",
    "\n",
    "# indexing & slicing is not supported\n",
    "print(s[1])\n",
    "print(s[:])"
   ]
  },
  {
   "attachments": {},
   "cell_type": "markdown",
   "metadata": {},
   "source": [
    "Similar to mathematical sets, `set` supports `intersection`, `union`, `issubset`/`issuperset`, etc. operations. A side note: `set` (and also `frozenset`) does not support indexing and slicing."
   ]
  },
  {
   "cell_type": "code",
   "execution_count": 18,
   "metadata": {},
   "outputs": [
    {
     "name": "stdout",
     "output_type": "stream",
     "text": [
      "s1: {1, 2, 4, 6}\n",
      "s2: {1, 2, 3, 4, 5, 7}\n",
      "intersection: {1, 2, 4}\n",
      "union: {1, 2, 3, 4, 5, 6, 7}\n",
      "True\n",
      "True\n",
      "True\n"
     ]
    }
   ],
   "source": [
    "s1 = set([2, 4, 6, 1, 1, 2, 4, 2])\n",
    "s2 = set([3, 3, 4, 5, 1, 2, 7, 2])\n",
    "print(\"s1:\", s1)\n",
    "print(\"s2:\", s2)\n",
    "\n",
    "# intersection\n",
    "intersection = s1.intersection(s2)\n",
    "print(\"intersection:\", intersection)\n",
    "\n",
    "# union\n",
    "union = s1.union(s2)\n",
    "print(\"union:\", union)\n",
    "\n",
    "# check is subset\n",
    "numbers_less_than_7 = set(range(1, 7)) # set([1, 2, 3, 4, 5, 6])\n",
    "print(s1.issubset(numbers_less_than_7))\n",
    "print(numbers_less_than_7.issuperset(s1))\n",
    "\n",
    "# check is disjoint\n",
    "print(s1.isdisjoint(set([10, 20, 30])))"
   ]
  },
  {
   "attachments": {},
   "cell_type": "markdown",
   "metadata": {},
   "source": [
    "#### 1.2. Frozenset\n",
    "\n",
    "A `frozenset` is similar to a `set` but does not define addition, operation or `pop` operations. The usage for other operations is similar to `set`."
   ]
  },
  {
   "cell_type": "code",
   "execution_count": 19,
   "metadata": {},
   "outputs": [
    {
     "name": "stdout",
     "output_type": "stream",
     "text": [
      "frozenset()\n",
      "frozenset({1, 2, 3})\n"
     ]
    }
   ],
   "source": [
    "# empty frozenset\n",
    "s = frozenset()\n",
    "print(s)\n",
    "\n",
    "# frozenset from a collection (list/tuple/range/...)\n",
    "l = [1, 2, 3, 1, 2, 1, 1]\n",
    "s = frozenset(l)\n",
    "print(s)"
   ]
  },
  {
   "cell_type": "code",
   "execution_count": 26,
   "metadata": {},
   "outputs": [
    {
     "name": "stdout",
     "output_type": "stream",
     "text": [
      "frozenset({1, 2, 3})\n"
     ]
    },
    {
     "ename": "AttributeError",
     "evalue": "'frozenset' object has no attribute 'remove'",
     "output_type": "error",
     "traceback": [
      "\u001b[0;31m---------------------------------------------------------------------------\u001b[0m",
      "\u001b[0;31mAttributeError\u001b[0m                            Traceback (most recent call last)",
      "Cell \u001b[0;32mIn[26], line 6\u001b[0m\n\u001b[1;32m      3\u001b[0m s \u001b[39m=\u001b[39m \u001b[39mfrozenset\u001b[39m(l)\n\u001b[1;32m      4\u001b[0m \u001b[39mprint\u001b[39m(s)\n\u001b[0;32m----> 6\u001b[0m s\u001b[39m.\u001b[39;49mremove(\u001b[39m1\u001b[39m)\n",
      "\u001b[0;31mAttributeError\u001b[0m: 'frozenset' object has no attribute 'remove'"
     ]
    }
   ],
   "source": [
    "# frozenset cannot add/remove elements\n",
    "l = [1, 2, 3, 1, 2, 1, 1]\n",
    "s = frozenset(l)\n",
    "print(s)\n",
    "\n",
    "s.remove(1)"
   ]
  },
  {
   "cell_type": "code",
   "execution_count": 32,
   "metadata": {},
   "outputs": [
    {
     "name": "stdout",
     "output_type": "stream",
     "text": [
      "True\n",
      "True\n"
     ]
    }
   ],
   "source": [
    "# copy frozenset\n",
    "s = frozenset([1, 3, 2, 2, 1])\n",
    "s_copy = s.copy()\n",
    "print(s == s_copy)\n",
    "print(s is s_copy)"
   ]
  },
  {
   "cell_type": "code",
   "execution_count": 33,
   "metadata": {},
   "outputs": [
    {
     "name": "stdout",
     "output_type": "stream",
     "text": [
      "s1: frozenset({1, 2, 4, 6})\n",
      "s2: frozenset({1, 2, 3, 4, 5, 7})\n",
      "intersection: frozenset({1, 2, 4})\n",
      "union: frozenset({1, 2, 3, 4, 5, 6, 7})\n",
      "True\n",
      "True\n",
      "True\n"
     ]
    }
   ],
   "source": [
    "s1 = frozenset([2, 4, 6, 1, 1, 2, 4, 2])\n",
    "s2 = frozenset([3, 3, 4, 5, 1, 2, 7, 2])\n",
    "print(\"s1:\", s1)\n",
    "print(\"s2:\", s2)\n",
    "\n",
    "# intersection\n",
    "intersection = s1.intersection(s2)\n",
    "print(\"intersection:\", intersection)\n",
    "\n",
    "# union\n",
    "union = s1.union(s2)\n",
    "print(\"union:\", union)\n",
    "\n",
    "# check is subset\n",
    "numbers_less_than_7 = frozenset(range(1, 7)) # set([1, 2, 3, 4, 5, 6])\n",
    "print(s1.issubset(numbers_less_than_7))\n",
    "print(numbers_less_than_7.issuperset(s1))\n",
    "\n",
    "# check is disjoint\n",
    "print(s1.isdisjoint(frozenset([10, 20, 30])))"
   ]
  },
  {
   "attachments": {},
   "cell_type": "markdown",
   "metadata": {},
   "source": [
    "### 2. Dictionary"
   ]
  },
  {
   "attachments": {},
   "cell_type": "markdown",
   "metadata": {},
   "source": [
    "A dictionary has the form: `key: value`. Each key only appears once in the dictionary. Each value may be linked to several keys. An `item` is the tuple `(key, value)`."
   ]
  },
  {
   "cell_type": "code",
   "execution_count": 34,
   "metadata": {},
   "outputs": [
    {
     "name": "stdout",
     "output_type": "stream",
     "text": [
      "{}\n",
      "{}\n"
     ]
    }
   ],
   "source": [
    "# empty dictionary\n",
    "d = dict()\n",
    "print(d)\n",
    "d = {}\n",
    "print(d)"
   ]
  },
  {
   "cell_type": "code",
   "execution_count": 2,
   "metadata": {},
   "outputs": [
    {
     "name": "stdout",
     "output_type": "stream",
     "text": [
      "{'take (v)': 'to carry or move something from one place to another', 'take (n)': 'a scene or part of a film that is filmed at one time without stopping the camera'}\n",
      "{0: 1, 1: 2, 2: 3}\n"
     ]
    }
   ],
   "source": [
    "# dictionary with some entries\n",
    "oald = {\n",
    "    \"take (v)\": \"to carry or move something from one place to another\",\n",
    "    \"take (n)\": \"a scene or part of a film that is filmed at one time without stopping the camera\",\n",
    "}\n",
    "print(oald)\n",
    "\n",
    "d = {\n",
    "    0: 1,\n",
    "    1: 2,\n",
    "    2: 3,\n",
    "}\n",
    "print(d)"
   ]
  },
  {
   "cell_type": "code",
   "execution_count": 6,
   "metadata": {},
   "outputs": [
    {
     "name": "stdout",
     "output_type": "stream",
     "text": [
      "1\n",
      "to carry or move something from one place to another\n"
     ]
    },
    {
     "ename": "KeyError",
     "evalue": "'m'",
     "output_type": "error",
     "traceback": [
      "\u001b[0;31m---------------------------------------------------------------------------\u001b[0m",
      "\u001b[0;31mKeyError\u001b[0m                                  Traceback (most recent call last)",
      "Cell \u001b[0;32mIn[6], line 5\u001b[0m\n\u001b[1;32m      2\u001b[0m \u001b[39mprint\u001b[39m(d[\u001b[39m0\u001b[39m]) \u001b[39m# existing key (get value of key 0)\u001b[39;00m\n\u001b[1;32m      4\u001b[0m \u001b[39mprint\u001b[39m(oald[\u001b[39m\"\u001b[39m\u001b[39mtake (v)\u001b[39m\u001b[39m\"\u001b[39m]) \u001b[39m# get value of key \"take (v)\"\u001b[39;00m\n\u001b[0;32m----> 5\u001b[0m \u001b[39mprint\u001b[39m(oald[\u001b[39m\"\u001b[39;49m\u001b[39mm\u001b[39;49m\u001b[39m\"\u001b[39;49m]) \u001b[39m# get value of key \"m\" which is not present\u001b[39;00m\n",
      "\u001b[0;31mKeyError\u001b[0m: 'm'"
     ]
    }
   ],
   "source": [
    "# get item (key, value) of dictionary\n",
    "print(d[0]) # existing key (get value of key 0)\n",
    "\n",
    "print(oald[\"take (v)\"]) # get value of key \"take (v)\"\n",
    "print(oald[\"m\"]) # get value of key \"m\" which is not present"
   ]
  },
  {
   "cell_type": "code",
   "execution_count": 15,
   "metadata": {},
   "outputs": [
    {
     "name": "stdout",
     "output_type": "stream",
     "text": [
      "no value\n",
      "to carry or move something from one place to another\n"
     ]
    }
   ],
   "source": [
    "# get item using a default value\n",
    "print(oald.get(\"m\", \"no value\"))\n",
    "print(oald.get(\"take (v)\", \"no value\"))"
   ]
  },
  {
   "attachments": {},
   "cell_type": "markdown",
   "metadata": {},
   "source": [
    "You should use immutable data as keys in dictionaries. Using mutable data types means the keys may be equal to each other at some moment in time."
   ]
  },
  {
   "cell_type": "code",
   "execution_count": 7,
   "metadata": {},
   "outputs": [
    {
     "ename": "TypeError",
     "evalue": "unhashable type: 'list'",
     "output_type": "error",
     "traceback": [
      "\u001b[0;31m---------------------------------------------------------------------------\u001b[0m",
      "\u001b[0;31mTypeError\u001b[0m                                 Traceback (most recent call last)",
      "Cell \u001b[0;32mIn[7], line 2\u001b[0m\n\u001b[1;32m      1\u001b[0m \u001b[39m# should not do this\u001b[39;00m\n\u001b[0;32m----> 2\u001b[0m d \u001b[39m=\u001b[39m {\n\u001b[1;32m      3\u001b[0m     [\u001b[39m1\u001b[39m, \u001b[39m2\u001b[39m]: \u001b[39m1\u001b[39m,\n\u001b[1;32m      4\u001b[0m     [\u001b[39m2\u001b[39m, \u001b[39m1\u001b[39m]: \u001b[39m2\u001b[39m,\n\u001b[1;32m      5\u001b[0m }\n\u001b[1;32m      6\u001b[0m \u001b[39mprint\u001b[39m(d[[\u001b[39m1\u001b[39m, \u001b[39m2\u001b[39m]])\n\u001b[1;32m      8\u001b[0m \u001b[39m# do this instead\u001b[39;00m\n",
      "\u001b[0;31mTypeError\u001b[0m: unhashable type: 'list'"
     ]
    }
   ],
   "source": [
    "# should not do this\n",
    "d = {\n",
    "    [1, 2]: 1,\n",
    "    [2, 1]: 2,\n",
    "}\n",
    "print(d[[1, 2]]) # error"
   ]
  },
  {
   "cell_type": "code",
   "execution_count": 8,
   "metadata": {},
   "outputs": [
    {
     "name": "stdout",
     "output_type": "stream",
     "text": [
      "1\n"
     ]
    }
   ],
   "source": [
    "# do this instead\n",
    "d = {\n",
    "    (1, 2): 1,\n",
    "    (2, 1): 2,\n",
    "}\n",
    "print(d[(1, 2)])"
   ]
  },
  {
   "cell_type": "code",
   "execution_count": 11,
   "metadata": {},
   "outputs": [
    {
     "name": "stdout",
     "output_type": "stream",
     "text": [
      "{}\n",
      "{'first': 'one'}\n",
      "one\n",
      "{'first': '1'}\n",
      "1\n"
     ]
    }
   ],
   "source": [
    "# put item into dictionary\n",
    "d = dict()\n",
    "print(d)\n",
    "d[\"first\"] = \"one\"\n",
    "print(d)\n",
    "print(d[\"first\"])\n",
    "d[\"first\"] = \"1\"\n",
    "print(d)\n",
    "print(d[\"first\"])"
   ]
  },
  {
   "cell_type": "code",
   "execution_count": 13,
   "metadata": {},
   "outputs": [
    {
     "name": "stdout",
     "output_type": "stream",
     "text": [
      "True\n",
      "False\n",
      "{'one': 1, 'two': 2, 'three': 3}\n"
     ]
    }
   ],
   "source": [
    "d = {\n",
    "    \"one\": 1,\n",
    "    \"two\": 2,\n",
    "}\n",
    "\n",
    "# check if a key is present in dict\n",
    "print(\"one\" in d)\n",
    "print(\"three\" in d)\n",
    "\n",
    "new_key = \"three\"\n",
    "new_value = 3\n",
    "if new_key not in d:\n",
    "    d[new_key] = new_value\n",
    "print(d)"
   ]
  },
  {
   "cell_type": "code",
   "execution_count": 16,
   "metadata": {},
   "outputs": [
    {
     "ename": "TypeError",
     "evalue": "unhashable type: 'slice'",
     "output_type": "error",
     "traceback": [
      "\u001b[0;31m---------------------------------------------------------------------------\u001b[0m",
      "\u001b[0;31mTypeError\u001b[0m                                 Traceback (most recent call last)",
      "Cell \u001b[0;32mIn[16], line 1\u001b[0m\n\u001b[0;32m----> 1\u001b[0m d[\u001b[39m1\u001b[39;49m:\u001b[39m2\u001b[39;49m]\n",
      "\u001b[0;31mTypeError\u001b[0m: unhashable type: 'slice'"
     ]
    }
   ],
   "source": [
    "# dictionary does not support slicing\n",
    "d[1:2]"
   ]
  },
  {
   "cell_type": "code",
   "execution_count": 18,
   "metadata": {},
   "outputs": [
    {
     "name": "stdout",
     "output_type": "stream",
     "text": [
      "one\n",
      "two\n"
     ]
    }
   ],
   "source": [
    "# for loop on `dict`\n",
    "d = {\n",
    "    \"one\": 1,\n",
    "    \"two\": 2,\n",
    "}\n",
    "# by default for-loop iterates through dict keys\n",
    "for key in d:\n",
    "    print(key)"
   ]
  },
  {
   "cell_type": "code",
   "execution_count": 19,
   "metadata": {},
   "outputs": [
    {
     "name": "stdout",
     "output_type": "stream",
     "text": [
      "one : 1\n",
      "two : 2\n"
     ]
    }
   ],
   "source": [
    "for key in d:\n",
    "    value = d[key]\n",
    "    print(key, \":\", value)"
   ]
  },
  {
   "cell_type": "code",
   "execution_count": 20,
   "metadata": {},
   "outputs": [
    {
     "name": "stdout",
     "output_type": "stream",
     "text": [
      "one : 1\n",
      "two : 2\n"
     ]
    }
   ],
   "source": [
    "for (key, value) in d.items():\n",
    "    print(key, \":\", value)"
   ]
  },
  {
   "cell_type": "code",
   "execution_count": 22,
   "metadata": {},
   "outputs": [
    {
     "name": "stdout",
     "output_type": "stream",
     "text": [
      "{'one': 2, 'first': 1, 'two': 2, 'three': 3}\n"
     ]
    }
   ],
   "source": [
    "d1 = {\n",
    "    \"one\": 1,\n",
    "    \"first\": 1,\n",
    "    \"one\": 2,\n",
    "    \"two\": 2,\n",
    "    \"three\": 3,\n",
    "}\n",
    "print(d1)"
   ]
  },
  {
   "cell_type": "code",
   "execution_count": 23,
   "metadata": {},
   "outputs": [
    {
     "name": "stdout",
     "output_type": "stream",
     "text": [
      "{'one': 1, 'first': 1, 'two': 2, 'three': 3}\n",
      "{'one': 1, 'two': 2, 'three': 3}\n"
     ]
    }
   ],
   "source": [
    "# remove item from dict by key\n",
    "d = {\n",
    "    \"one\": 1,\n",
    "    \"first\": 1,\n",
    "    \"two\": 2,\n",
    "    \"three\": 3,\n",
    "}\n",
    "print(d)\n",
    "d.pop(\"first\")\n",
    "print(d)\n"
   ]
  },
  {
   "cell_type": "code",
   "execution_count": 25,
   "metadata": {},
   "outputs": [
    {
     "name": "stdout",
     "output_type": "stream",
     "text": [
      "{'one': 1, 'first': 1, 'two': 2, 'three': 3}\n",
      "{'one': 1, 'first': 1, 'two': 2}\n",
      "{'one': 1, 'first': 1}\n"
     ]
    }
   ],
   "source": [
    "# remove item from dict\n",
    "d = {\n",
    "    \"one\": 1,\n",
    "    \"first\": 1,\n",
    "    \"two\": 2,\n",
    "    \"three\": 3,\n",
    "}\n",
    "print(d)\n",
    "d.popitem()\n",
    "print(d)\n",
    "d.popitem()\n",
    "print(d)"
   ]
  },
  {
   "attachments": {},
   "cell_type": "markdown",
   "metadata": {},
   "source": [
    "**Challenge**: Create a form-like representation of your personal information, using `dict`. Your info should include:\n",
    "* Full name\n",
    "* Age\n",
    "* School\n",
    "* Class"
   ]
  },
  {
   "attachments": {},
   "cell_type": "markdown",
   "metadata": {},
   "source": [
    "**Challenge**: Create a question bank for a quiz game using `dict`.\n",
    "\n",
    "* Question bank = list of questions\n",
    "* Question = question text, answers (list/tuple of string), correct answer, explanation (optional)"
   ]
  },
  {
   "cell_type": "code",
   "execution_count": null,
   "metadata": {},
   "outputs": [],
   "source": [
    "question_1 = {\n",
    "    \"text\": \"What do you call a fake noodle?\",\n",
    "    \"answers\": (\"A spoodle\", \"An impasta\", \"A fakaroni\", \"A shameti\"),\n",
    "    \"correct_answer\": 1,\n",
    "    \"explanation\": \"\"\"It's a pun on the word \"imposter\" and \"pasta\" which makes it a funny play on words.\"\"\"\n",
    "}\n",
    "question_2 = {\n",
    "    \"text\": \"What do you call a fake noodle?\",\n",
    "    \"answers\": (\"A spoodle\", \"An impasta\", \"A fakaroni\", \"A shameti\"),\n",
    "    \"correct_answer\": 1,\n",
    "}\n",
    "\n",
    "question_bank = [question_1, question_2]"
   ]
  },
  {
   "attachments": {},
   "cell_type": "markdown",
   "metadata": {},
   "source": [
    "**Homework**: Implement the interactions of a quiz game. Assume that:\n",
    "\n",
    "* You have 10 questions in the bank and you always show only questions within these. Each question only has 4 answers. When showing question, use prefix A, B, C, D for answers at positions 0, 1, 2, 3 respectively.\n",
    "\n",
    "* You only show 1 question at a time, then prompt the user to input their answer before going to the next one. Hint: use `for` loop over the questions in the question bank. After the last question, show the result. (you scored .../10).\n",
    "\n",
    "* If the user gets every question right, prompt him/her to input his/her name. Then, show the congratulations (Congratulations, <<name>>, you've got 10/10!).\n",
    "\n",
    "* Only accepts A, B, C, D as answer from user. You need to convert A, B, C, D back to 0-based indices (A -> 0, B -> 1, C -> 2, D -> 3). You can use if-else for this.\n",
    "  ```\n",
    "  if user_answer == \"A\":\n",
    "    answer = 0\n",
    "  elif user_answer == \"B\":\n",
    "    answer = 1\n",
    "  ...\n",
    "  if answer == correct_answer:\n",
    "    ...\n",
    "  ```"
   ]
  },
  {
   "cell_type": "markdown",
   "metadata": {},
   "source": []
  }
 ],
 "metadata": {
  "kernelspec": {
   "display_name": "Python 3",
   "language": "python",
   "name": "python3"
  },
  "language_info": {
   "codemirror_mode": {
    "name": "ipython",
    "version": 3
   },
   "file_extension": ".py",
   "mimetype": "text/x-python",
   "name": "python",
   "nbconvert_exporter": "python",
   "pygments_lexer": "ipython3",
   "version": "3.9.7"
  },
  "orig_nbformat": 4
 },
 "nbformat": 4,
 "nbformat_minor": 2
}
