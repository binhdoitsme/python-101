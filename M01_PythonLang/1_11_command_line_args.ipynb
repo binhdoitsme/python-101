{
 "cells": [
  {
   "attachments": {},
   "cell_type": "markdown",
   "metadata": {},
   "source": [
    "# Using Command-line arguments in Python script\n",
    "\n",
    "* Parameter = variable name + data type, defined at definition of function\n",
    "* Argument = actual value, passed when calling the function"
   ]
  },
  {
   "attachments": {},
   "cell_type": "markdown",
   "metadata": {},
   "source": [
    "## Command-line argument\n",
    "\n",
    "`head -n 10 M01_PythonLang/1_10_files.ipynb`\n",
    "\n",
    "* `head`: executable\n",
    "* `-n`, `10`, `M01_PythonLang/1_10_files.ipynb`: command-line arguments, all are strings\n",
    "\n",
    "This is similar to: \n",
    "```\n",
    "args = [\"-n\", \"10\", \"M01_PythonLang/1_10_files.ipynb\"]\n",
    "head(args)\n",
    "```"
   ]
  },
  {
   "cell_type": "code",
   "execution_count": 2,
   "metadata": {},
   "outputs": [
    {
     "name": "stdout",
     "output_type": "stream",
     "text": [
      "/Users/binh_dh/.pyenv/versions/3.9.7/bin/python\n"
     ]
    },
    {
     "data": {
      "text/plain": [
       "(<ipykernel.iostream.OutStream at 0x11243fa60>,\n",
       " <_io.TextIOWrapper name='<stdin>' mode='r' encoding='utf-8'>,\n",
       " <ipykernel.iostream.OutStream at 0x11243fa00>)"
      ]
     },
     "execution_count": 2,
     "metadata": {},
     "output_type": "execute_result"
    }
   ],
   "source": [
    "# module `sys`\n",
    "import sys\n",
    "\n",
    "print(sys.executable) # show which Python is currently in use\n",
    "# sys.exit() # exit script manually, exit code = 0 -> normal exit\n",
    "sys.stdout, sys.stdin, sys.stderr\n",
    "cli_args = sys.argv # CLI arguments"
   ]
  },
  {
   "cell_type": "code",
   "execution_count": 3,
   "metadata": {},
   "outputs": [
    {
     "name": "stdout",
     "output_type": "stream",
     "text": [
      "Hello"
     ]
    },
    {
     "data": {
      "text/plain": [
       "5"
      ]
     },
     "execution_count": 3,
     "metadata": {},
     "output_type": "execute_result"
    }
   ],
   "source": [
    "# using stdout\n",
    "sys.stdout.write(\"Hello\")"
   ]
  },
  {
   "cell_type": "code",
   "execution_count": null,
   "metadata": {},
   "outputs": [],
   "source": [
    "input_str = sys.stdin.readline()\n",
    "sys.stdout.write(f\"input string is: {input_str}\")"
   ]
  },
  {
   "attachments": {},
   "cell_type": "markdown",
   "metadata": {},
   "source": [
    "Homework:\n",
    "\n",
    "1. Write a CLI program to check whether a year is a leap year. Usage: `python is_leap_year.py 2020`\n",
    "2. Write a CLI program to solve the equation $ax^2 + bx + c = 0$. Usage: `python quadratic.py -a 1 -b 2 -c 3`\n",
    "3. Write a CLI program to convert temperature. Usage: `python convert_temp.py --from celcius --to fahrenheit 24`"
   ]
  },
  {
   "cell_type": "code",
   "execution_count": null,
   "metadata": {},
   "outputs": [],
   "source": []
  }
 ],
 "metadata": {
  "kernelspec": {
   "display_name": "Python 3",
   "language": "python",
   "name": "python3"
  },
  "language_info": {
   "codemirror_mode": {
    "name": "ipython",
    "version": 3
   },
   "file_extension": ".py",
   "mimetype": "text/x-python",
   "name": "python",
   "nbconvert_exporter": "python",
   "pygments_lexer": "ipython3",
   "version": "3.9.7"
  },
  "orig_nbformat": 4
 },
 "nbformat": 4,
 "nbformat_minor": 2
}
