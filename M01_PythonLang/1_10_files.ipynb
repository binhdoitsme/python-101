{
 "cells": [
  {
   "attachments": {},
   "cell_type": "markdown",
   "metadata": {},
   "source": [
    "# Files\n",
    "\n"
   ]
  },
  {
   "attachments": {},
   "cell_type": "markdown",
   "metadata": {},
   "source": [
    "## File path\n",
    "\n",
    "Refers to an arbitrary file in the file system (fs).\n",
    "\n",
    "E.g.: `/Users/binh_dh/vscode/python_101/M01_PythonLang/1_10_files.ipynb`, `M01_PythonLang/1_10_files.ipynb`, `C:/Users/binh_dh/Documents/vscode/python_101/M01_PythonLang/1_10_files.ipynb`"
   ]
  },
  {
   "attachments": {},
   "cell_type": "markdown",
   "metadata": {},
   "source": [
    "## Relative vs Absolute Path\n",
    "\n",
    "* Relative path: a path that is `relative` to the `current working directory` (`cwd`) (`cd` in Windows, `pwd` in `*nix`) => full path = `cwd` + `/` + `path` = `./` + `path`\n",
    "* Absolute path: a path that starts with the partition (Windows) or the root path (Linux, Mac)"
   ]
  },
  {
   "attachments": {},
   "cell_type": "markdown",
   "metadata": {},
   "source": [
    "## Open a file\n",
    "\n",
    "Open modes: https://docs.python.org/3/library/functions.html#open"
   ]
  },
  {
   "cell_type": "code",
   "execution_count": 3,
   "metadata": {},
   "outputs": [],
   "source": [
    "x = open(\"1_9_module_packages/myfile.py\")"
   ]
  },
  {
   "attachments": {},
   "cell_type": "markdown",
   "metadata": {},
   "source": [
    "## Read a file"
   ]
  },
  {
   "cell_type": "code",
   "execution_count": 1,
   "metadata": {},
   "outputs": [
    {
     "name": "stdout",
     "output_type": "stream",
     "text": [
      "['# import ...\\n', '# from ... import ...\\n', '\\n', 'import weather_forecast # import only module\\n']\n",
      "# import ...\n",
      "# from ... import ...\n",
      "\n",
      "import weather_forecast # import only module\n",
      "\n",
      "# import ...\n",
      "# from ... import ...\n",
      "\n",
      "import weather_forecast # import only module\n",
      "\n",
      "False\n",
      "True\n"
     ]
    }
   ],
   "source": [
    "file = open(\"1_9_module_packages/myfile.py\")\n",
    "lines = file.readlines()\n",
    "# for line in lines:\n",
    "    # print(line, end=\"\")\n",
    "l1, l2, l3, l4 = lines[:4] # list unpacking\n",
    "print([l1, l2, l3, l4]) # same as print(lines[:4])\n",
    "print(l1, l2, l3, l4, sep=\"\")\n",
    "print(*lines[:4], sep=\"\") # list unpacking\n",
    "\n",
    "print(file.closed)\n",
    "\n",
    "# close file when finish\n",
    "file.close()\n",
    "print(file.closed)"
   ]
  },
  {
   "cell_type": "code",
   "execution_count": 3,
   "metadata": {},
   "outputs": [
    {
     "name": "stdout",
     "output_type": "stream",
     "text": [
      "# import ...\n",
      "# from ... import ...\n",
      "\n",
      "import weather_forecast # import only module\n",
      "from weather_forecast import get_weather_forecast, locations # import name from module\n",
      "# every functions, variables defined in global scope can be imported via from...import\n",
      "\n",
      "forecast = weather_forecast.get_weather_forecast(\"Hanoi\")\n",
      "print(forecast)\n",
      "\n",
      "forecast = get_weather_forecast(\"Hanoi\")\n",
      "print(forecast)\n",
      "\n",
      "# import whole folder -> need __init__.py & fill in __init__.py\n",
      "import services\n",
      "# services.do_obscure_thing\n",
      "\n",
      "# only import from a file within a folder -> need __init__.py\n",
      "from services import obscure_service\n",
      "obscure_service.do_obscure_thing()\n",
      "\n",
      "# only import subset of a file within a folder -> NO NEED for __init__.py\n",
      "from services.obscure_service import do_obscure_thing\n",
      "do_obscure_thing()\n",
      "\n",
      "False\n",
      "True\n"
     ]
    }
   ],
   "source": [
    "with open(\"1_9_module_packages/myfile.py\") as file:\n",
    "    lines = file.readlines()\n",
    "    print(*lines, sep=\"\")\n",
    "    print(file.closed)\n",
    "print(file.closed)"
   ]
  },
  {
   "attachments": {},
   "cell_type": "markdown",
   "metadata": {},
   "source": [
    "## Write to a file"
   ]
  },
  {
   "cell_type": "code",
   "execution_count": 13,
   "metadata": {},
   "outputs": [],
   "source": [
    "with open(\"newfile.py\", \"at\") as file:\n",
    "    file.write(\"test content\")\n",
    "    # a line has to end with `\\n`\n",
    "    file.writelines([\n",
    "        \"test content 1\\n\",\n",
    "        \"test content 2\\n\",\n",
    "        \"test content 3\\n\",\n",
    "        \"test content 4\\n\",\n",
    "    ])\n"
   ]
  },
  {
   "attachments": {},
   "cell_type": "markdown",
   "metadata": {},
   "source": [
    "Your task: Write a function named `peek` that gets as input:\n",
    "* A file path `file`\n",
    "* A number `n` denoting how many lines you want to show from the beginning of `file`\n",
    "\n",
    "and print these lines to stdout."
   ]
  },
  {
   "cell_type": "code",
   "execution_count": null,
   "metadata": {},
   "outputs": [],
   "source": []
  },
  {
   "cell_type": "code",
   "execution_count": null,
   "metadata": {},
   "outputs": [],
   "source": []
  }
 ],
 "metadata": {
  "kernelspec": {
   "display_name": "Python 3",
   "language": "python",
   "name": "python3"
  },
  "language_info": {
   "codemirror_mode": {
    "name": "ipython",
    "version": 3
   },
   "file_extension": ".py",
   "mimetype": "text/x-python",
   "name": "python",
   "nbconvert_exporter": "python",
   "pygments_lexer": "ipython3",
   "version": "3.9.7"
  },
  "orig_nbformat": 4
 },
 "nbformat": 4,
 "nbformat_minor": 2
}
