{
 "cells": [
  {
   "attachments": {},
   "cell_type": "markdown",
   "metadata": {},
   "source": [
    "## Topic 1.2. Operators\n",
    "We have known about **binary operators** which are in the form of `a `__`op`__` b`.\n",
    "\n",
    "In this topic we will discuss other operators: casting, shorthand assignment and unary operators."
   ]
  },
  {
   "attachments": {},
   "cell_type": "markdown",
   "metadata": {},
   "source": [
    "### 1. Type casting\n",
    "__Type casting__ means to convert a from type X to type Y.\n",
    "\n",
    "This requirement comes naturally. As almost information bit in Python is transferred in `strings`, there is always the need to convert strings to numbers (float, int, etc.). Let's take a look at a common scenario, where we need to obtain numbers from standard input:"
   ]
  },
  {
   "cell_type": "code",
   "execution_count": 6,
   "metadata": {},
   "outputs": [
    {
     "ename": "TypeError",
     "evalue": "can't multiply sequence by non-int of type 'str'",
     "output_type": "error",
     "traceback": [
      "\u001b[0;31m---------------------------------------------------------------------------\u001b[0m",
      "\u001b[0;31mTypeError\u001b[0m                                 Traceback (most recent call last)",
      "Cell \u001b[0;32mIn[6], line 3\u001b[0m\n\u001b[1;32m      1\u001b[0m a \u001b[39m=\u001b[39m \u001b[39minput\u001b[39m(\u001b[39m\"\u001b[39m\u001b[39mEnter a: \u001b[39m\u001b[39m\"\u001b[39m)\n\u001b[1;32m      2\u001b[0m b \u001b[39m=\u001b[39m \u001b[39minput\u001b[39m(\u001b[39m\"\u001b[39m\u001b[39mEnter b: \u001b[39m\u001b[39m\"\u001b[39m)\n\u001b[0;32m----> 3\u001b[0m p \u001b[39m=\u001b[39m a \u001b[39m*\u001b[39;49m b\n\u001b[1;32m      4\u001b[0m \u001b[39mprint\u001b[39m(\u001b[39m\"\u001b[39m\u001b[39mproduct of a and b is\u001b[39m\u001b[39m\"\u001b[39m, p)\n",
      "\u001b[0;31mTypeError\u001b[0m: can't multiply sequence by non-int of type 'str'"
     ]
    }
   ],
   "source": [
    "a = input(\"Enter a: \")\n",
    "b = input(\"Enter b: \")\n",
    "p = a * b\n",
    "print(\"product of a and b is\", p)"
   ]
  },
  {
   "attachments": {},
   "cell_type": "markdown",
   "metadata": {},
   "source": [
    "Looks like some work has to be done. Before going further, let's find the way we can know the type of any variable. Python provides an easy way of doing this: __`type`__`(x)`."
   ]
  },
  {
   "cell_type": "code",
   "execution_count": 5,
   "metadata": {},
   "outputs": [
    {
     "name": "stdout",
     "output_type": "stream",
     "text": [
      "<class 'float'>\n",
      "<class 'str'>\n"
     ]
    }
   ],
   "source": [
    "# getting type of a variable\n",
    "a = 92 + 24.0\n",
    "a_type = type(a)\n",
    "print(a_type)\n",
    "\n",
    "a = input(\"enter a number\")\n",
    "a_type = type(a)\n",
    "print(a_type)"
   ]
  },
  {
   "attachments": {},
   "cell_type": "markdown",
   "metadata": {},
   "source": [
    "Output of `input()` is always a string -- how to get numeric input?\n",
    "\n",
    "=> We need to `cast` our input into numeric types. Introducing __type casting__ -- normally you have a type cast in the form __`typename`__`(x)`. "
   ]
  },
  {
   "cell_type": "code",
   "execution_count": 8,
   "metadata": {},
   "outputs": [
    {
     "ename": "ValueError",
     "evalue": "invalid literal for int() with base 10: '4.0'",
     "output_type": "error",
     "traceback": [
      "\u001b[0;31m---------------------------------------------------------------------------\u001b[0m",
      "\u001b[0;31mValueError\u001b[0m                                Traceback (most recent call last)",
      "Cell \u001b[0;32mIn[8], line 3\u001b[0m\n\u001b[1;32m      1\u001b[0m \u001b[39m# cast to int\u001b[39;00m\n\u001b[1;32m      2\u001b[0m a \u001b[39m=\u001b[39m \u001b[39minput\u001b[39m(\u001b[39m\"\u001b[39m\u001b[39mEnter a number\u001b[39m\u001b[39m\"\u001b[39m)\n\u001b[0;32m----> 3\u001b[0m a_int \u001b[39m=\u001b[39m \u001b[39mint\u001b[39;49m(a)\n\u001b[1;32m      4\u001b[0m \u001b[39mprint\u001b[39m(a_int, \u001b[39mtype\u001b[39m(a_int))\n\u001b[1;32m      6\u001b[0m a_float \u001b[39m=\u001b[39m \u001b[39mfloat\u001b[39m(a)\n",
      "\u001b[0;31mValueError\u001b[0m: invalid literal for int() with base 10: '4.0'"
     ]
    }
   ],
   "source": [
    "# cast to int\n",
    "a = input(\"Enter a number\")\n",
    "a_int = int(a)\n",
    "print(a_int, type(a_int))\n",
    "\n",
    "a_float = float(a)\n",
    "print(a_float, type(a_float))"
   ]
  },
  {
   "cell_type": "code",
   "execution_count": 11,
   "metadata": {},
   "outputs": [
    {
     "name": "stdout",
     "output_type": "stream",
     "text": [
      "4\n"
     ]
    }
   ],
   "source": [
    "# this also works\n",
    "a_int = int(input(\"Enter a number\"))\n",
    "print(a_int)"
   ]
  },
  {
   "attachments": {},
   "cell_type": "markdown",
   "metadata": {},
   "source": [
    "### 2. Shorthand assignment operators\n",
    "\n",
    "A shorthand assignment operator is an operator ending with `=` (excluding all comparison operators). This is a shortened way of manipulating a variable. It especially comes in handy when we have a long variable name and an operator, for instance: `super_lengthy_variable_name = super_lengthy_variable_name + \"another string\"`.\n",
    "\n",
    "Python supports shorthand assignment for addition (`+`), subtraction (`-`), multiplication (`*`), division (`/`), floor division (`//`), modulo (`%`), power (`**`)."
   ]
  },
  {
   "cell_type": "code",
   "execution_count": 17,
   "metadata": {},
   "outputs": [
    {
     "name": "stdout",
     "output_type": "stream",
     "text": [
      "2\n",
      "1\n",
      "24\n",
      "8\n"
     ]
    }
   ],
   "source": [
    "# shorthand add\n",
    "x = 0\n",
    "x += 2 # x = x + 2\n",
    "print(x)\n",
    "\n",
    "# shorthand subtract\n",
    "x -= 1 # x = x - 1\n",
    "print(x)\n",
    "\n",
    "# shorthand multiply\n",
    "x *= 24 # x = x * 24\n",
    "print(x)\n",
    "\n",
    "# shorthand divide\n",
    "x //= 3 # x = x // 3\n",
    "print(x)"
   ]
  },
  {
   "cell_type": "code",
   "execution_count": 18,
   "metadata": {},
   "outputs": [
    {
     "name": "stdout",
     "output_type": "stream",
     "text": [
      "this is the first sentence. this is the second.\n"
     ]
    }
   ],
   "source": [
    "# shorthand concatenation\n",
    "s = \"\"\n",
    "s += \"this is the first sentence. \" # s = s + \"...\"\n",
    "s += \"this is the second.\"\n",
    "print(s)"
   ]
  },
  {
   "attachments": {},
   "cell_type": "markdown",
   "metadata": {},
   "source": [
    "### 3. Unary operator\n",
    "\n",
    "Unary operators that does not include left hand side.\n",
    "\n",
    "In Python, some unary operators include: `+`, `-` for numeric types, and `not` for `bool`. There are also other bitwise unary operators that work on binary representations of numbers, which you can look up [here](https://realpython.com/python-bitwise-operators/)."
   ]
  },
  {
   "cell_type": "code",
   "execution_count": 20,
   "metadata": {},
   "outputs": [
    {
     "name": "stdout",
     "output_type": "stream",
     "text": [
      "-1\n",
      "1\n"
     ]
    }
   ],
   "source": [
    "# unary add\n",
    "x = -1\n",
    "print((+x))\n",
    "\n",
    "# unary subtract\n",
    "x = -1\n",
    "print((-x))\n",
    "\n",
    "# not\n",
    "x = True\n",
    "y = not x\n",
    "print(y)"
   ]
  }
 ],
 "metadata": {
  "kernelspec": {
   "display_name": "Python 3",
   "language": "python",
   "name": "python3"
  },
  "language_info": {
   "codemirror_mode": {
    "name": "ipython",
    "version": 3
   },
   "file_extension": ".py",
   "mimetype": "text/x-python",
   "name": "python",
   "nbconvert_exporter": "python",
   "pygments_lexer": "ipython3",
   "version": "3.9.7"
  },
  "orig_nbformat": 4
 },
 "nbformat": 4,
 "nbformat_minor": 2
}
