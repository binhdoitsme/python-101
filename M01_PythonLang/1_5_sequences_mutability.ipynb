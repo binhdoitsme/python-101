{
 "cells": [
  {
   "attachments": {},
   "cell_type": "markdown",
   "metadata": {},
   "source": [
    "## Topic 1.5: Sequence types\n",
    "\n",
    "Previously, we have learned about using single-value variables. That did help us resolve some problems, but we would be asking ourselves whether everything **can** be singular.\n",
    "\n",
    "For instance, in a **shopping cart**, you mostly never have less than two items. Or when you have to keep track of what to do within your day, you would do a to-do **list**. When you need to record phone numbers of your phone, you would have to associate a number with a name. These are all examples of `collections` in real life.\n",
    "\n",
    "So we can think of a `collection` as a container of multiple things. A collection can be ordered, such as a to-do list, or unordered such as a toy box. A collection may also consist of mappings, such as from mobile phones to name and address in the case of an address book.\n",
    "\n",
    "For this topic, we will first explore the term `mutability`, then we will look into one specific type of collection that is ***sequence*** type."
   ]
  },
  {
   "attachments": {},
   "cell_type": "markdown",
   "metadata": {},
   "source": [
    "### 1. Mutability\n",
    "Naturally, a collection such as a to-do list or a phone book is expected to be changeable -- keep the same container but update the contents inside the container. Some other collections such as the list of 12-grade classes of High School ABC in the school year 22-23 on the other hand cannot be changed once locked. This led us to the term **mutability** - whether items inside a container are editable. We will look into the way Python presents the term."
   ]
  },
  {
   "attachments": {},
   "cell_type": "markdown",
   "metadata": {},
   "source": [
    "#### 1.1. Reference in Programming\n",
    "\n",
    "Variables in Python can be simply thought of as containers of values. Each variable, when initialized in a programming language, will be ***allocated*** somewhere in the computer memory. We call that storage position the **memory address** of the variable. In Python, the `id()` function reveals that memory address. Let's see in the following example:"
   ]
  },
  {
   "cell_type": "code",
   "execution_count": 1,
   "metadata": {},
   "outputs": [
    {
     "data": {
      "text/plain": [
       "(4345850160, 4345850192)"
      ]
     },
     "execution_count": 1,
     "metadata": {},
     "output_type": "execute_result"
    }
   ],
   "source": [
    "x = 1\n",
    "y = 2\n",
    "\n",
    "id(x), id(y)"
   ]
  },
  {
   "attachments": {},
   "cell_type": "markdown",
   "metadata": {},
   "source": [
    "Large numbers, aren't they? Because nowadays, our computer memory is generous enough that we can have up to $2^64$ addresses (bytes) for 64-bit systems, which translates into roughly **16TB** of maximum memory that the 64-bit architecture can handle. In contrast, 32-bit architecture only supports up to $2^32$ addresses (bytes), means they only support roughly **4GB** of maximum memory. That explains why the move to larger than 4GB of RAM forces us to employ 64-bit operating systems to fully utilise the memory space.\n",
    "\n",
    "You may ask, ***why do programmers need to understand referencing?*** Suppose you have a really large system, with millions of millions of instructions and values, ***how do we fit all of them into the limited memory of our computers?*** The short and easy answer is to share memory addresses between variables. It does not make much sense to store an identical number in 2 distinct memory addresses, right? It is the same value after all, so we do not wish to create a new container for the value every time we call it. That is when we need to think about referencing -- to make sure the same value container is used whenever a particular value is called. The following examples might be interesting:"
   ]
  },
  {
   "cell_type": "code",
   "execution_count": 5,
   "metadata": {},
   "outputs": [
    {
     "data": {
      "text/plain": [
       "(4345850160, 4345850160)"
      ]
     },
     "execution_count": 5,
     "metadata": {},
     "output_type": "execute_result"
    }
   ],
   "source": [
    "x = 1\n",
    "y = 1\n",
    "id(x), id(y)"
   ]
  },
  {
   "cell_type": "code",
   "execution_count": 8,
   "metadata": {},
   "outputs": [
    {
     "data": {
      "text/plain": [
       "(4392160624, 4392159344)"
      ]
     },
     "execution_count": 8,
     "metadata": {},
     "output_type": "execute_result"
    }
   ],
   "source": [
    "x = \"my str\"\n",
    "y = \"my str\"\n",
    "id(x), id(y)"
   ]
  },
  {
   "cell_type": "code",
   "execution_count": 10,
   "metadata": {},
   "outputs": [
    {
     "data": {
      "text/plain": [
       "(4345850192, 4345850192)"
      ]
     },
     "execution_count": 10,
     "metadata": {},
     "output_type": "execute_result"
    }
   ],
   "source": [
    "x = 2\n",
    "y = 4 - 2\n",
    "id(x), id(y)"
   ]
  },
  {
   "cell_type": "code",
   "execution_count": 1,
   "metadata": {},
   "outputs": [
    {
     "name": "stdout",
     "output_type": "stream",
     "text": [
      "id of s: 4445795248\n",
      "id of t: 4490206768\n"
     ]
    }
   ],
   "source": [
    "# string is Immutable!\n",
    "s = \"string\"\n",
    "print(\"id of s:\", id(s))\n",
    "t = s + \"isfun\"\n",
    "print(\"id of t:\", id(t))"
   ]
  },
  {
   "attachments": {},
   "cell_type": "markdown",
   "metadata": {},
   "source": [
    "#### 1.2. Referential comparison\n",
    "\n",
    "Okay, so we can see that references are something a bit puzzling, right? In short, you only need to know that every value you use is stored within some kind of container, and that container has a unique ID. However, in Python, there is something more than that -- some values are always contained within the same container, some are not. To compare the reference of two variables, the easiest way might be:\n",
    "```\n",
    "id(x) == id(y)\n",
    "```\n",
    "However, Python knows this requirement and provides us with a convenient operator, `is`:\n",
    "```\n",
    "x is y\n",
    "```\n",
    "The use of referential comparison helps us see whether two variables are holding the same value container. We will get to see it shortly. Below is some examples to help you understand the concept better:"
   ]
  },
  {
   "cell_type": "code",
   "execution_count": 11,
   "metadata": {},
   "outputs": [
    {
     "data": {
      "text/plain": [
       "True"
      ]
     },
     "execution_count": 11,
     "metadata": {},
     "output_type": "execute_result"
    }
   ],
   "source": [
    "# two variables share the same value container\n",
    "a1 = \"a string\"\n",
    "a2 = a1\n",
    "a2 is a1"
   ]
  },
  {
   "attachments": {},
   "cell_type": "markdown",
   "metadata": {},
   "source": [
    "The following example shows that a variable is not a value container. The right-hand-side value is stored in a generic container and is linked to our variable name by referencing:"
   ]
  },
  {
   "cell_type": "code",
   "execution_count": 12,
   "metadata": {},
   "outputs": [
    {
     "data": {
      "text/plain": [
       "False"
      ]
     },
     "execution_count": 12,
     "metadata": {},
     "output_type": "execute_result"
    }
   ],
   "source": [
    "# two variables don't share the same value container\n",
    "a1 = \"a string\"\n",
    "a2 = a1\n",
    "a1 = \"b string\"\n",
    "a2 is a1"
   ]
  },
  {
   "attachments": {},
   "cell_type": "markdown",
   "metadata": {},
   "source": [
    "Are strings mutable? Let's see:"
   ]
  },
  {
   "cell_type": "code",
   "execution_count": 13,
   "metadata": {},
   "outputs": [
    {
     "data": {
      "text/plain": [
       "False"
      ]
     },
     "execution_count": 13,
     "metadata": {},
     "output_type": "execute_result"
    }
   ],
   "source": [
    "s1 = \"a string\"\n",
    "s1 is (s1 + \" with b string\") # => Strings are not mutable, unfortunately"
   ]
  },
  {
   "cell_type": "code",
   "execution_count": 2,
   "metadata": {},
   "outputs": [
    {
     "name": "stdout",
     "output_type": "stream",
     "text": [
      "a is b? True\n",
      "a == b? True\n"
     ]
    }
   ],
   "source": [
    "a = 1\n",
    "b = 1\n",
    "print(\"a is b?\", a is b)\n",
    "print(\"a == b?\", a == b)"
   ]
  },
  {
   "attachments": {},
   "cell_type": "markdown",
   "metadata": {},
   "source": [
    "#### 1.3. Mutable & Immutable data type\n",
    "\n",
    "Simply put, an **immutable** data type creates a new container for every new value you create(except for numbers -- they are by default ***immutable***). Whereas, a **mutable** data type allows you to retain the same container and only replace the contents within it. All data types so far we have learned are immutable types, because any time we create a variable with a new value, a new memory address is assigned. In this notebook, we will look into some **mutable** data types."
   ]
  },
  {
   "attachments": {},
   "cell_type": "markdown",
   "metadata": {},
   "source": [
    "### 2. Sequence types\n",
    "\n",
    "A sequence type is a collection type whose order is important. For instance, if you have a leaderboard of English scores in your class, you cannot just swap the data of the 1st row and the 20th row -- it destroys the whole meaning of having a leaderboard, right? So you can think of a leaderboard as a sequence type, simply because it is **sequential**. \n",
    "\n",
    "Python provides 3 most basic sequence types: `range`, `list`, `tuple`."
   ]
  },
  {
   "attachments": {},
   "cell_type": "markdown",
   "metadata": {},
   "source": [
    "#### 2.1. `range`\n",
    "\n",
    "A range is a sequence of numbers that belongs to a numeric range. By default, Python ranges start from 0, so if we need a range of numbers from 0 to n, it only takes:"
   ]
  },
  {
   "cell_type": "code",
   "execution_count": 9,
   "metadata": {},
   "outputs": [
    {
     "data": {
      "text/plain": [
       "range(0, 5)"
      ]
     },
     "execution_count": 9,
     "metadata": {},
     "output_type": "execute_result"
    }
   ],
   "source": [
    "n = 5\n",
    "range(n) # in Math: [0, n)"
   ]
  },
  {
   "attachments": {},
   "cell_type": "markdown",
   "metadata": {},
   "source": [
    "If we want to print all elements of a range, you can call `list()` on it."
   ]
  },
  {
   "cell_type": "code",
   "execution_count": 10,
   "metadata": {},
   "outputs": [
    {
     "data": {
      "text/plain": [
       "[0, 1, 2, 3, 4]"
      ]
     },
     "execution_count": 10,
     "metadata": {},
     "output_type": "execute_result"
    }
   ],
   "source": [
    "n = 5\n",
    "list(range(n))"
   ]
  },
  {
   "attachments": {},
   "cell_type": "markdown",
   "metadata": {},
   "source": [
    "Looks like the `n` parameter is ***exclusive***, so always keep that in mind when constructing `range`. Using Python `range`, you can create a custom numeric range with a different starting point and the step:"
   ]
  },
  {
   "cell_type": "code",
   "execution_count": 3,
   "metadata": {},
   "outputs": [
    {
     "data": {
      "text/plain": [
       "[10, 20, 30, 40, 50, 60, 70, 80, 90, 100]"
      ]
     },
     "execution_count": 3,
     "metadata": {},
     "output_type": "execute_result"
    }
   ],
   "source": [
    "start = 10\n",
    "end = 101\n",
    "step = 10\n",
    "list(range(start, end, step))"
   ]
  },
  {
   "attachments": {},
   "cell_type": "markdown",
   "metadata": {},
   "source": [
    "`range` in Python only supports evenly spaced sequences. It does not support automatically generation of such sequences as the Fibonacci. `range` in Python is often used to iterate over the indices of a sequence. More information will come in a later notebook."
   ]
  },
  {
   "attachments": {},
   "cell_type": "markdown",
   "metadata": {},
   "source": [
    "It is possible to create a decreasing range:"
   ]
  },
  {
   "cell_type": "code",
   "execution_count": 5,
   "metadata": {},
   "outputs": [
    {
     "data": {
      "text/plain": [
       "[100, 90, 80, 70, 60, 50, 40, 30, 20, 10]"
      ]
     },
     "execution_count": 5,
     "metadata": {},
     "output_type": "execute_result"
    }
   ],
   "source": [
    "start = 100\n",
    "end = 9\n",
    "step = -10\n",
    "list(range(start, end, step))"
   ]
  },
  {
   "attachments": {},
   "cell_type": "markdown",
   "metadata": {},
   "source": [
    "It is not possible to create range of floats, unfortunately."
   ]
  },
  {
   "cell_type": "code",
   "execution_count": 6,
   "metadata": {},
   "outputs": [
    {
     "ename": "TypeError",
     "evalue": "'float' object cannot be interpreted as an integer",
     "output_type": "error",
     "traceback": [
      "\u001b[0;31m---------------------------------------------------------------------------\u001b[0m",
      "\u001b[0;31mTypeError\u001b[0m                                 Traceback (most recent call last)",
      "Cell \u001b[0;32mIn[6], line 4\u001b[0m\n\u001b[1;32m      2\u001b[0m end \u001b[39m=\u001b[39m \u001b[39m1.01\u001b[39m\n\u001b[1;32m      3\u001b[0m step \u001b[39m=\u001b[39m \u001b[39m0.1\u001b[39m\n\u001b[0;32m----> 4\u001b[0m \u001b[39mlist\u001b[39m(\u001b[39mrange\u001b[39;49m(start, end, step))\n",
      "\u001b[0;31mTypeError\u001b[0m: 'float' object cannot be interpreted as an integer"
     ]
    }
   ],
   "source": [
    "start = 0\n",
    "end = 1.01\n",
    "step = 0.1\n",
    "list(range(start, end, step))"
   ]
  },
  {
   "attachments": {},
   "cell_type": "markdown",
   "metadata": {},
   "source": [
    "#### 2.2. `list`\n",
    "\n",
    "A `list` is a sequence of items. By default, you can fit any kind of items in the same list, and the number of items in a list is not restricted."
   ]
  },
  {
   "attachments": {},
   "cell_type": "markdown",
   "metadata": {},
   "source": [
    "To initialize a list, you put values separated by comma within a pair of square brackets:"
   ]
  },
  {
   "cell_type": "code",
   "execution_count": 13,
   "metadata": {},
   "outputs": [
    {
     "data": {
      "text/plain": [
       "[1, 2, 3, 5, 8, 13]"
      ]
     },
     "execution_count": 13,
     "metadata": {},
     "output_type": "execute_result"
    }
   ],
   "source": [
    "l = [1, 2, 3, 5, 8, 13]\n",
    "l"
   ]
  },
  {
   "cell_type": "code",
   "execution_count": 7,
   "metadata": {},
   "outputs": [
    {
     "data": {
      "text/plain": [
       "[1, 1.4, 2.0, 2.8, 4]"
      ]
     },
     "execution_count": 7,
     "metadata": {},
     "output_type": "execute_result"
    }
   ],
   "source": [
    "l = [1, 1.4, 2.0, 2.8, 4]\n",
    "l"
   ]
  },
  {
   "cell_type": "code",
   "execution_count": 8,
   "metadata": {},
   "outputs": [
    {
     "data": {
      "text/plain": [
       "[1, '2', '3', 4.0, '5.0']"
      ]
     },
     "execution_count": 8,
     "metadata": {},
     "output_type": "execute_result"
    }
   ],
   "source": [
    "l = [1, \"2\", \"3\", 4.0, \"5.0\"]\n",
    "l"
   ]
  },
  {
   "attachments": {},
   "cell_type": "markdown",
   "metadata": {},
   "source": [
    "It is advisable to put only items of same type in the same list. Otherwise, it would cause a lot of confusion when you want to calculate, for instance, the `sum` of the list."
   ]
  },
  {
   "attachments": {},
   "cell_type": "markdown",
   "metadata": {},
   "source": [
    "Omitting the values and you have an empty list:"
   ]
  },
  {
   "cell_type": "code",
   "execution_count": 25,
   "metadata": {},
   "outputs": [
    {
     "data": {
      "text/plain": [
       "[]"
      ]
     },
     "execution_count": 25,
     "metadata": {},
     "output_type": "execute_result"
    }
   ],
   "source": [
    "l = []\n",
    "l"
   ]
  },
  {
   "attachments": {},
   "cell_type": "markdown",
   "metadata": {},
   "source": [
    "You can also use the `list()` syntax to initialize an empty list:"
   ]
  },
  {
   "cell_type": "code",
   "execution_count": 27,
   "metadata": {},
   "outputs": [
    {
     "data": {
      "text/plain": [
       "[]"
      ]
     },
     "execution_count": 27,
     "metadata": {},
     "output_type": "execute_result"
    }
   ],
   "source": [
    "l1 = list() # empty list\n",
    "l1"
   ]
  },
  {
   "attachments": {},
   "cell_type": "markdown",
   "metadata": {},
   "source": [
    "It is recommended to name `list`s (and also `range`, `tuple`) using plural nouns. For instance:\n",
    "* `students = []`\n",
    "* `food_recipes = []`"
   ]
  },
  {
   "attachments": {},
   "cell_type": "markdown",
   "metadata": {},
   "source": [
    "To get the number of items in a `list` (and also in a `range` or a `tuple`), we use the funciton `len()`:"
   ]
  },
  {
   "cell_type": "code",
   "execution_count": 9,
   "metadata": {},
   "outputs": [
    {
     "data": {
      "text/plain": [
       "7"
      ]
     },
     "execution_count": 9,
     "metadata": {},
     "output_type": "execute_result"
    }
   ],
   "source": [
    "l = [1, 2, 3, 5, 8, 13, 21]\n",
    "len(l)"
   ]
  },
  {
   "attachments": {},
   "cell_type": "markdown",
   "metadata": {},
   "source": [
    "We can add items at the end of a `list` without having the Python runtime allocate new memory address using the method `append()`. Let's look at how we do that:"
   ]
  },
  {
   "cell_type": "code",
   "execution_count": 19,
   "metadata": {},
   "outputs": [
    {
     "name": "stdout",
     "output_type": "stream",
     "text": [
      "4352667776 [1, 2, 3, 5, 8, 13]\n",
      "4352667776 [1, 2, 3, 5, 8, 13, 21]\n"
     ]
    }
   ],
   "source": [
    "l = [1, 2, 3, 5, 8, 13]\n",
    "print(id(l), l)\n",
    "l.append(21)\n",
    "print(id(l), l)"
   ]
  },
  {
   "attachments": {},
   "cell_type": "markdown",
   "metadata": {},
   "source": [
    "Likewise, we can also add a new item at an arbitrary position without allocating new memory address, using the method `insert()`. Bear in mind that the position in Python starts from 0, not 1 as we are used to when counting position in real life:"
   ]
  },
  {
   "cell_type": "code",
   "execution_count": 5,
   "metadata": {},
   "outputs": [
    {
     "name": "stdout",
     "output_type": "stream",
     "text": [
      "4407778496 [1, 2, 3, 5, 8, 21]\n",
      "4407778496 [1, 1, 2, 3, 5, 8, 21]\n",
      "4407778496 [1, 1, 2, 3, 5, 8, 13, 21]\n"
     ]
    }
   ],
   "source": [
    "l = [1, 2, 3, 5, 8, 21]\n",
    "print(id(l), l)\n",
    "l.insert(0, 1)\n",
    "print(id(l), l)\n",
    "l.insert(6, 13)\n",
    "print(id(l), l)"
   ]
  },
  {
   "attachments": {},
   "cell_type": "markdown",
   "metadata": {},
   "source": [
    "More on indexing at the end of today's lesson, at section 2.5."
   ]
  },
  {
   "attachments": {},
   "cell_type": "markdown",
   "metadata": {},
   "source": [
    "If we want to add, then we also want to remove items from a list. Python `list` provides two ways of item removal:\n",
    "* Using `pop()` we can remove the value at a given index from the list.\n",
    "* Using `remove()` we can remove an arbitrary value from the list."
   ]
  },
  {
   "cell_type": "code",
   "execution_count": 24,
   "metadata": {},
   "outputs": [
    {
     "name": "stdout",
     "output_type": "stream",
     "text": [
      "4352881600 [1, 2, 3, 5, 8, 13, 21]\n",
      "4352881600 [1, 2, 3, 5, 8, 21]\n",
      "4352881600 [1, 2, 3, 8, 21]\n"
     ]
    }
   ],
   "source": [
    "l = [1, 2, 3, 5, 8, 13, 21]\n",
    "print(id(l), l)\n",
    "l.pop(5) # remove at index 5\n",
    "print(id(l), l)\n",
    "l.remove(5) # remove item with value 5\n",
    "print(id(l), l) "
   ]
  },
  {
   "attachments": {},
   "cell_type": "markdown",
   "metadata": {},
   "source": [
    "We can clear a list:"
   ]
  },
  {
   "cell_type": "code",
   "execution_count": 6,
   "metadata": {},
   "outputs": [
    {
     "name": "stdout",
     "output_type": "stream",
     "text": [
      "[]\n"
     ]
    }
   ],
   "source": [
    "l = [1, 2, 3, 5, 8, 13, 21]\n",
    "while len(l) > 0:\n",
    "    l.pop()\n",
    "print(l)"
   ]
  },
  {
   "cell_type": "code",
   "execution_count": 7,
   "metadata": {},
   "outputs": [
    {
     "name": "stdout",
     "output_type": "stream",
     "text": [
      "[]\n"
     ]
    }
   ],
   "source": [
    "l = [1, 2, 3, 5, 8, 13, 21]\n",
    "l.clear()\n",
    "print(l)"
   ]
  },
  {
   "attachments": {},
   "cell_type": "markdown",
   "metadata": {},
   "source": [
    "Since the list container does not change when we perform the modifications, we can now say that Python `list` is **mutable**."
   ]
  },
  {
   "attachments": {},
   "cell_type": "markdown",
   "metadata": {},
   "source": [
    "Sometimes, we may also need to keep track of `list` of `list`, for instance, the seats inside a cinema can be represented as a `list` of all rows, in which a row is a `list` of all seats in that row. In Python, a `list` of `list` is created simply by putting `list`s inside an outer `list`."
   ]
  },
  {
   "cell_type": "code",
   "execution_count": null,
   "metadata": {},
   "outputs": [],
   "source": [
    "cinema_seats = [\n",
    "    [1, 2, 3, 4, 5], # row A\n",
    "    [1, 2, 3, 4, 5, 6, 7], # row B\n",
    "    [1, 2, 3, 4] # row C\n",
    "]\n",
    "cinema_seats"
   ]
  },
  {
   "cell_type": "code",
   "execution_count": 10,
   "metadata": {},
   "outputs": [
    {
     "data": {
      "text/plain": [
       "[[1, 2, 3, 4, 5, 6], [1, 2, 3, 4, 5, 6, 7], [1, 2, 3, 4]]"
      ]
     },
     "execution_count": 10,
     "metadata": {},
     "output_type": "execute_result"
    }
   ],
   "source": [
    "# append a seat to the first row\n",
    "cinema_seats = [\n",
    "    [1, 2, 3, 4, 5], # row A\n",
    "    [1, 2, 3, 4, 5, 6, 7], # row B\n",
    "    [1, 2, 3, 4] # row C\n",
    "]\n",
    "cinema_seats[0].append(6) # l[index]\n",
    "cinema_seats"
   ]
  },
  {
   "cell_type": "code",
   "execution_count": null,
   "metadata": {},
   "outputs": [],
   "source": [
    "l = [[[], []], [[], []], [[], []]]"
   ]
  },
  {
   "attachments": {},
   "cell_type": "markdown",
   "metadata": {},
   "source": [
    "Of course we can put whatever we can think of inside a `list`. Try to put other stuff inside a list at home, for instance:\n",
    "\n",
    "* a list of `str`\n",
    "* a list of `range`s\n",
    "* a list of 3 lists, each is composed of 2 other lists."
   ]
  },
  {
   "attachments": {},
   "cell_type": "markdown",
   "metadata": {},
   "source": [
    "##### List challenge:\n",
    "Starting with an arbitrary number `n`, generate a `list` of Fibonacci numbers.\n",
    "\n",
    "*Hint: You can use `break` once the `len()` of your Fibonacci list equals to `n`.*\n"
   ]
  },
  {
   "attachments": {},
   "cell_type": "markdown",
   "metadata": {},
   "source": [
    "#### 2.3. `tuple`\n",
    "\n"
   ]
  },
  {
   "attachments": {},
   "cell_type": "markdown",
   "metadata": {},
   "source": [
    "A `tuple` is also a sequence of items that do not necessarily need to be of the same type. There are several key differences between a `tuple` and a `list`:\n",
    "\n",
    "1. A `tuple` is a sequence of comma-separated items within a pair of parentheses `()`, unlike `list` where the square brackets `[]` are employed. Sometimes the parentheses can be omitted, but for now let's keep them on whenever we need a tuple.\n",
    "2. A `tuple` does not support in-place operators (`append()`, `pop()`, `insert()`, `remove()`). There is also no other way to update a tuple in-place --> A tuple is an ***immutable*** collection.\n",
    "3. We can create a tuple from a list: `t = tuple([1, 2, 3])` and vice versa, a list from a tuple: `l = list((1, 2, 3))`."
   ]
  },
  {
   "cell_type": "code",
   "execution_count": 3,
   "metadata": {},
   "outputs": [
    {
     "data": {
      "text/plain": [
       "(1, 1, 2, 3, 5, 8)"
      ]
     },
     "execution_count": 3,
     "metadata": {},
     "output_type": "execute_result"
    }
   ],
   "source": [
    "# create a tuple\n",
    "t = (1, 1, 2, 3, 5, 8)\n",
    "t"
   ]
  },
  {
   "cell_type": "code",
   "execution_count": 14,
   "metadata": {},
   "outputs": [
    {
     "data": {
      "text/plain": [
       "(1,)"
      ]
     },
     "execution_count": 14,
     "metadata": {},
     "output_type": "execute_result"
    }
   ],
   "source": [
    "# a single-element tuple always needs the trailing comma\n",
    "t = (1,)\n",
    "t"
   ]
  },
  {
   "cell_type": "code",
   "execution_count": 4,
   "metadata": {},
   "outputs": [
    {
     "data": {
      "text/plain": [
       "6"
      ]
     },
     "execution_count": 4,
     "metadata": {},
     "output_type": "execute_result"
    }
   ],
   "source": [
    "# getting the number of elements in a tuple\n",
    "t = (1, 1, 2, 3, 5, 8)\n",
    "len(t)"
   ]
  },
  {
   "cell_type": "code",
   "execution_count": 5,
   "metadata": {},
   "outputs": [
    {
     "data": {
      "text/plain": [
       "((1, 2, 3, 4, 5), (1, 2, 3, 4, 5, 6, 7), (1, 2, 3, 4))"
      ]
     },
     "execution_count": 5,
     "metadata": {},
     "output_type": "execute_result"
    }
   ],
   "source": [
    "# it is also possible to create tuple of tuples, similarly to creating list of lists\n",
    "cinema_seats = (\n",
    "    (1, 2, 3, 4, 5), # row A\n",
    "    (1, 2, 3, 4, 5, 6, 7), # row B\n",
    "    (1, 2, 3, 4) # row C\n",
    ")\n",
    "cinema_seats"
   ]
  },
  {
   "attachments": {},
   "cell_type": "markdown",
   "metadata": {},
   "source": [
    "Now you may be asking, why is `tuple` a necessary type in Python? Following are possible justifications:\n",
    "\n",
    "* In terms of memory allocation, a `tuple` has a fixed size because it is immutable and the size calculation is done right at the moment it is created, whereas a `list` has a dynamic size. Using a `tuple` instead of `list` when you have a known number of items will save a lot of memory from dynamic memory allocation that is done when you use `list`. The Python runtime is able to optimize memory allocation on a `tuple` but not on a `list`.\n",
    "* Tuples are immutable collections and are used if we have to represent a fixed sequence of items at a given moment $t_0$. Later on, we will study that function arguments in Python are represented as tuples.\n",
    "* More coming when we study Python functions."
   ]
  },
  {
   "attachments": {},
   "cell_type": "markdown",
   "metadata": {},
   "source": [
    "#### 2.4. Common operations\n",
    "\n",
    "On `list`, `tuple`, there are a few mutual operations:\n",
    "* Concatenation (`+`)\n",
    "* Repeat (`*`)\n",
    "* Inclusive test (`in`, `not in`), also supports `range`\n",
    "* Indexing & Slicing (covered in 2.5)"
   ]
  },
  {
   "attachments": {},
   "cell_type": "markdown",
   "metadata": {},
   "source": [
    "##### 2.4.1. Concatenation\n",
    "\n",
    "Similar to strings, built-in sequences (except for `range`) also support concatenation operations:"
   ]
  },
  {
   "cell_type": "code",
   "execution_count": 6,
   "metadata": {},
   "outputs": [
    {
     "name": "stdout",
     "output_type": "stream",
     "text": [
      "concat l1 with l2:  [1, 2, 3, 4]\n"
     ]
    }
   ],
   "source": [
    "# concatenate lists\n",
    "l1 = [1, 2]\n",
    "l2 = [3, 4]\n",
    "l_concat = l1 + l2\n",
    "print(\"concat l1 with l2: \", l_concat)"
   ]
  },
  {
   "cell_type": "code",
   "execution_count": 13,
   "metadata": {},
   "outputs": [
    {
     "name": "stdout",
     "output_type": "stream",
     "text": [
      "concat t1 with t2:  (1, 2, 3, 4)\n"
     ]
    }
   ],
   "source": [
    "# concatenate tuples\n",
    "t1 = (1, 2)\n",
    "t2 = (3, 4)\n",
    "t_concat = t1 + t2\n",
    "print(\"concat t1 with t2: \", t_concat)"
   ]
  },
  {
   "attachments": {},
   "cell_type": "markdown",
   "metadata": {},
   "source": [
    "##### 2.4.2. Repetition\n",
    "\n",
    "We can create a sequence of repeating elements by using the operator `*`. The syntax is: `sequence * repetition_times`"
   ]
  },
  {
   "cell_type": "code",
   "execution_count": 9,
   "metadata": {},
   "outputs": [
    {
     "name": "stdout",
     "output_type": "stream",
     "text": [
      "repeat l 5 times: [1, 1, 1, 1, 1]\n"
     ]
    }
   ],
   "source": [
    "# repeat a list\n",
    "l = [1]\n",
    "l_5 = l * 5\n",
    "print(\"repeat l 5 times:\", l_5)"
   ]
  },
  {
   "cell_type": "code",
   "execution_count": 12,
   "metadata": {},
   "outputs": [
    {
     "name": "stdout",
     "output_type": "stream",
     "text": [
      "repeat t 5 times: (1, 1, 1, 1, 1)\n"
     ]
    }
   ],
   "source": [
    "# repeat a tuple\n",
    "t = (1,)\n",
    "t_5 = t * 5\n",
    "print(\"repeat t 5 times:\", t_5)"
   ]
  },
  {
   "attachments": {},
   "cell_type": "markdown",
   "metadata": {},
   "source": [
    "##### 2.4.3. Inclusive test\n",
    "\n",
    "For collections, it is natural that we want to check whether an item is included inside a collection. Python provides the `in` and `not in` operators that allow us to check inclusiveness of an element in a collection. The syntax is `<item> in <collection>`, whose value we can assign to a `bool` variable."
   ]
  },
  {
   "cell_type": "code",
   "execution_count": 15,
   "metadata": {},
   "outputs": [
    {
     "data": {
      "text/plain": [
       "True"
      ]
     },
     "execution_count": 15,
     "metadata": {},
     "output_type": "execute_result"
    }
   ],
   "source": [
    "l = [1, 2, 3, 4, 5]\n",
    "1 in l"
   ]
  },
  {
   "cell_type": "code",
   "execution_count": 17,
   "metadata": {},
   "outputs": [
    {
     "data": {
      "text/plain": [
       "True"
      ]
     },
     "execution_count": 17,
     "metadata": {},
     "output_type": "execute_result"
    }
   ],
   "source": [
    "t = (1, 2, 3, 4, 5)\n",
    "4 in t"
   ]
  },
  {
   "cell_type": "code",
   "execution_count": 18,
   "metadata": {},
   "outputs": [
    {
     "data": {
      "text/plain": [
       "False"
      ]
     },
     "execution_count": 18,
     "metadata": {},
     "output_type": "execute_result"
    }
   ],
   "source": [
    "r = range(5)\n",
    "5 in r"
   ]
  },
  {
   "cell_type": "code",
   "execution_count": 11,
   "metadata": {},
   "outputs": [
    {
     "data": {
      "text/plain": [
       "True"
      ]
     },
     "execution_count": 11,
     "metadata": {},
     "output_type": "execute_result"
    }
   ],
   "source": [
    "t = (1, 2, 3, 5)\n",
    "4 not in t"
   ]
  },
  {
   "attachments": {},
   "cell_type": "markdown",
   "metadata": {},
   "source": [
    "##### Challenge:\n",
    "Initialize a tuple of supported strings. Get `input()` from user, then print `Congratulations, we have {answer}!` if the user enters a string that is existent in the tuple, and `Sorry, {answer} is not supported!` otherwise.\n"
   ]
  },
  {
   "attachments": {},
   "cell_type": "markdown",
   "metadata": {},
   "source": [
    "#### 2.5. Indexing & Slicing\n",
    "\n",
    "***Indexing*** refers to getting a single item from a sequence at a given position, whereas ***slicing*** gives us a subset of items of a sequence."
   ]
  },
  {
   "attachments": {},
   "cell_type": "markdown",
   "metadata": {},
   "source": [
    "##### 2.5.1. Indexing"
   ]
  },
  {
   "attachments": {},
   "cell_type": "markdown",
   "metadata": {},
   "source": [
    "An index is the position of an item in a sequence. For instance, given the following list:\n",
    "```\n",
    "[1, 2, 3, 5, 8, 13]\n",
    "```\n",
    "The respective indices would be: \n",
    "```\n",
    "[0, 1, 2, 3, 4, 5]\n",
    "```\n",
    "Why starting from 0? Similar to C, Java and many others, Python uses 0-based index system to take advantage of unsigned integers which start from 0.\n",
    "\n",
    "Getting an element given its index is easy. You put the desired index inside a pair of square brackets to build the indexing notation, then put the indexing notation after the name of a sequence variable:"
   ]
  },
  {
   "cell_type": "code",
   "execution_count": 2,
   "metadata": {},
   "outputs": [
    {
     "name": "stdout",
     "output_type": "stream",
     "text": [
      "l[0] = 1\n"
     ]
    }
   ],
   "source": [
    "l = [1, 1, 3, 7, 15, 31, 63]\n",
    "print(\"l[0] =\", l[0])"
   ]
  },
  {
   "attachments": {},
   "cell_type": "markdown",
   "metadata": {},
   "source": [
    "If you try to access an index that is beyond the last index of the list, Python runtime will complain and tell us that the index we are trying to access is **out of range**:"
   ]
  },
  {
   "cell_type": "code",
   "execution_count": 12,
   "metadata": {},
   "outputs": [
    {
     "ename": "IndexError",
     "evalue": "list index out of range",
     "output_type": "error",
     "traceback": [
      "\u001b[0;31m---------------------------------------------------------------------------\u001b[0m",
      "\u001b[0;31mIndexError\u001b[0m                                Traceback (most recent call last)",
      "Cell \u001b[0;32mIn[12], line 2\u001b[0m\n\u001b[1;32m      1\u001b[0m l \u001b[39m=\u001b[39m [\u001b[39m1\u001b[39m, \u001b[39m1\u001b[39m, \u001b[39m3\u001b[39m, \u001b[39m7\u001b[39m, \u001b[39m15\u001b[39m, \u001b[39m31\u001b[39m, \u001b[39m63\u001b[39m]\n\u001b[0;32m----> 2\u001b[0m \u001b[39mprint\u001b[39m(\u001b[39m\"\u001b[39m\u001b[39ml[7] =\u001b[39m\u001b[39m\"\u001b[39m, l[\u001b[39m7\u001b[39;49m])\n",
      "\u001b[0;31mIndexError\u001b[0m: list index out of range"
     ]
    }
   ],
   "source": [
    "l = [1, 1, 3, 7, 15, 31, 63]\n",
    "print(\"l[7] =\", l[7])"
   ]
  },
  {
   "attachments": {},
   "cell_type": "markdown",
   "metadata": {},
   "source": [
    "This is the same across the board. However, Python's index is different from that of other languages in that it can index with ***negative*** indices. Let's look at the following example:"
   ]
  },
  {
   "cell_type": "code",
   "execution_count": 7,
   "metadata": {},
   "outputs": [
    {
     "name": "stdout",
     "output_type": "stream",
     "text": [
      "l[-2] = 31\n"
     ]
    }
   ],
   "source": [
    "l = [1, 1, 3, 7, 15, 31, 63]\n",
    "print(\"l[-2] =\", l[-2])"
   ]
  },
  {
   "attachments": {},
   "cell_type": "markdown",
   "metadata": {},
   "source": [
    "Python uses negative index to reverse index the sequence. Of course this will come in handy, because if you want to achieve the same thing in C or Java, you will need to do:\n",
    "```(java)\n",
    "l[l.length - 2]\n",
    "```\n",
    "Of course, reverse indexing does not make our indices extend more than the initial range. Therefore Python will still complain if you input a smalller negative index which is less than `-len(l)`:"
   ]
  },
  {
   "cell_type": "code",
   "execution_count": 8,
   "metadata": {},
   "outputs": [
    {
     "ename": "IndexError",
     "evalue": "list index out of range",
     "output_type": "error",
     "traceback": [
      "\u001b[0;31m---------------------------------------------------------------------------\u001b[0m",
      "\u001b[0;31mIndexError\u001b[0m                                Traceback (most recent call last)",
      "Cell \u001b[0;32mIn[8], line 2\u001b[0m\n\u001b[1;32m      1\u001b[0m l \u001b[39m=\u001b[39m [\u001b[39m1\u001b[39m, \u001b[39m1\u001b[39m, \u001b[39m3\u001b[39m, \u001b[39m7\u001b[39m, \u001b[39m15\u001b[39m, \u001b[39m31\u001b[39m, \u001b[39m63\u001b[39m]\n\u001b[0;32m----> 2\u001b[0m \u001b[39mprint\u001b[39m(\u001b[39m\"\u001b[39m\u001b[39ml[-8] =\u001b[39m\u001b[39m\"\u001b[39m, l[\u001b[39m-\u001b[39;49m\u001b[39m8\u001b[39;49m])\n",
      "\u001b[0;31mIndexError\u001b[0m: list index out of range"
     ]
    }
   ],
   "source": [
    "l = [1, 1, 3, 7, 15, 31, 63]\n",
    "print(\"l[-8] =\", l[-8])"
   ]
  },
  {
   "attachments": {},
   "cell_type": "markdown",
   "metadata": {},
   "source": [
    "#### 2.5.2. Slicing\n"
   ]
  },
  {
   "attachments": {},
   "cell_type": "markdown",
   "metadata": {},
   "source": [
    "If indexing helps us retrieve a single item at a single position from a sequence, slicing gives us a sub-sequence of a sequence."
   ]
  },
  {
   "cell_type": "code",
   "execution_count": 13,
   "metadata": {},
   "outputs": [
    {
     "data": {
      "text/plain": [
       "[1, 1, 3]"
      ]
     },
     "execution_count": 13,
     "metadata": {},
     "output_type": "execute_result"
    }
   ],
   "source": [
    "l = [1, 1, 3, 7, 15, 31, 63]\n",
    "\n",
    "# a slice notation always comes with a colon \":\"\n",
    "l[0:3]"
   ]
  },
  {
   "attachments": {},
   "cell_type": "markdown",
   "metadata": {},
   "source": [
    "A basic slice has the form: `start_index:end_index`, where `end_index` is exclusive. If a range starts from index 0, we can omit the `start_index`."
   ]
  },
  {
   "cell_type": "code",
   "execution_count": 16,
   "metadata": {},
   "outputs": [
    {
     "name": "stdout",
     "output_type": "stream",
     "text": [
      "[1, 1]\n"
     ]
    }
   ],
   "source": [
    "l = [1, 1, 3, 7, 15, 31, 63]\n",
    "\n",
    "# get first 5 items\n",
    "first_five_items = l[:5]\n",
    "print(first_five_items)"
   ]
  },
  {
   "attachments": {},
   "cell_type": "markdown",
   "metadata": {},
   "source": [
    "If a range ends at the last index, we can omit the `end_index`."
   ]
  },
  {
   "cell_type": "code",
   "execution_count": 17,
   "metadata": {},
   "outputs": [
    {
     "name": "stdout",
     "output_type": "stream",
     "text": [
      "[3, 7, 15, 31, 63]\n"
     ]
    }
   ],
   "source": [
    "l = [1, 1, 3, 7, 15, 31, 63]\n",
    "\n",
    "# get items starting from index 2\n",
    "starting_from_index_2 = l[2:]\n",
    "print(starting_from_index_2)"
   ]
  },
  {
   "attachments": {},
   "cell_type": "markdown",
   "metadata": {},
   "source": [
    "We can use negative index in slices."
   ]
  },
  {
   "cell_type": "code",
   "execution_count": 18,
   "metadata": {},
   "outputs": [
    {
     "name": "stdout",
     "output_type": "stream",
     "text": [
      "[3, 7, 15, 31, 63]\n"
     ]
    }
   ],
   "source": [
    "l = [1, 1, 3, 7, 15, 31, 63]\n",
    "\n",
    "# get last 5 items\n",
    "last_five_items = l[-5:]\n",
    "print(last_five_items)"
   ]
  },
  {
   "cell_type": "code",
   "execution_count": 22,
   "metadata": {},
   "outputs": [
    {
     "name": "stdout",
     "output_type": "stream",
     "text": [
      "[]\n",
      "[1, 2]\n",
      "[1, 2, 4]\n",
      "[1, 2, 4, 8]\n"
     ]
    }
   ],
   "source": [
    "# creating a copy using slices\n",
    "l = []\n",
    "\n",
    "snapshot_1 = l[:] # a.k.a copying\n",
    "l.append(1)\n",
    "l.append(2)\n",
    "snapshot_2 = l[:]\n",
    "l.append(4)\n",
    "snapshot_3 = l[:]\n",
    "l.append(8)\n",
    "\n",
    "print(snapshot_1)\n",
    "print(snapshot_2)\n",
    "print(snapshot_3)\n",
    "print(l)"
   ]
  },
  {
   "attachments": {},
   "cell_type": "markdown",
   "metadata": {},
   "source": [
    "By observation, we see that slicing always creates new lists if we apply on lists."
   ]
  },
  {
   "attachments": {},
   "cell_type": "markdown",
   "metadata": {},
   "source": [
    "#### 2.6. `str` is a Sequence!"
   ]
  },
  {
   "attachments": {},
   "cell_type": "markdown",
   "metadata": {},
   "source": [
    "Similar to `tuple` and `list`, a `str` also supports indexing and slicing."
   ]
  },
  {
   "cell_type": "code",
   "execution_count": 28,
   "metadata": {},
   "outputs": [
    {
     "name": "stdout",
     "output_type": "stream",
     "text": [
      "first character: t\n",
      "last character: g\n",
      "first 4 characters: this\n",
      "last 6 characters: string\n",
      "string copy: this is my string\n"
     ]
    }
   ],
   "source": [
    "s = \"this is my string\"\n",
    "# s = (\"t\", \"h\", \"i\", \"s\", \" \", \"i\", \"s\", \" \", \"m\", \"y\", \" \", \"s\", \"t\", \"r\", \"i\", \"n\", \"g\")\n",
    "print(\"first character:\", s[0])\n",
    "print(\"last character:\", s[-1])\n",
    "\n",
    "print(\"first 4 characters:\", s[:4])\n",
    "print(\"last 6 characters:\", s[-6:])\n",
    "print(\"string copy:\", s[:]) # in C: strcpy"
   ]
  },
  {
   "attachments": {},
   "cell_type": "markdown",
   "metadata": {},
   "source": [
    "### Challenge"
   ]
  },
  {
   "attachments": {},
   "cell_type": "markdown",
   "metadata": {},
   "source": [
    "Perform all those steps in a single Python script:\n",
    "\n",
    "1. Write a program to generate all square numbers between 1 and 1000, using `while` loop and `list` data structure.\n",
    "2. Get the first 3 items into a variable named `first_3_items` and the last 5 items into a variable named `last_5_items`.\n",
    "3. Concatenate `first_3_items` and `last_5_items` into a variable named `random_8_items`.\n",
    "4. Calculate the sum of all elements of `random_8_items`."
   ]
  }
 ],
 "metadata": {
  "kernelspec": {
   "display_name": "Python 3",
   "language": "python",
   "name": "python3"
  },
  "language_info": {
   "codemirror_mode": {
    "name": "ipython",
    "version": 3
   },
   "file_extension": ".py",
   "mimetype": "text/x-python",
   "name": "python",
   "nbconvert_exporter": "python",
   "pygments_lexer": "ipython3",
   "version": "3.9.7"
  },
  "orig_nbformat": 4
 },
 "nbformat": 4,
 "nbformat_minor": 2
}
