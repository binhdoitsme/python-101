{
 "cells": [
  {
   "attachments": {},
   "cell_type": "markdown",
   "metadata": {},
   "source": [
    "## Topic 1.0: Prologue - The Python language\n",
    "\n",
    "Some common features that appear in Python language but do not make their way into topics will be presented here."
   ]
  },
  {
   "attachments": {},
   "cell_type": "markdown",
   "metadata": {},
   "source": [
    "### 1. What is Python?\n",
    "\n",
    "Python is essentially a wrapper language over C/C++ code. Python language is executed by an `interpreter`, the most popular instance of which is the C interpreter. It is `interpreted`, means that there is no separated `compilation` process which outputs `compiled` binary code that later gets `executed`, but the `compilation` and `execution` both take place when you start a Python script."
   ]
  },
  {
   "attachments": {},
   "cell_type": "markdown",
   "metadata": {},
   "source": [
    "### 2. Code blocks\n",
    "\n",
    "Python, similarly to other languages (including its underlying language C/C++) have the notion of `code blocks`. However, unlike in other languages where blocks of code are denoted by a pair of `curly brackets {}`, Python chooses to denote code blocks using a `colon (:)` and an `indentation`. The indentation only needs to be standardized within one script file, but according to Python's PEP8 style guidelines, one indentaion level should equal 4 spaces. Following is one common code block we may encounter in Python:"
   ]
  },
  {
   "cell_type": "code",
   "execution_count": null,
   "metadata": {},
   "outputs": [],
   "source": [
    "if __name__ == \"__main__\":\n",
    "    ready = True\n",
    "    if ready:\n",
    "        print(\"inside Main...\")"
   ]
  },
  {
   "attachments": {},
   "cell_type": "markdown",
   "metadata": {},
   "source": [
    "### 3. Commenting\n",
    "\n",
    "A `comment` is a code segment that only makes sense to human and is ignored at runtime. It is often used to add more explanation to a block of code.\n",
    "\n",
    "Python provides two ways of writing `comments`:\n",
    "* Single-line comment: Using the `hash` symbol before the comment. Like this: `# this is a Python comment`\n",
    "* Multi-line comment: You can use triple-quote notation, like this:\n",
    "  ```\n",
    "  '''\n",
    "  This is a multi-line comment.\n",
    "  '''\n",
    "  ```\n",
    "  Looks just like an ordinary string. As you may guess, an ordinary string can also be a comment if it is not assigned to any variable."
   ]
  },
  {
   "attachments": {},
   "cell_type": "markdown",
   "metadata": {},
   "source": [
    "### 4. Jupyter notebook and Python files\n",
    "\n",
    "Python is a scripting language, so it supports a REPL (read-eval-print-loop) development environment. In this environment, you can interactively issue Python statements and they get executed right away, without having to run the whole Python file. The REPL environment in Python can be accessed by calling the Python executable.\n",
    "\n",
    "__Jupyter notebook__ takes the idea of REPL even further, by introducing Markdown support. That makes it possible for users to take very detailed notes of how they work with Python (like I am doing now). Users can also run individual code blocks easily, without having to split the flow between multiple files. Jupyter notebook extension is `.ipynb` and it is widely supported in version control systems (e.g. Github) and other systems like __Google Colab__.\n"
   ]
  }
 ],
 "metadata": {
  "language_info": {
   "name": "python"
  },
  "orig_nbformat": 4
 },
 "nbformat": 4,
 "nbformat_minor": 2
}
