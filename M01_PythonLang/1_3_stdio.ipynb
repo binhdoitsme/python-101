{
 "cells": [
  {
   "attachments": {},
   "cell_type": "markdown",
   "metadata": {},
   "source": [
    "## Topic 1.3: Standard IO\n",
    "\n",
    "Standard IO is the most fundamental way we can interact with our software by means of terminal prompt. In addition to standard IO, later we will learn about how to use other IO such as File IO, Socket IO, etc."
   ]
  },
  {
   "attachments": {},
   "cell_type": "markdown",
   "metadata": {},
   "source": [
    "### 1. Standard output\n",
    "Standard output can be easily invoked by the `print` statement. The `print` function provide several ways to manipulate the outputs, which we can see in the following code blocks."
   ]
  },
  {
   "cell_type": "code",
   "execution_count": 1,
   "metadata": {},
   "outputs": [
    {
     "name": "stdout",
     "output_type": "stream",
     "text": [
      "1\n"
     ]
    }
   ],
   "source": [
    "# print one value\n",
    "x = 1\n",
    "print(x)"
   ]
  },
  {
   "cell_type": "code",
   "execution_count": 2,
   "metadata": {},
   "outputs": [
    {
     "name": "stdout",
     "output_type": "stream",
     "text": [
      "1 2 3\n"
     ]
    }
   ],
   "source": [
    "# print multiple values\n",
    "x = 1\n",
    "y = 2\n",
    "z = 3\n",
    "print(x, y, z)"
   ]
  },
  {
   "cell_type": "code",
   "execution_count": 5,
   "metadata": {},
   "outputs": [
    {
     "name": "stdout",
     "output_type": "stream",
     "text": [
      "1,2,3\n",
      "1,2,3\n"
     ]
    }
   ],
   "source": [
    "# print with custom separator\n",
    "x = 1\n",
    "y = 2\n",
    "z = 3\n",
    "print(x, y, z, sep=\",\")\n",
    "print(x, y, z, sep=\",\")"
   ]
  },
  {
   "cell_type": "code",
   "execution_count": 6,
   "metadata": {},
   "outputs": [
    {
     "name": "stdout",
     "output_type": "stream",
     "text": [
      "1,2,3;1,2,3\n"
     ]
    }
   ],
   "source": [
    "# print with custom ending\n",
    "x = 1\n",
    "y = 2\n",
    "z = 3\n",
    "print(x, y, z, sep=\",\", end=\";\")\n",
    "print(x, y, z, sep=\",\")"
   ]
  },
  {
   "attachments": {},
   "cell_type": "markdown",
   "metadata": {},
   "source": [
    "In later topics, we will learn that `print` can also redirect our output to a file, or even as a message to a far-away system! However, for now, let's just stick with its easiest usage, which is to output to the terminal."
   ]
  },
  {
   "attachments": {},
   "cell_type": "markdown",
   "metadata": {},
   "source": [
    "### 2. Standard input\n",
    "\n",
    "The standard input is invoked by using the `input` statement. There are other ways to obtain input, which will be discussed in later topics related to File IO and other IO mechanisms."
   ]
  },
  {
   "cell_type": "code",
   "execution_count": 7,
   "metadata": {},
   "outputs": [
    {
     "name": "stdout",
     "output_type": "stream",
     "text": [
      "iiiiiiiiii <class 'str'>\n"
     ]
    }
   ],
   "source": [
    "s = input(\"enter something\")\n",
    "print(s, type(s))"
   ]
  },
  {
   "attachments": {},
   "cell_type": "markdown",
   "metadata": {},
   "source": [
    "Remember, the `input` function **always returns a string**!\n",
    "\n",
    "Never forget to type-cast input values into numbers before performing numerical calculations!"
   ]
  }
 ],
 "metadata": {
  "kernelspec": {
   "display_name": "Python 3",
   "language": "python",
   "name": "python3"
  },
  "language_info": {
   "codemirror_mode": {
    "name": "ipython",
    "version": 3
   },
   "file_extension": ".py",
   "mimetype": "text/x-python",
   "name": "python",
   "nbconvert_exporter": "python",
   "pygments_lexer": "ipython3",
   "version": "3.9.7"
  },
  "orig_nbformat": 4
 },
 "nbformat": 4,
 "nbformat_minor": 2
}
